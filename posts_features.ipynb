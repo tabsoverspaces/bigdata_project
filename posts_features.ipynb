{
 "cells": [
  {
   "cell_type": "code",
   "execution_count": 1,
   "metadata": {
    "ExecuteTime": {
     "end_time": "2019-01-26T12:02:01.546861Z",
     "start_time": "2019-01-26T12:02:00.454397Z"
    }
   },
   "outputs": [],
   "source": [
    "# import dask bag\n",
    "import dask.dataframe as dd\n",
    "import numpy as np\n",
    "import pandas as pd\n",
    "    "
   ]
  },
  {
   "cell_type": "markdown",
   "metadata": {},
   "source": [
    "Data loading:"
   ]
  },
  {
   "cell_type": "code",
   "execution_count": 2,
   "metadata": {
    "ExecuteTime": {
     "end_time": "2019-01-26T12:02:01.682352Z",
     "start_time": "2019-01-26T12:02:01.548918Z"
    }
   },
   "outputs": [
    {
     "name": "stderr",
     "output_type": "stream",
     "text": [
      "/home/wojtek/.local/lib/python3.6/site-packages/dask/dataframe/io/csv.py:325: UserWarning: Warning xz compression does not support breaking apart files\n",
      "Please ensure that each individual file can fit in memory and\n",
      "use the keyword ``blocksize=None to remove this message``\n",
      "Setting ``blocksize=None``\n",
      "  \"Setting ``blocksize=None``\" % compression)\n"
     ]
    }
   ],
   "source": [
    "# posts\n",
    "posts = dd.read_csv(\"PostsFrame-0.csv.tar.xz\",compression=\"xz\",blocksize=1024000)\n",
    "\n",
    "# remove unnecessary dataframe columns\n",
    "posts = posts.drop(['CreationDate','LastActivityDate'], axis=1)\n",
    "\n",
    "# smaller frame for testing purposes\n",
    "#test_posts = posts.sample(frac=0.01) # comment to preserve some memory\n"
   ]
  },
  {
   "cell_type": "code",
   "execution_count": 3,
   "metadata": {
    "ExecuteTime": {
     "end_time": "2019-01-26T12:02:01.686018Z",
     "start_time": "2019-01-26T12:02:01.684138Z"
    }
   },
   "outputs": [],
   "source": [
    "# users\n",
    "#users = dd.read_csv(\"UsersFrame-0.csv.tar.xz\",compression=\"xz\",blocksize=None)\n",
    "\n",
    "# remove unnecessary dataframe columns\n",
    "#users = users.drop(['DisplayName','CreationDate','LastAccessDate'], axis=1)\n"
   ]
  },
  {
   "cell_type": "code",
   "execution_count": 4,
   "metadata": {
    "ExecuteTime": {
     "end_time": "2019-01-26T12:02:01.777404Z",
     "start_time": "2019-01-26T12:02:01.687560Z"
    },
    "scrolled": true
   },
   "outputs": [],
   "source": [
    "# duplicates\n",
    "#duplicate = dd.read_csv(\"DuplicateFrame-0.csv.tar.xz\",compression=\"xz\",blocksize=None)\n",
    "\n",
    "# remove unnecessary dataframe columns\n",
    "#duplicate = duplicate.drop(['CreationDate','LinkTypeId'], axis=1)"
   ]
  },
  {
   "cell_type": "code",
   "execution_count": 5,
   "metadata": {
    "ExecuteTime": {
     "end_time": "2019-01-26T12:02:01.997212Z",
     "start_time": "2019-01-26T12:02:01.778876Z"
    }
   },
   "outputs": [],
   "source": [
    "# tags\n",
    "tags = dd.read_csv(\"TagsFrame-0.csv.tar.xz\",compression=\"xz\",blocksize=None)"
   ]
  },
  {
   "cell_type": "code",
   "execution_count": 6,
   "metadata": {
    "ExecuteTime": {
     "end_time": "2019-01-26T12:02:02.133075Z",
     "start_time": "2019-01-26T12:02:01.998887Z"
    }
   },
   "outputs": [],
   "source": [
    "# bounty\n",
    "bounty = dd.read_csv(\"BountyFrame-0.csv.tar.xz\",compression=\"xz\",blocksize=None)\n",
    "\n",
    "# remove unnecessary dataframe columns\n",
    "bounty = bounty.drop(['VoteTypeId','CreationDate', 'Id'], axis=1)\n",
    "\n",
    "# add a column to the bounty frame \n",
    "# we join this with the posts later\n",
    "bounty = bounty.assign(hasBounty = True)"
   ]
  },
  {
   "cell_type": "code",
   "execution_count": 7,
   "metadata": {
    "ExecuteTime": {
     "end_time": "2019-01-26T12:02:02.175753Z",
     "start_time": "2019-01-26T12:02:02.134675Z"
    }
   },
   "outputs": [],
   "source": [
    "# badges\n",
    "#badgesAggregate = dd.read_csv(\"BadgesAggregatedFrame-0.csv.tar.xz\",compression=\"xz\",blocksize=None)"
   ]
  },
  {
   "cell_type": "code",
   "execution_count": 8,
   "metadata": {
    "ExecuteTime": {
     "end_time": "2019-01-26T12:02:02.264914Z",
     "start_time": "2019-01-26T12:02:02.177385Z"
    }
   },
   "outputs": [],
   "source": [
    "# join users with badges count\n",
    "#usersWithBadges = users.set_index('Id').join(badgesAggregate.set_index('UserId'))"
   ]
  },
  {
   "cell_type": "markdown",
   "metadata": {},
   "source": [
    "Calculations:"
   ]
  },
  {
   "cell_type": "code",
   "execution_count": 9,
   "metadata": {
    "ExecuteTime": {
     "end_time": "2019-01-26T12:03:25.548126Z",
     "start_time": "2019-01-26T12:02:02.266550Z"
    }
   },
   "outputs": [],
   "source": [
    "# join posts with bounty info(result is an extra column with True and NaN values, fix this later)\n",
    "posts = posts.set_index('Id').join(bounty.set_index('PostId'))"
   ]
  },
  {
   "cell_type": "code",
   "execution_count": 10,
   "metadata": {
    "ExecuteTime": {
     "end_time": "2019-01-26T12:03:25.818107Z",
     "start_time": "2019-01-26T12:03:25.593015Z"
    }
   },
   "outputs": [
    {
     "name": "stderr",
     "output_type": "stream",
     "text": [
      "/home/wojtek/.local/lib/python3.6/site-packages/dask/dataframe/core.py:3014: UserWarning: `meta` is not specified, inferred from partial data. Please provide `meta` if the result is unexpected.\n",
      "  Before: .apply(func)\n",
      "  After:  .apply(func, meta={'x': 'f8', 'y': 'f8'}) for dataframe result\n",
      "  or:     .apply(func, meta=('x', 'f8'))            for series result\n",
      "  warnings.warn(msg)\n"
     ]
    }
   ],
   "source": [
    "# handle bounties\n",
    "# this fixes all the NaN values in the bounty column\n",
    "# puts them to False\n",
    "def fixBounty(row):\n",
    "    \n",
    "    bountyVal = row.hasBounty\n",
    "    \n",
    "    # this checks if the value of hasBounty\n",
    "    # for the current row is NaN\n",
    "    if(bountyVal != bountyVal):\n",
    "        return(False)\n",
    "    \n",
    "    return bountyVal\n",
    "        \n",
    "posts['bounty'] = posts.apply(fixBounty, axis=1)\n",
    "\n",
    "# remove joined column, we will use the new one with False/True instead(cleaned from NaN values)\n",
    "posts = posts.drop('hasBounty', axis=1)"
   ]
  },
  {
   "cell_type": "code",
   "execution_count": 11,
   "metadata": {
    "ExecuteTime": {
     "end_time": "2019-01-26T12:03:26.114974Z",
     "start_time": "2019-01-26T12:03:25.822360Z"
    }
   },
   "outputs": [],
   "source": [
    "# tags dictionary with tagname and tagcount\n",
    "# we create a dictionary of all the tags and their count\n",
    "\n",
    "tagDict = dict()\n",
    "for row in tags.itertuples():\n",
    "    tagName = getattr(row,'TagName')\n",
    "    tagCount = getattr(row,'Count')\n",
    "    \n",
    "    tagDict[tagName]=tagCount"
   ]
  },
  {
   "cell_type": "code",
   "execution_count": 12,
   "metadata": {
    "ExecuteTime": {
     "end_time": "2019-01-26T12:03:26.561120Z",
     "start_time": "2019-01-26T12:03:26.118152Z"
    }
   },
   "outputs": [
    {
     "name": "stdout",
     "output_type": "stream",
     "text": [
      "Done\n"
     ]
    }
   ],
   "source": [
    "# tags handling\n",
    "# accumulating tags value for each list of tags for each row\n",
    "    \n",
    "def calculateTagsAggregate(row):\n",
    "    tags = row.Tags\n",
    "    \n",
    "    # split the tag string by the closing tag\n",
    "    tagsList = tags.split('>')\n",
    "    \n",
    "    # remove the last empty element\n",
    "    # which the prev function creates\n",
    "    tagsList = tagsList[:-1]\n",
    "    \n",
    "    finList = list()\n",
    "    # clear the opening tag from each element\n",
    "    finList = [item[1:] for item in tagsList]\n",
    "    \n",
    "    # start counting with the use of the dict\n",
    "    tag_sum = 0\n",
    "    for tag in finList:\n",
    "        tagVal = tagDict.get(tag)\n",
    "        \n",
    "        if(tagVal == None):\n",
    "            tagVal = 0\n",
    "        \n",
    "        tag_sum += tagVal\n",
    "        \n",
    "    return(tag_sum)\n",
    "    \n",
    "    \n",
    "posts['tagsAggregate'] = posts.apply(calculateTagsAggregate, axis=1)\n",
    "\n",
    "# drop tags column from frame since no longer necessary\n",
    "posts = posts.drop('Tags', axis=1)\n",
    "\n",
    "print('Done')"
   ]
  },
  {
   "cell_type": "code",
   "execution_count": null,
   "metadata": {},
   "outputs": [],
   "source": []
  },
  {
   "cell_type": "code",
   "execution_count": 13,
   "metadata": {
    "ExecuteTime": {
     "end_time": "2019-01-26T12:03:26.582558Z",
     "start_time": "2019-01-26T12:03:26.563622Z"
    }
   },
   "outputs": [],
   "source": [
    "# change answerID to 0/1 (answered/not answered)\n",
    "def changeAnswered(row):\n",
    "    answerID = row.AcceptedAnswerId\n",
    "    \n",
    "    if(answerID==0):\n",
    "        return False\n",
    "    else:\n",
    "        return True\n",
    "    \n",
    "posts['isAnswered'] = posts.apply(changeAnswered, axis=1)\n",
    "posts = posts.drop('AcceptedAnswerId', axis=1)\n",
    "\n"
   ]
  },
  {
   "cell_type": "code",
   "execution_count": null,
   "metadata": {
    "ExecuteTime": {
     "start_time": "2019-01-26T12:07:35.123Z"
    }
   },
   "outputs": [],
   "source": [
    "posts.head(n=20, npartitions=2)"
   ]
  },
  {
   "cell_type": "markdown",
   "metadata": {},
   "source": [
    "Plotting :"
   ]
  },
  {
   "cell_type": "code",
   "execution_count": 15,
   "metadata": {
    "ExecuteTime": {
     "end_time": "2019-01-26T12:03:28.120988Z",
     "start_time": "2019-01-26T12:03:26.686140Z"
    }
   },
   "outputs": [],
   "source": [
    "import matplotlib.pyplot as plt"
   ]
  },
  {
   "cell_type": "code",
   "execution_count": null,
   "metadata": {
    "ExecuteTime": {
     "start_time": "2019-01-26T12:02:00.517Z"
    }
   },
   "outputs": [],
   "source": [
    "# load under these variables the Series that you use\n",
    "# in the plot that you are about to draw\n",
    "param1 = posts['bounty'].compute() # example\n",
    "param2 = posts['BlocksCount'].compute() # example\n",
    "\n",
    "# this block takes 5-10minutes\n",
    "\n"
   ]
  },
  {
   "cell_type": "code",
   "execution_count": null,
   "metadata": {
    "ExecuteTime": {
     "start_time": "2019-01-26T12:02:00.518Z"
    }
   },
   "outputs": [],
   "source": [
    "answered = posts['isAnswered'].compute() # this is the main series we need, we use it as factor \n",
    "# this block also takes 5 minutes or so"
   ]
  },
  {
   "cell_type": "code",
   "execution_count": null,
   "metadata": {},
   "outputs": [],
   "source": []
  },
  {
   "cell_type": "code",
   "execution_count": null,
   "metadata": {},
   "outputs": [],
   "source": []
  },
  {
   "cell_type": "code",
   "execution_count": null,
   "metadata": {},
   "outputs": [],
   "source": []
  },
  {
   "cell_type": "code",
   "execution_count": null,
   "metadata": {},
   "outputs": [],
   "source": []
  },
  {
   "cell_type": "code",
   "execution_count": null,
   "metadata": {},
   "outputs": [],
   "source": []
  },
  {
   "cell_type": "code",
   "execution_count": null,
   "metadata": {},
   "outputs": [],
   "source": []
  },
  {
   "cell_type": "code",
   "execution_count": null,
   "metadata": {},
   "outputs": [],
   "source": []
  },
  {
   "cell_type": "code",
   "execution_count": null,
   "metadata": {},
   "outputs": [],
   "source": [
    "\n",
    "    \n"
   ]
  },
  {
   "cell_type": "code",
   "execution_count": null,
   "metadata": {},
   "outputs": [],
   "source": []
  },
  {
   "cell_type": "code",
   "execution_count": null,
   "metadata": {},
   "outputs": [],
   "source": []
  },
  {
   "cell_type": "code",
   "execution_count": null,
   "metadata": {},
   "outputs": [],
   "source": []
  },
  {
   "cell_type": "code",
   "execution_count": null,
   "metadata": {},
   "outputs": [],
   "source": []
  },
  {
   "cell_type": "code",
   "execution_count": null,
   "metadata": {},
   "outputs": [],
   "source": []
  },
  {
   "cell_type": "code",
   "execution_count": null,
   "metadata": {},
   "outputs": [],
   "source": []
  }
 ],
 "metadata": {
  "kernelspec": {
   "display_name": "Python 3",
   "language": "python",
   "name": "python3"
  },
  "language_info": {
   "codemirror_mode": {
    "name": "ipython",
    "version": 3
   },
   "file_extension": ".py",
   "mimetype": "text/x-python",
   "name": "python",
   "nbconvert_exporter": "python",
   "pygments_lexer": "ipython3",
   "version": "3.6.8"
  }
 },
 "nbformat": 4,
 "nbformat_minor": 2
}
