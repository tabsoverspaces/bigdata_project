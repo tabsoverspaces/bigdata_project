{
 "cells": [
  {
   "cell_type": "code",
   "execution_count": 1,
   "metadata": {},
   "outputs": [],
   "source": [
    "# import dask bag\n",
    "import dask.dataframe as dd\n",
    "import numpy as np\n",
    "import pandas as pd\n",
    "    "
   ]
  },
  {
   "cell_type": "markdown",
   "metadata": {},
   "source": [
    "Data loading:"
   ]
  },
  {
   "cell_type": "code",
   "execution_count": 2,
   "metadata": {},
   "outputs": [],
   "source": [
    "# posts\n",
    "posts = dd.read_csv(\"PostsFrame-0.csv.tar.xz\",compression=\"xz\",blocksize=None)\n",
    "\n",
    "# remove unnecessary dataframe columns\n",
    "posts = posts.drop(['CreationDate','LastActivityDate'], axis=1)\n",
    "\n",
    "# smaller frame for testing purposes\n",
    "#test_posts = posts.sample(frac=0.01) # comment to preserve some memory\n"
   ]
  },
  {
   "cell_type": "code",
   "execution_count": 3,
   "metadata": {},
   "outputs": [],
   "source": [
    "# users\n",
    "#users = dd.read_csv(\"UsersFrame-0.csv.tar.xz\",compression=\"xz\",blocksize=None)\n",
    "\n",
    "# remove unnecessary dataframe columns\n",
    "#users = users.drop(['DisplayName','CreationDate','LastAccessDate'], axis=1)\n"
   ]
  },
  {
   "cell_type": "code",
   "execution_count": 4,
   "metadata": {
    "scrolled": true
   },
   "outputs": [],
   "source": [
    "# duplicates\n",
    "#duplicate = dd.read_csv(\"DuplicateFrame-0.csv.tar.xz\",compression=\"xz\",blocksize=None)\n",
    "\n",
    "# remove unnecessary dataframe columns\n",
    "#duplicate = duplicate.drop(['CreationDate','LinkTypeId'], axis=1)"
   ]
  },
  {
   "cell_type": "code",
   "execution_count": 5,
   "metadata": {},
   "outputs": [],
   "source": [
    "# tags\n",
    "tags = dd.read_csv(\"TagsFrame-0.csv.tar.xz\",compression=\"xz\",blocksize=None)"
   ]
  },
  {
   "cell_type": "code",
   "execution_count": 6,
   "metadata": {},
   "outputs": [],
   "source": [
    "# bounty\n",
    "bounty = dd.read_csv(\"BountyFrame-0.csv.tar.xz\",compression=\"xz\",blocksize=None)\n",
    "\n",
    "# remove unnecessary dataframe columns\n",
    "bounty = bounty.drop(['VoteTypeId','CreationDate', 'Id'], axis=1)\n",
    "\n",
    "# add a column to the bounty frame \n",
    "# we join this with the posts later\n",
    "bounty = bounty.assign(hasBounty = True)"
   ]
  },
  {
   "cell_type": "code",
   "execution_count": 7,
   "metadata": {},
   "outputs": [],
   "source": [
    "# badges\n",
    "#badgesAggregate = dd.read_csv(\"BadgesAggregatedFrame-0.csv.tar.xz\",compression=\"xz\",blocksize=None)"
   ]
  },
  {
   "cell_type": "code",
   "execution_count": 8,
   "metadata": {},
   "outputs": [],
   "source": [
    "# join users with badges count\n",
    "#usersWithBadges = users.set_index('Id').join(badgesAggregate.set_index('UserId'))"
   ]
  },
  {
   "cell_type": "markdown",
   "metadata": {},
   "source": [
    "Calculations:"
   ]
  },
  {
   "cell_type": "code",
   "execution_count": 9,
   "metadata": {},
   "outputs": [],
   "source": [
    "# join posts with bounty info(result is an extra column with True and NaN values, fix this later)\n",
    "posts = posts.set_index('Id').join(bounty.set_index('PostId'))"
   ]
  },
  {
   "cell_type": "code",
   "execution_count": 10,
   "metadata": {},
   "outputs": [
    {
     "name": "stderr",
     "output_type": "stream",
     "text": [
      "E:\\Software\\Anaconda3\\lib\\site-packages\\dask\\dataframe\\core.py:3000: UserWarning: `meta` is not specified, inferred from partial data. Please provide `meta` if the result is unexpected.\n",
      "  Before: .apply(func)\n",
      "  After:  .apply(func, meta={'x': 'f8', 'y': 'f8'}) for dataframe result\n",
      "  or:     .apply(func, meta=('x', 'f8'))            for series result\n",
      "  warnings.warn(msg)\n"
     ]
    }
   ],
   "source": [
    "# handle bounties\n",
    "# this fixes all the NaN values in the bounty column\n",
    "# puts them to False\n",
    "def fixBounty(row):\n",
    "    \n",
    "    bountyVal = row.hasBounty\n",
    "    \n",
    "    # this checks if the value of hasBounty\n",
    "    # for the current row is NaN\n",
    "    if(bountyVal != bountyVal):\n",
    "        return(False)\n",
    "    \n",
    "    return bountyVal\n",
    "        \n",
    "posts['bounty'] = posts.apply(fixBounty, axis=1)\n",
    "\n",
    "# remove joined column, we will use the new one with False/True instead(cleaned from NaN values)\n",
    "posts = posts.drop('hasBounty', axis=1)"
   ]
  },
  {
   "cell_type": "code",
   "execution_count": 11,
   "metadata": {},
   "outputs": [
    {
     "name": "stdout",
     "output_type": "stream",
     "text": [
      "Done\n"
     ]
    }
   ],
   "source": [
    "# tags dictionary with tagname and tagcount\n",
    "# we create a dictionary of all the tags and their count\n",
    "\n",
    "tagDict = dict()\n",
    "for row in tags.itertuples():\n",
    "    tagName = getattr(row,'TagName')\n",
    "    tagCount = getattr(row,'Count')\n",
    "    \n",
    "    tagDict[tagName]=tagCount"
   ]
  },
  {
   "cell_type": "code",
   "execution_count": 12,
   "metadata": {},
   "outputs": [
    {
     "name": "stderr",
     "output_type": "stream",
     "text": [
      "E:\\Software\\Anaconda3\\lib\\site-packages\\dask\\dataframe\\core.py:3000: UserWarning: `meta` is not specified, inferred from partial data. Please provide `meta` if the result is unexpected.\n",
      "  Before: .apply(func)\n",
      "  After:  .apply(func, meta={'x': 'f8', 'y': 'f8'}) for dataframe result\n",
      "  or:     .apply(func, meta=('x', 'f8'))            for series result\n",
      "  warnings.warn(msg)\n"
     ]
    },
    {
     "name": "stdout",
     "output_type": "stream",
     "text": [
      "Done\n"
     ]
    }
   ],
   "source": [
    "# tags handling\n",
    "# accumulating tags value for each list of tags for each row\n",
    "    \n",
    "def calculateTagsAggregate(row):\n",
    "    tags = row.Tags\n",
    "    \n",
    "    # split the tag string by the closing tag\n",
    "    tagsList = tags.split('>')\n",
    "    \n",
    "    # remove the last empty element\n",
    "    # which the prev function creates\n",
    "    tagsList = tagsList[:-1]\n",
    "    \n",
    "    finList = list()\n",
    "    # clear the opening tag from each element\n",
    "    finList = [item[1:] for item in tagsList]\n",
    "    \n",
    "    # start counting with the use of the dict\n",
    "    tag_sum = 0\n",
    "    for tag in finList:\n",
    "        tagVal = tagDict.get(tag)\n",
    "        \n",
    "        if(tagVal == None):\n",
    "            tagVal = 0\n",
    "        \n",
    "        tag_sum += tagVal\n",
    "        \n",
    "    return(tag_sum)\n",
    "    \n",
    "    \n",
    "posts['tagsAggregate'] = posts.apply(calculateTagsAggregate, axis=1)\n",
    "\n",
    "# drop tags column from frame since no longer necessary\n",
    "posts = posts.drop('Tags', axis=1)\n",
    "\n",
    "print('Done')"
   ]
  },
  {
   "cell_type": "code",
   "execution_count": 15,
   "metadata": {},
   "outputs": [
    {
     "data": {
      "text/html": [
       "<div>\n",
       "<style scoped>\n",
       "    .dataframe tbody tr th:only-of-type {\n",
       "        vertical-align: middle;\n",
       "    }\n",
       "\n",
       "    .dataframe tbody tr th {\n",
       "        vertical-align: top;\n",
       "    }\n",
       "\n",
       "    .dataframe thead th {\n",
       "        text-align: right;\n",
       "    }\n",
       "</style>\n",
       "<table border=\"1\" class=\"dataframe\">\n",
       "  <thead>\n",
       "    <tr style=\"text-align: right;\">\n",
       "      <th></th>\n",
       "      <th>PostTypeId</th>\n",
       "      <th>Score</th>\n",
       "      <th>ViewCount</th>\n",
       "      <th>WordCount</th>\n",
       "      <th>LinksCount</th>\n",
       "      <th>BlocksCount</th>\n",
       "      <th>TitleWordsCount</th>\n",
       "      <th>AnswerCount</th>\n",
       "      <th>CommentCount</th>\n",
       "      <th>AcceptedAnswerId</th>\n",
       "      <th>bounty</th>\n",
       "      <th>tagsAggregate</th>\n",
       "    </tr>\n",
       "  </thead>\n",
       "  <tbody>\n",
       "    <tr>\n",
       "      <th>6</th>\n",
       "      <td>1</td>\n",
       "      <td>261</td>\n",
       "      <td>16799</td>\n",
       "      <td>91</td>\n",
       "      <td>1</td>\n",
       "      <td>3</td>\n",
       "      <td>12</td>\n",
       "      <td>6</td>\n",
       "      <td>0</td>\n",
       "      <td>31</td>\n",
       "      <td>False</td>\n",
       "      <td>1434581</td>\n",
       "    </tr>\n",
       "    <tr>\n",
       "      <th>9</th>\n",
       "      <td>1</td>\n",
       "      <td>1743</td>\n",
       "      <td>500536</td>\n",
       "      <td>15</td>\n",
       "      <td>0</td>\n",
       "      <td>1</td>\n",
       "      <td>8</td>\n",
       "      <td>63</td>\n",
       "      <td>7</td>\n",
       "      <td>1404</td>\n",
       "      <td>True</td>\n",
       "      <td>1587941</td>\n",
       "    </tr>\n",
       "    <tr>\n",
       "      <th>11</th>\n",
       "      <td>1</td>\n",
       "      <td>1382</td>\n",
       "      <td>139190</td>\n",
       "      <td>21</td>\n",
       "      <td>0</td>\n",
       "      <td>1</td>\n",
       "      <td>5</td>\n",
       "      <td>35</td>\n",
       "      <td>3</td>\n",
       "      <td>1248</td>\n",
       "      <td>False</td>\n",
       "      <td>1333380</td>\n",
       "    </tr>\n",
       "    <tr>\n",
       "      <th>13</th>\n",
       "      <td>1</td>\n",
       "      <td>552</td>\n",
       "      <td>160858</td>\n",
       "      <td>32</td>\n",
       "      <td>0</td>\n",
       "      <td>1</td>\n",
       "      <td>4</td>\n",
       "      <td>24</td>\n",
       "      <td>8</td>\n",
       "      <td>0</td>\n",
       "      <td>False</td>\n",
       "      <td>820908</td>\n",
       "    </tr>\n",
       "    <tr>\n",
       "      <th>14</th>\n",
       "      <td>1</td>\n",
       "      <td>381</td>\n",
       "      <td>111934</td>\n",
       "      <td>9</td>\n",
       "      <td>2</td>\n",
       "      <td>2</td>\n",
       "      <td>5</td>\n",
       "      <td>10</td>\n",
       "      <td>4</td>\n",
       "      <td>0</td>\n",
       "      <td>True</td>\n",
       "      <td>308305</td>\n",
       "    </tr>\n",
       "    <tr>\n",
       "      <th>16</th>\n",
       "      <td>1</td>\n",
       "      <td>114</td>\n",
       "      <td>79712</td>\n",
       "      <td>87</td>\n",
       "      <td>0</td>\n",
       "      <td>7</td>\n",
       "      <td>11</td>\n",
       "      <td>6</td>\n",
       "      <td>0</td>\n",
       "      <td>12446</td>\n",
       "      <td>False</td>\n",
       "      <td>1401702</td>\n",
       "    </tr>\n",
       "    <tr>\n",
       "      <th>17</th>\n",
       "      <td>1</td>\n",
       "      <td>168</td>\n",
       "      <td>67267</td>\n",
       "      <td>9</td>\n",
       "      <td>1</td>\n",
       "      <td>0</td>\n",
       "      <td>4</td>\n",
       "      <td>9</td>\n",
       "      <td>3</td>\n",
       "      <td>26</td>\n",
       "      <td>True</td>\n",
       "      <td>694363</td>\n",
       "    </tr>\n",
       "    <tr>\n",
       "      <th>17</th>\n",
       "      <td>1</td>\n",
       "      <td>168</td>\n",
       "      <td>67267</td>\n",
       "      <td>9</td>\n",
       "      <td>1</td>\n",
       "      <td>0</td>\n",
       "      <td>4</td>\n",
       "      <td>9</td>\n",
       "      <td>3</td>\n",
       "      <td>26</td>\n",
       "      <td>True</td>\n",
       "      <td>694363</td>\n",
       "    </tr>\n",
       "    <tr>\n",
       "      <th>19</th>\n",
       "      <td>1</td>\n",
       "      <td>288</td>\n",
       "      <td>43495</td>\n",
       "      <td>167</td>\n",
       "      <td>0</td>\n",
       "      <td>13</td>\n",
       "      <td>11</td>\n",
       "      <td>23</td>\n",
       "      <td>16</td>\n",
       "      <td>531</td>\n",
       "      <td>False</td>\n",
       "      <td>216694</td>\n",
       "    </tr>\n",
       "    <tr>\n",
       "      <th>24</th>\n",
       "      <td>1</td>\n",
       "      <td>147</td>\n",
       "      <td>64775</td>\n",
       "      <td>21</td>\n",
       "      <td>0</td>\n",
       "      <td>2</td>\n",
       "      <td>7</td>\n",
       "      <td>6</td>\n",
       "      <td>0</td>\n",
       "      <td>49</td>\n",
       "      <td>False</td>\n",
       "      <td>707280</td>\n",
       "    </tr>\n",
       "  </tbody>\n",
       "</table>\n",
       "</div>"
      ],
      "text/plain": [
       "    PostTypeId  Score  ViewCount  WordCount  LinksCount  BlocksCount  \\\n",
       "6            1    261      16799         91           1            3   \n",
       "9            1   1743     500536         15           0            1   \n",
       "11           1   1382     139190         21           0            1   \n",
       "13           1    552     160858         32           0            1   \n",
       "14           1    381     111934          9           2            2   \n",
       "16           1    114      79712         87           0            7   \n",
       "17           1    168      67267          9           1            0   \n",
       "17           1    168      67267          9           1            0   \n",
       "19           1    288      43495        167           0           13   \n",
       "24           1    147      64775         21           0            2   \n",
       "\n",
       "    TitleWordsCount  AnswerCount  CommentCount  AcceptedAnswerId  bounty  \\\n",
       "6                12            6             0                31   False   \n",
       "9                 8           63             7              1404    True   \n",
       "11                5           35             3              1248   False   \n",
       "13                4           24             8                 0   False   \n",
       "14                5           10             4                 0    True   \n",
       "16               11            6             0             12446   False   \n",
       "17                4            9             3                26    True   \n",
       "17                4            9             3                26    True   \n",
       "19               11           23            16               531   False   \n",
       "24                7            6             0                49   False   \n",
       "\n",
       "    tagsAggregate  \n",
       "6         1434581  \n",
       "9         1587941  \n",
       "11        1333380  \n",
       "13         820908  \n",
       "14         308305  \n",
       "16        1401702  \n",
       "17         694363  \n",
       "17         694363  \n",
       "19         216694  \n",
       "24         707280  "
      ]
     },
     "execution_count": 15,
     "metadata": {},
     "output_type": "execute_result"
    }
   ],
   "source": [
    "posts.head(n=10, npartitions=2)\n"
   ]
  },
  {
   "cell_type": "code",
   "execution_count": 36,
   "metadata": {},
   "outputs": [],
   "source": [
    "\n"
   ]
  },
  {
   "cell_type": "code",
   "execution_count": 24,
   "metadata": {},
   "outputs": [],
   "source": []
  },
  {
   "cell_type": "code",
   "execution_count": 41,
   "metadata": {},
   "outputs": [],
   "source": []
  },
  {
   "cell_type": "code",
   "execution_count": 37,
   "metadata": {},
   "outputs": [],
   "source": []
  },
  {
   "cell_type": "code",
   "execution_count": null,
   "metadata": {},
   "outputs": [],
   "source": []
  },
  {
   "cell_type": "code",
   "execution_count": null,
   "metadata": {},
   "outputs": [],
   "source": []
  },
  {
   "cell_type": "code",
   "execution_count": null,
   "metadata": {},
   "outputs": [],
   "source": []
  },
  {
   "cell_type": "code",
   "execution_count": null,
   "metadata": {},
   "outputs": [],
   "source": []
  },
  {
   "cell_type": "code",
   "execution_count": null,
   "metadata": {},
   "outputs": [],
   "source": []
  },
  {
   "cell_type": "code",
   "execution_count": null,
   "metadata": {},
   "outputs": [],
   "source": []
  },
  {
   "cell_type": "code",
   "execution_count": 41,
   "metadata": {},
   "outputs": [],
   "source": []
  },
  {
   "cell_type": "code",
   "execution_count": null,
   "metadata": {},
   "outputs": [],
   "source": []
  },
  {
   "cell_type": "code",
   "execution_count": null,
   "metadata": {},
   "outputs": [],
   "source": []
  },
  {
   "cell_type": "code",
   "execution_count": 18,
   "metadata": {},
   "outputs": [
    {
     "name": "stdout",
     "output_type": "stream",
     "text": [
      "Done\n"
     ]
    }
   ],
   "source": [
    "\n",
    "    \n"
   ]
  },
  {
   "cell_type": "code",
   "execution_count": null,
   "metadata": {},
   "outputs": [],
   "source": []
  },
  {
   "cell_type": "code",
   "execution_count": null,
   "metadata": {},
   "outputs": [],
   "source": []
  },
  {
   "cell_type": "code",
   "execution_count": null,
   "metadata": {},
   "outputs": [],
   "source": []
  },
  {
   "cell_type": "code",
   "execution_count": null,
   "metadata": {},
   "outputs": [],
   "source": []
  },
  {
   "cell_type": "code",
   "execution_count": null,
   "metadata": {},
   "outputs": [],
   "source": []
  },
  {
   "cell_type": "code",
   "execution_count": null,
   "metadata": {},
   "outputs": [],
   "source": []
  }
 ],
 "metadata": {
  "kernelspec": {
   "display_name": "Python 3",
   "language": "python",
   "name": "python3"
  },
  "language_info": {
   "codemirror_mode": {
    "name": "ipython",
    "version": 3
   },
   "file_extension": ".py",
   "mimetype": "text/x-python",
   "name": "python",
   "nbconvert_exporter": "python",
   "pygments_lexer": "ipython3",
   "version": "3.7.0"
  }
 },
 "nbformat": 4,
 "nbformat_minor": 2
}
