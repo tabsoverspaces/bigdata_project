{
 "cells": [
  {
   "cell_type": "markdown",
   "metadata": {},
   "source": [
    "# Big Data - Project\n",
    "\n",
    "## TODO TOPIC\n",
    "\n",
    "### Dragan Postolovsky\n",
    "### Wojciech Taisner"
   ]
  },
  {
   "cell_type": "markdown",
   "metadata": {},
   "source": [
    "TODO\n",
    "\n",
    "A 1-page summary of litterature review on studies investigating stackoverflow data"
   ]
  },
  {
   "cell_type": "markdown",
   "metadata": {},
   "source": [
    "TODO\n",
    "\n",
    "An enumeration of \"interesting\" investigations directions for the 10-year dataset of stack overflow (from 09/2008 to 09/2018)"
   ]
  },
  {
   "cell_type": "markdown",
   "metadata": {},
   "source": [
    "### What were the questions?"
   ]
  },
  {
   "cell_type": "markdown",
   "metadata": {},
   "source": [
    "TODO\n",
    "\n",
    "A report with analysis results (including visualisation, and statistics) of the 10 years data. These results are the fruit of the investigations projected earlier"
   ]
  },
  {
   "cell_type": "code",
   "execution_count": 1,
   "metadata": {
    "ExecuteTime": {
     "end_time": "2019-01-16T09:35:10.778082Z",
     "start_time": "2019-01-16T09:35:10.493128Z"
    }
   },
   "outputs": [
    {
     "name": "stdout",
     "output_type": "stream",
     "text": [
      "-rwxrwxrwx. 1 wojtek wojtek   204796672 01-09 21:50 Badges.tar.xz\r\n",
      "-rw-rw-r--. 1 wojtek wojtek     2075408 01-15 21:50 BountyFrame-0.csv.tar.xz\r\n",
      "-rwxrwxrwx. 1 wojtek wojtek  4093557860 01-10 13:47 Comments.tar.xz\r\n",
      "-rw-rw-r--. 1 wojtek wojtek     8444828 01-15 19:56 DuplicateFrame-0.csv.tar.xz\r\n",
      "-rwxrwxrwx. 1 wojtek wojtek    64935436 01-09 20:51 PostLinks.tar.xz\r\n",
      "-rwxrwxrwx. 1 wojtek wojtek 12303248204 01-10 21:26 Posts.tar.xz\r\n",
      "-rw-rw-r--. 1 wojtek wojtek      430164 01-15 18:44 TagsFrame-0.csv.tar.xz\r\n",
      "-rwxrwxrwx. 1 wojtek wojtek      735732 01-09 21:32 Tags.tar.xz\r\n",
      "-rw-rw-r--. 1 wojtek wojtek   179974748 01-15 21:25 UsersFrame-0.csv.tar.xz\r\n",
      "-rwxrwxrwx. 1 wojtek wojtek   442348100 01-09 21:54 Users.tar.xz\r\n",
      "-rwxrwxrwx. 1 wojtek wojtek  1002463504 01-09 21:28 Votes.tar.xz\r\n"
     ]
    }
   ],
   "source": [
    "!ls -la *.tar.xz"
   ]
  },
  {
   "cell_type": "code",
   "execution_count": 2,
   "metadata": {
    "ExecuteTime": {
     "end_time": "2019-01-16T09:35:14.741425Z",
     "start_time": "2019-01-16T09:35:13.071741Z"
    }
   },
   "outputs": [],
   "source": [
    "# import dask bag\n",
    "import dask.bag as db\n",
    "# import dask datarfame\n",
    "import dask.dataframe as dd\n",
    "# import BeatuifulSoup\n",
    "from bs4 import BeautifulSoup\n",
    "# import pandas and numpy\n",
    "import pandas as pd\n",
    "import numpy as np"
   ]
  },
  {
   "cell_type": "code",
   "execution_count": 3,
   "metadata": {
    "ExecuteTime": {
     "end_time": "2019-01-16T09:35:17.299973Z",
     "start_time": "2019-01-16T09:35:17.285024Z"
    }
   },
   "outputs": [
    {
     "data": {
      "text/plain": [
       "['Badges', 'Comments', 'PostLinks', 'Posts', 'Tags', 'Users', 'Votes']"
      ]
     },
     "execution_count": 3,
     "metadata": {},
     "output_type": "execute_result"
    }
   ],
   "source": [
    "#files\n",
    "base = \"stackoverflow.com-\"\n",
    "\n",
    "badges = \"Badges\"\n",
    "comments = \"Comments\"\n",
    "posthistory = \"PostHistory\"\n",
    "postlinks = \"PostLinks\"\n",
    "posts = \"Posts\"\n",
    "tags = \"Tags\"\n",
    "users = \"Users\"\n",
    "votes = \"Votes\"\n",
    "\n",
    "all_files = [badges, comments, postlinks, posts, tags, users, votes] # posthistory, \n",
    "# for some reason post history does not want to co-operate\n",
    "all_files"
   ]
  },
  {
   "cell_type": "markdown",
   "metadata": {},
   "source": [
    "# Functions"
   ]
  },
  {
   "cell_type": "code",
   "execution_count": 4,
   "metadata": {
    "ExecuteTime": {
     "end_time": "2019-01-16T09:35:20.532909Z",
     "start_time": "2019-01-16T09:35:20.517118Z"
    }
   },
   "outputs": [],
   "source": [
    "# non complex parsing (ex badges, tags, etc)\n",
    "def xml_row_to_tuple(row): # gets data from single xml row (attr values)\n",
    "    soup = BeautifulSoup(row, \"xml\")\n",
    "    ret = []\n",
    "    for a, v in soup.row.attrs.items():\n",
    "        if v.isdigit():\n",
    "            v = int(v) #integers take less memory :D\n",
    "        ret.append(v)\n",
    "    return tuple(ret);\n",
    "\n",
    "\n",
    "def xml_headers_to_tuple(row): # gets headers for single xml row (attr names)\n",
    "    soup = BeautifulSoup(row, \"xml\")\n",
    "    ret = []\n",
    "    for a, v in soup.row.attrs.items():\n",
    "        ret.append(a)\n",
    "    return tuple(ret);"
   ]
  },
  {
   "cell_type": "code",
   "execution_count": 5,
   "metadata": {
    "ExecuteTime": {
     "end_time": "2019-01-16T09:35:22.931247Z",
     "start_time": "2019-01-16T09:35:22.927155Z"
    }
   },
   "outputs": [],
   "source": [
    "# TODO\n",
    "# read data only form provided attrs\n",
    "def xml_row_to_tuple_attrs(row, d=tuple(\"Id\")):\n",
    "    soup = BeautifulSoup(row, \"xml\")\n",
    "    ret = []\n",
    "    for e in d:\n",
    "        v = soup.row.attrs[e]\n",
    "        if v != None:\n",
    "            if v.isdigit():\n",
    "                v=int(v)\n",
    "            ret.append(v)\n",
    "        else:\n",
    "            ret.append(0)\n",
    "    return tuple(ret)"
   ]
  },
  {
   "cell_type": "code",
   "execution_count": 6,
   "metadata": {
    "ExecuteTime": {
     "end_time": "2019-01-16T09:35:25.006602Z",
     "start_time": "2019-01-16T09:35:24.991318Z"
    }
   },
   "outputs": [],
   "source": [
    "## select shortest valid header\n",
    "## if any field from tested header is missing in set of headers, then false\n",
    "def is_header_valid(setof, element):\n",
    "    for k in setof:\n",
    "        for e in element:\n",
    "            try:\n",
    "                k.index(e)    \n",
    "            except ValueError:\n",
    "                return False\n",
    "    return True\n",
    "\n",
    "\n",
    "def find_valid_header(headers):\n",
    "    # generate list of sorted headers by length ascending\n",
    "    headers.sort(key=len)\n",
    "    \n",
    "    minlen = min(list(map(len, headers)))\n",
    "    \n",
    "    # for elements where len(element) == min(len(element)) - other just wont be valid anyway\n",
    "    # try to find if it is a valid header\n",
    "    for k in list(filter(lambda x: len(x) == minlen, headers)):\n",
    "        if is_header_valid(headers, k):\n",
    "            return k\n",
    "    return tuple()\n",
    "\n",
    "\n",
    "def shortest_valid_header(bag):\n",
    "    # select distinct headers\n",
    "    headers = bag.map(xml_headers_to_tuple).distinct().compute()\n",
    "    return find_valid_header(headers)\n",
    "    \n",
    "    "
   ]
  },
  {
   "cell_type": "code",
   "execution_count": 7,
   "metadata": {
    "ExecuteTime": {
     "end_time": "2019-01-16T09:35:28.417173Z",
     "start_time": "2019-01-16T09:35:28.411390Z"
    }
   },
   "outputs": [],
   "source": [
    "# bag summary header + first row\n",
    "# only bags with proper structure\n",
    "def summary_bag(bag):\n",
    "    th = bag.map(xml_headers_to_tuple).take(1)[0]\n",
    "    for i, v in enumerate(th):\n",
    "        print('{}: {}'.format(i, v))\n",
    "    print(\"\")\n",
    "    tp = bag.map(xml_row_to_tuple).take(1)[0]\n",
    "    for i, v in enumerate(tp):\n",
    "        print('{}: {}'.format(i, v))\n",
    "    print(\"\")"
   ]
  },
  {
   "cell_type": "code",
   "execution_count": 8,
   "metadata": {
    "ExecuteTime": {
     "end_time": "2019-01-16T09:35:30.260081Z",
     "start_time": "2019-01-16T09:35:30.249370Z"
    }
   },
   "outputs": [],
   "source": [
    "# read bag function\n",
    "def make_xml_bag(filename):\n",
    "    extension=\".tar.xz\"\n",
    "    compression=\"xz\"\n",
    "    temp_bag = db.read_text(filename+extension, compression=compression).str.strip()\n",
    "    temp_bag = temp_bag.filter(lambda x: x.find(\"row\") >= 0)\n",
    "    return temp_bag"
   ]
  },
  {
   "cell_type": "code",
   "execution_count": 9,
   "metadata": {
    "ExecuteTime": {
     "end_time": "2019-01-16T09:35:31.998250Z",
     "start_time": "2019-01-16T09:35:31.992536Z"
    }
   },
   "outputs": [],
   "source": [
    "# check if bag is ok (data are more-a-less structured)\n",
    "# takes a while of course\n",
    "def check_bag(bag):\n",
    "    ma = bag.map(lambda x: len(x)).max().compute()\n",
    "    mi = bag.map(lambda x: len(x)).min().compute()\n",
    "    if ma == mi:\n",
    "        return True\n",
    "    print(ma, mi)\n",
    "    return False"
   ]
  },
  {
   "cell_type": "code",
   "execution_count": 10,
   "metadata": {
    "ExecuteTime": {
     "end_time": "2019-01-16T09:35:33.906747Z",
     "start_time": "2019-01-16T09:35:33.902936Z"
    }
   },
   "outputs": [],
   "source": [
    "# generate metadata iterable of tuples (name, dtype)\n",
    "def meta_from_header(header):\n",
    "    ret = []\n",
    "    for k in header:\n",
    "        if k.find(\"Date\") >= 0:\n",
    "            ret.append((k, np.dtype('datetime64[ns]')))\n",
    "        elif k.find(\"Id\") >= 0 or k.find(\"Score\") >= 0 or k.find(\"Count\") >= 0:\n",
    "            ret.append((k, np.int_))\n",
    "        else:\n",
    "            ret.append((k, np.dtype('S'))) ## TODO some better parsing to string type\n",
    "    return ret"
   ]
  },
  {
   "cell_type": "code",
   "execution_count": null,
   "metadata": {},
   "outputs": [],
   "source": [
    "# TODO read, parse and store as csv\n",
    "def full_parse(name, h=(\"Id\")):\n",
    "    return None"
   ]
  },
  {
   "cell_type": "markdown",
   "metadata": {},
   "source": [
    "## Review of files structure (probably to be removed later)"
   ]
  },
  {
   "cell_type": "code",
   "execution_count": 69,
   "metadata": {
    "scrolled": true
   },
   "outputs": [],
   "source": [
    "# refiew structure of all files\n",
    "# takes a second\n",
    "#for filename in all_files:\n",
    "#    print(filename)\n",
    "#    temp_bag = make_xml_bag(filename)\n",
    "#    summary_bag(temp_bag)"
   ]
  },
  {
   "cell_type": "markdown",
   "metadata": {},
   "source": [
    "# Some real stuff"
   ]
  },
  {
   "cell_type": "markdown",
   "metadata": {},
   "source": [
    "## Tags"
   ]
  },
  {
   "cell_type": "code",
   "execution_count": 15,
   "metadata": {},
   "outputs": [],
   "source": [
    "# read tags bag, select rows only\n",
    "tags_bag = db.read_text(tags+\".tar.xz\", compression=\"xz\").str.strip()\n",
    "tags_bag = tags_bag.filter(lambda x: x.find(\"row\") >= 0)"
   ]
  },
  {
   "cell_type": "markdown",
   "metadata": {},
   "source": [
    "### Simple tests [Training Field]"
   ]
  },
  {
   "cell_type": "code",
   "execution_count": 16,
   "metadata": {},
   "outputs": [
    {
     "name": "stdout",
     "output_type": "stream",
     "text": [
      "<row Id=\"1\" TagName=\".net\" Count=\"276857\" ExcerptPostId=\"3624959\" WikiPostId=\"3607476\" />\n",
      "(1, '.net', 276857, 3624959, 3607476)\n",
      "<row Id=\"2\" TagName=\"html\" Count=\"789778\" ExcerptPostId=\"3673183\" WikiPostId=\"3673182\" />\n",
      "(2, 'html', 789778, 3673183, 3673182)\n",
      "<row Id=\"3\" TagName=\"javascript\" Count=\"1723731\" ExcerptPostId=\"3624960\" WikiPostId=\"3607052\" />\n",
      "(3, 'javascript', 1723731, 3624960, 3607052)\n",
      "<row Id=\"4\" TagName=\"css\" Count=\"563816\" ExcerptPostId=\"3644670\" WikiPostId=\"3644669\" />\n",
      "(4, 'css', 563816, 3644670, 3644669)\n"
     ]
    }
   ],
   "source": [
    "for row in tags_bag.take(4):\n",
    "    print(row);\n",
    "    print(xml_row_to_tuple(row))\n",
    "    #soup = BeautifulSoup(row, \"xml\")\n",
    "    #print(soup.row['Id'], soup.row['TagName'], soup.row['Count'])"
   ]
  },
  {
   "cell_type": "code",
   "execution_count": 17,
   "metadata": {},
   "outputs": [
    {
     "data": {
      "text/plain": [
       "(1, '.net', 276857, 3624959, 3607476)"
      ]
     },
     "execution_count": 17,
     "metadata": {},
     "output_type": "execute_result"
    }
   ],
   "source": [
    "test = tags_bag.map(xml_row_to_tuple).take(1)\n",
    "test[0]"
   ]
  },
  {
   "cell_type": "code",
   "execution_count": 18,
   "metadata": {},
   "outputs": [
    {
     "data": {
      "text/plain": [
       "('Id', 'TagName', 'Count', 'ExcerptPostId', 'WikiPostId')"
      ]
     },
     "execution_count": 18,
     "metadata": {},
     "output_type": "execute_result"
    }
   ],
   "source": [
    "header = tags_bag.map(xml_headers_to_tuple).take(1)[0]\n",
    "header"
   ]
  },
  {
   "cell_type": "code",
   "execution_count": 19,
   "metadata": {},
   "outputs": [
    {
     "name": "stdout",
     "output_type": "stream",
     "text": [
      "<class 'dask.bag.core.Bag'>\n",
      "<class 'tuple'>\n"
     ]
    }
   ],
   "source": [
    "print(type(tags_bag))\n",
    "print(type(test))\n",
    "#tags_bag.map(xml_row_to_tuple).take(1)"
   ]
  },
  {
   "cell_type": "code",
   "execution_count": 20,
   "metadata": {},
   "outputs": [
    {
     "name": "stdout",
     "output_type": "stream",
     "text": [
      "5 3\n"
     ]
    },
    {
     "data": {
      "text/plain": [
       "False"
      ]
     },
     "execution_count": 20,
     "metadata": {},
     "output_type": "execute_result"
    }
   ],
   "source": [
    "# takes a while\n",
    "check_bag(tags_bag.map(xml_headers_to_tuple))"
   ]
  },
  {
   "cell_type": "code",
   "execution_count": 21,
   "metadata": {},
   "outputs": [
    {
     "data": {
      "text/plain": [
       "14218"
      ]
     },
     "execution_count": 21,
     "metadata": {},
     "output_type": "execute_result"
    }
   ],
   "source": [
    "tags_bag.map(xml_row_to_tuple).filter(lambda x: len(x)<5).count().compute()"
   ]
  },
  {
   "cell_type": "code",
   "execution_count": 22,
   "metadata": {},
   "outputs": [
    {
     "data": {
      "text/plain": [
       "[('Id', 'TagName', 'Count')]"
      ]
     },
     "execution_count": 22,
     "metadata": {},
     "output_type": "execute_result"
    }
   ],
   "source": [
    "tags_bag.map(xml_headers_to_tuple).filter(lambda x: len(x)==3).distinct().compute()\n",
    "#tags_bag.count().compute()\n",
    "#\n",
    "# 14k / 55k has only 3/5 tags (two last missing), need to be dropped\n",
    "#"
   ]
  },
  {
   "cell_type": "code",
   "execution_count": 23,
   "metadata": {},
   "outputs": [
    {
     "name": "stdout",
     "output_type": "stream",
     "text": [
      "[('Id', 'TagName', 'Count', 'ExcerptPostId', 'WikiPostId'), ('Id', 'TagName', 'Count')]\n",
      "CPU times: user 12.6 ms, sys: 42.3 ms, total: 55 ms\n",
      "Wall time: 8.66 s\n"
     ]
    }
   ],
   "source": [
    "%%time\n",
    "dt = tags_bag.map(xml_headers_to_tuple).distinct().compute()\n",
    "print(dt)"
   ]
  },
  {
   "cell_type": "code",
   "execution_count": 24,
   "metadata": {},
   "outputs": [
    {
     "name": "stdout",
     "output_type": "stream",
     "text": [
      "('Id', 'TagName', 'Count')\n",
      "CPU times: user 42 µs, sys: 24 µs, total: 66 µs\n",
      "Wall time: 69.4 µs\n"
     ]
    }
   ],
   "source": [
    "%%time\n",
    "if len(dt) > 1:\n",
    "    header = find_valid_header(dt)\n",
    "    print(header)"
   ]
  },
  {
   "cell_type": "code",
   "execution_count": 25,
   "metadata": {},
   "outputs": [
    {
     "name": "stdout",
     "output_type": "stream",
     "text": [
      "True\n",
      "CPU times: user 41.3 ms, sys: 63.1 ms, total: 104 ms\n",
      "Wall time: 21.6 s\n"
     ]
    }
   ],
   "source": [
    "%%time\n",
    "tags_bag2 = tags_bag.map(xml_row_to_tuple_attrs, d=header)\n",
    "print(check_bag(tags_bag2))"
   ]
  },
  {
   "cell_type": "code",
   "execution_count": 26,
   "metadata": {},
   "outputs": [
    {
     "data": {
      "text/plain": [
       "['TagsFrame-0.csv.tar.xz']"
      ]
     },
     "execution_count": 26,
     "metadata": {},
     "output_type": "execute_result"
    }
   ],
   "source": [
    "#TODO export to dask dataframe and store\n",
    "meta_from_header(header)\n",
    "tags_df = tags_bag2.to_dataframe(meta=meta_from_header(header))\n",
    "tags_df.to_csv(\"TagsFrame-*.csv.tar.xz\",compression=\"xz\",index=False)"
   ]
  },
  {
   "cell_type": "code",
   "execution_count": 27,
   "metadata": {},
   "outputs": [
    {
     "data": {
      "text/plain": [
       "Id          int64\n",
       "TagName    object\n",
       "Count       int64\n",
       "dtype: object"
      ]
     },
     "execution_count": 27,
     "metadata": {},
     "output_type": "execute_result"
    }
   ],
   "source": [
    "tags_df.dtypes"
   ]
  },
  {
   "cell_type": "code",
   "execution_count": 28,
   "metadata": {},
   "outputs": [
    {
     "data": {
      "text/html": [
       "<div>\n",
       "<style scoped>\n",
       "    .dataframe tbody tr th:only-of-type {\n",
       "        vertical-align: middle;\n",
       "    }\n",
       "\n",
       "    .dataframe tbody tr th {\n",
       "        vertical-align: top;\n",
       "    }\n",
       "\n",
       "    .dataframe thead th {\n",
       "        text-align: right;\n",
       "    }\n",
       "</style>\n",
       "<table border=\"1\" class=\"dataframe\">\n",
       "  <thead>\n",
       "    <tr style=\"text-align: right;\">\n",
       "      <th></th>\n",
       "      <th>Id</th>\n",
       "      <th>TagName</th>\n",
       "      <th>Count</th>\n",
       "    </tr>\n",
       "  </thead>\n",
       "  <tbody>\n",
       "    <tr>\n",
       "      <th>0</th>\n",
       "      <td>1</td>\n",
       "      <td>.net</td>\n",
       "      <td>276857</td>\n",
       "    </tr>\n",
       "    <tr>\n",
       "      <th>1</th>\n",
       "      <td>2</td>\n",
       "      <td>html</td>\n",
       "      <td>789778</td>\n",
       "    </tr>\n",
       "    <tr>\n",
       "      <th>2</th>\n",
       "      <td>3</td>\n",
       "      <td>javascript</td>\n",
       "      <td>1723731</td>\n",
       "    </tr>\n",
       "    <tr>\n",
       "      <th>3</th>\n",
       "      <td>4</td>\n",
       "      <td>css</td>\n",
       "      <td>563816</td>\n",
       "    </tr>\n",
       "    <tr>\n",
       "      <th>4</th>\n",
       "      <td>5</td>\n",
       "      <td>php</td>\n",
       "      <td>1245650</td>\n",
       "    </tr>\n",
       "  </tbody>\n",
       "</table>\n",
       "</div>"
      ],
      "text/plain": [
       "   Id     TagName    Count\n",
       "0   1        .net   276857\n",
       "1   2        html   789778\n",
       "2   3  javascript  1723731\n",
       "3   4         css   563816\n",
       "4   5         php  1245650"
      ]
     },
     "execution_count": 28,
     "metadata": {},
     "output_type": "execute_result"
    }
   ],
   "source": [
    "tags_df.head()"
   ]
  },
  {
   "cell_type": "markdown",
   "metadata": {},
   "source": [
    "## Badges"
   ]
  },
  {
   "cell_type": "code",
   "execution_count": 11,
   "metadata": {
    "ExecuteTime": {
     "end_time": "2019-01-16T09:35:42.462748Z",
     "start_time": "2019-01-16T09:35:42.453630Z"
    }
   },
   "outputs": [],
   "source": [
    "badges_bag = make_xml_bag(badges)"
   ]
  },
  {
   "cell_type": "code",
   "execution_count": 65,
   "metadata": {},
   "outputs": [
    {
     "name": "stdout",
     "output_type": "stream",
     "text": [
      "CPU times: user 10 µs, sys: 0 ns, total: 10 µs\n",
      "Wall time: 20 µs\n"
     ]
    }
   ],
   "source": [
    "%%time\n",
    "## no need to run this, header provided next cell\n",
    "#dba = badges_bag.map(xml_headers_to_tuple).distinct().compute()\n",
    "#print(dba)"
   ]
  },
  {
   "cell_type": "code",
   "execution_count": 12,
   "metadata": {},
   "outputs": [
    {
     "name": "stdout",
     "output_type": "stream",
     "text": [
      "CPU times: user 19 µs, sys: 0 ns, total: 19 µs\n",
      "Wall time: 44.8 µs\n"
     ]
    }
   ],
   "source": [
    "%%time\n",
    "## only one distinct header, do not need to compute this\n",
    "dba = [('Id', 'UserId', 'Name', 'Date', 'Class', 'TagBased')]\n",
    "if len(dba) > 1:\n",
    "    b_header = find_valid_header(dba)\n",
    "    print(b_header)"
   ]
  },
  {
   "cell_type": "code",
   "execution_count": 12,
   "metadata": {
    "ExecuteTime": {
     "end_time": "2019-01-16T11:22:29.884839Z",
     "start_time": "2019-01-16T09:36:52.789767Z"
    }
   },
   "outputs": [
    {
     "name": "stdout",
     "output_type": "stream",
     "text": [
      "CPU times: user 1h 45min 18s, sys: 12.3 s, total: 1h 45min 31s\n",
      "Wall time: 1h 45min 37s\n"
     ]
    }
   ],
   "source": [
    "%%time\n",
    "hhh=('Id', 'UserId', 'Class')\n",
    "temp_b = badges_bag.map(xml_row_to_tuple_attrs, d=hhh).to_dataframe(meta=meta_from_header(hhh))\n",
    "temp_b.to_csv(\"BadgesFrame-*.csv.tar.xz\",compression=\"xz\",index=False)"
   ]
  },
  {
   "cell_type": "code",
   "execution_count": 23,
   "metadata": {
    "ExecuteTime": {
     "end_time": "2019-01-16T18:11:46.532282Z",
     "start_time": "2019-01-16T16:35:47.724403Z"
    }
   },
   "outputs": [
    {
     "data": {
      "text/plain": [
       "((3718, (34,)),\n",
       " (994, (22,)),\n",
       " (3893, (69,)),\n",
       " (4591, (104,)),\n",
       " (5196, (15,)),\n",
       " (2635, (449,)),\n",
       " (1113, (102,)),\n",
       " (4182, (8,)),\n",
       " (164, (94,)),\n",
       " (652, (7,)))"
      ]
     },
     "execution_count": 23,
     "metadata": {},
     "output_type": "execute_result"
    }
   ],
   "source": [
    "def binop(total,x):\n",
    "    return (total[0]+1,)\n",
    "\n",
    "def combine(t1, t2):\n",
    "    return(t1[0]+t2[0],)\n",
    "\n",
    "hhh2 = (\"UserId\", \"BadgesCount\")\n",
    "temp_b2 = badges_bag.map(xml_row_to_tuple_attrs, d=hhh).foldby(lambda x: x[1], binop, (0,), combine, (0,))\n",
    "temp_b2 = temp_b2.map(lambda x: x(x[0], x[1][0])).to_dataframe(meta=meta_from_header(hhh2))\n",
    "temp_b2.to_csv(\"BadgesAggregatedFrame-*.csv.tar.xz\",compression=\"xz\",index=False)"
   ]
  },
  {
   "cell_type": "code",
   "execution_count": 28,
   "metadata": {
    "ExecuteTime": {
     "end_time": "2019-01-16T19:11:52.218880Z",
     "start_time": "2019-01-16T19:10:36.363270Z"
    }
   },
   "outputs": [
    {
     "name": "stdout",
     "output_type": "stream",
     "text": [
      "34\n"
     ]
    }
   ],
   "source": [
    "##test\n",
    "xxx = badges_bag.filter(lambda x: x.find(\"UserId=\\\"3718\\\"\") >= 0).compute()\n",
    "print(len(xxx))\n",
    "#xxx"
   ]
  },
  {
   "cell_type": "markdown",
   "metadata": {},
   "source": [
    "## Comments"
   ]
  },
  {
   "cell_type": "code",
   "execution_count": 61,
   "metadata": {},
   "outputs": [],
   "source": [
    "comments_bag = make_xml_bag(comments)"
   ]
  },
  {
   "cell_type": "code",
   "execution_count": 62,
   "metadata": {},
   "outputs": [
    {
     "name": "stdout",
     "output_type": "stream",
     "text": [
      "[('Id', 'PostId', 'Score', 'Text', 'CreationDate', 'UserId'), ('Id', 'PostId', 'Score', 'Text', 'CreationDate', 'UserDisplayName', 'UserId'), ('Id', 'PostId', 'Score', 'Text', 'CreationDate'), ('Id', 'PostId', 'Score', 'Text', 'CreationDate', 'UserDisplayName')]\n",
      "CPU times: user 6.35 s, sys: 2.32 s, total: 8.67 s\n",
      "Wall time: 3h 47min 5s\n"
     ]
    }
   ],
   "source": [
    "%%time\n",
    "dcb = comments_bag.map(xml_headers_to_tuple).distinct().compute()\n",
    "print(dcb)"
   ]
  },
  {
   "cell_type": "code",
   "execution_count": 63,
   "metadata": {},
   "outputs": [
    {
     "name": "stdout",
     "output_type": "stream",
     "text": [
      "('Id', 'PostId', 'Score', 'Text', 'CreationDate')\n",
      "CPU times: user 241 µs, sys: 0 ns, total: 241 µs\n",
      "Wall time: 190 µs\n"
     ]
    }
   ],
   "source": [
    "%%time\n",
    "## only one distinct header, do not need to compute this\n",
    "if len(dcb) > 1:\n",
    "    b_header = find_valid_header(dcb)\n",
    "    print(b_header)\n",
    "    \n",
    "#('Id', 'PostId', 'Score', 'Text', 'CreationDate')"
   ]
  },
  {
   "cell_type": "markdown",
   "metadata": {},
   "source": [
    "## Post Links"
   ]
  },
  {
   "cell_type": "code",
   "execution_count": 29,
   "metadata": {},
   "outputs": [],
   "source": [
    "postlinks_bag = make_xml_bag(postlinks)"
   ]
  },
  {
   "cell_type": "code",
   "execution_count": 30,
   "metadata": {},
   "outputs": [
    {
     "name": "stdout",
     "output_type": "stream",
     "text": [
      "[('Id', 'CreationDate', 'PostId', 'RelatedPostId', 'LinkTypeId')]\n",
      "CPU times: user 765 ms, sys: 275 ms, total: 1.04 s\n",
      "Wall time: 14min 14s\n"
     ]
    }
   ],
   "source": [
    "%%time\n",
    "dplb = postlinks_bag.map(xml_headers_to_tuple).distinct().compute()\n",
    "print(dplb)"
   ]
  },
  {
   "cell_type": "code",
   "execution_count": 31,
   "metadata": {},
   "outputs": [
    {
     "name": "stdout",
     "output_type": "stream",
     "text": [
      "CPU times: user 3 µs, sys: 0 ns, total: 3 µs\n",
      "Wall time: 6.44 µs\n"
     ]
    }
   ],
   "source": [
    "%%time\n",
    "## only one distinct header, do not need to compute this\n",
    "if len(dplb) > 1:\n",
    "    pl_header = find_valid_header(dplb)\n",
    "    print(pl_header)"
   ]
  },
  {
   "cell_type": "code",
   "execution_count": 51,
   "metadata": {},
   "outputs": [
    {
     "name": "stdout",
     "output_type": "stream",
     "text": [
      "CPU times: user 3min 33s, sys: 235 ms, total: 3min 34s\n",
      "Wall time: 3min 34s\n"
     ]
    }
   ],
   "source": [
    "%%time\n",
    "##('Id', 'CreationDate', 'PostId', 'RelatedPostId', 'LinkTypeId')\n",
    "temp_pl = postlinks_bag.filter(lambda x: x.find(\"LinkTypeId=\\\"3\\\"\") >= 0).map(xml_row_to_tuple_attrs, d=dplb[0])\n",
    "temp_pl = temp_pl.to_dataframe(meta=meta_from_header(dplb[0]))\n",
    "temp_pl.to_csv(\"DuplicateFrame-*.csv.tar.xz\",compression=\"xz\",index=False)"
   ]
  },
  {
   "cell_type": "code",
   "execution_count": 52,
   "metadata": {},
   "outputs": [
    {
     "data": {
      "text/plain": [
       "Id                        int64\n",
       "CreationDate     datetime64[ns]\n",
       "PostId                    int64\n",
       "RelatedPostId             int64\n",
       "LinkTypeId                int64\n",
       "dtype: object"
      ]
     },
     "execution_count": 52,
     "metadata": {},
     "output_type": "execute_result"
    }
   ],
   "source": [
    "temp_pl.dtypes"
   ]
  },
  {
   "cell_type": "code",
   "execution_count": 46,
   "metadata": {},
   "outputs": [
    {
     "data": {
      "text/html": [
       "<div>\n",
       "<style scoped>\n",
       "    .dataframe tbody tr th:only-of-type {\n",
       "        vertical-align: middle;\n",
       "    }\n",
       "\n",
       "    .dataframe tbody tr th {\n",
       "        vertical-align: top;\n",
       "    }\n",
       "\n",
       "    .dataframe thead th {\n",
       "        text-align: right;\n",
       "    }\n",
       "</style>\n",
       "<table border=\"1\" class=\"dataframe\">\n",
       "  <thead>\n",
       "    <tr style=\"text-align: right;\">\n",
       "      <th></th>\n",
       "      <th>Id</th>\n",
       "      <th>CreationDate</th>\n",
       "      <th>PostId</th>\n",
       "      <th>RelatedPostId</th>\n",
       "      <th>LinkTypeId</th>\n",
       "    </tr>\n",
       "  </thead>\n",
       "  <tbody>\n",
       "    <tr>\n",
       "      <th>0</th>\n",
       "      <td>749670241</td>\n",
       "      <td>2013-02-18 03:03:16.917</td>\n",
       "      <td>70714</td>\n",
       "      <td>355934</td>\n",
       "      <td>3</td>\n",
       "    </tr>\n",
       "    <tr>\n",
       "      <th>1</th>\n",
       "      <td>749670246</td>\n",
       "      <td>2013-02-18 03:03:16.917</td>\n",
       "      <td>86947</td>\n",
       "      <td>73713</td>\n",
       "      <td>3</td>\n",
       "    </tr>\n",
       "    <tr>\n",
       "      <th>2</th>\n",
       "      <td>749670247</td>\n",
       "      <td>2013-02-18 03:03:16.917</td>\n",
       "      <td>97679</td>\n",
       "      <td>85122</td>\n",
       "      <td>3</td>\n",
       "    </tr>\n",
       "    <tr>\n",
       "      <th>3</th>\n",
       "      <td>749670248</td>\n",
       "      <td>2013-02-18 03:03:16.917</td>\n",
       "      <td>99408</td>\n",
       "      <td>1711</td>\n",
       "      <td>3</td>\n",
       "    </tr>\n",
       "    <tr>\n",
       "      <th>4</th>\n",
       "      <td>749670249</td>\n",
       "      <td>2013-02-18 03:03:16.917</td>\n",
       "      <td>26925</td>\n",
       "      <td>8127</td>\n",
       "      <td>3</td>\n",
       "    </tr>\n",
       "  </tbody>\n",
       "</table>\n",
       "</div>"
      ],
      "text/plain": [
       "          Id            CreationDate  PostId  RelatedPostId  LinkTypeId\n",
       "0  749670241 2013-02-18 03:03:16.917   70714         355934           3\n",
       "1  749670246 2013-02-18 03:03:16.917   86947          73713           3\n",
       "2  749670247 2013-02-18 03:03:16.917   97679          85122           3\n",
       "3  749670248 2013-02-18 03:03:16.917   99408           1711           3\n",
       "4  749670249 2013-02-18 03:03:16.917   26925           8127           3"
      ]
     },
     "execution_count": 46,
     "metadata": {},
     "output_type": "execute_result"
    }
   ],
   "source": [
    "temp_pl.head()"
   ]
  },
  {
   "cell_type": "code",
   "execution_count": 50,
   "metadata": {},
   "outputs": [
    {
     "data": {
      "text/plain": [
       "Id               722449\n",
       "CreationDate     722449\n",
       "PostId           722449\n",
       "RelatedPostId    722449\n",
       "LinkTypeId       722449\n",
       "dtype: int64"
      ]
     },
     "execution_count": 50,
     "metadata": {},
     "output_type": "execute_result"
    }
   ],
   "source": [
    "temp_pl.count().compute()"
   ]
  },
  {
   "cell_type": "markdown",
   "metadata": {},
   "source": [
    "## Users"
   ]
  },
  {
   "cell_type": "code",
   "execution_count": 53,
   "metadata": {},
   "outputs": [],
   "source": [
    "users_bag = make_xml_bag(users)"
   ]
  },
  {
   "cell_type": "code",
   "execution_count": 54,
   "metadata": {},
   "outputs": [
    {
     "name": "stdout",
     "output_type": "stream",
     "text": [
      "[('Id', 'Reputation', 'CreationDate', 'DisplayName', 'LastAccessDate', 'WebsiteUrl', 'Location', 'AboutMe', 'Views', 'UpVotes', 'DownVotes', 'ProfileImageUrl', 'AccountId'), ('Id', 'Reputation', 'CreationDate', 'DisplayName', 'LastAccessDate', 'WebsiteUrl', 'Location', 'AboutMe', 'Views', 'UpVotes', 'DownVotes', 'AccountId'), ('Id', 'Reputation', 'CreationDate', 'DisplayName', 'LastAccessDate', 'WebsiteUrl', 'AboutMe', 'Views', 'UpVotes', 'DownVotes', 'ProfileImageUrl', 'AccountId'), ('Id', 'Reputation', 'CreationDate', 'DisplayName', 'LastAccessDate', 'WebsiteUrl', 'Views', 'UpVotes', 'DownVotes', 'ProfileImageUrl', 'AccountId'), ('Id', 'Reputation', 'CreationDate', 'DisplayName', 'LastAccessDate', 'Location', 'AboutMe', 'Views', 'UpVotes', 'DownVotes', 'ProfileImageUrl', 'AccountId'), ('Id', 'Reputation', 'CreationDate', 'DisplayName', 'LastAccessDate', 'WebsiteUrl', 'Views', 'UpVotes', 'DownVotes', 'AccountId'), ('Id', 'Reputation', 'CreationDate', 'DisplayName', 'LastAccessDate', 'Views', 'UpVotes', 'DownVotes'), ('Id', 'Reputation', 'CreationDate', 'DisplayName', 'LastAccessDate', 'Views', 'UpVotes', 'DownVotes', 'ProfileImageUrl', 'AccountId'), ('Id', 'Reputation', 'CreationDate', 'DisplayName', 'LastAccessDate', 'WebsiteUrl', 'Location', 'Views', 'UpVotes', 'DownVotes', 'ProfileImageUrl', 'AccountId'), ('Id', 'Reputation', 'CreationDate', 'DisplayName', 'LastAccessDate', 'Views', 'UpVotes', 'DownVotes', 'ProfileImageUrl'), ('Id', 'Reputation', 'CreationDate', 'DisplayName', 'LastAccessDate', 'WebsiteUrl', 'Location', 'Views', 'UpVotes', 'DownVotes', 'AccountId'), ('Id', 'Reputation', 'CreationDate', 'DisplayName', 'LastAccessDate', 'Views', 'UpVotes', 'DownVotes', 'AccountId'), ('Id', 'Reputation', 'CreationDate', 'DisplayName', 'LastAccessDate', 'AboutMe', 'Views', 'UpVotes', 'DownVotes', 'ProfileImageUrl', 'AccountId'), ('Id', 'Reputation', 'CreationDate', 'DisplayName', 'LastAccessDate', 'WebsiteUrl', 'AboutMe', 'Views', 'UpVotes', 'DownVotes', 'AccountId'), ('Id', 'Reputation', 'CreationDate', 'DisplayName', 'LastAccessDate', 'AboutMe', 'Views', 'UpVotes', 'DownVotes', 'AccountId'), ('Id', 'Reputation', 'CreationDate', 'DisplayName', 'LastAccessDate', 'Location', 'Views', 'UpVotes', 'DownVotes', 'ProfileImageUrl', 'AccountId'), ('Id', 'Reputation', 'CreationDate', 'DisplayName', 'LastAccessDate', 'Location', 'AboutMe', 'Views', 'UpVotes', 'DownVotes', 'AccountId'), ('Id', 'Reputation', 'CreationDate', 'DisplayName', 'LastAccessDate', 'Location', 'Views', 'UpVotes', 'DownVotes', 'AccountId')]\n",
      "CPU times: user 1.7 s, sys: 583 ms, total: 2.29 s\n",
      "Wall time: 29min 1s\n"
     ]
    }
   ],
   "source": [
    "%%time\n",
    "## do not run this, no point\n",
    "#dub = users_bag.map(xml_headers_to_tuple).distinct().compute()\n",
    "#print(dub)"
   ]
  },
  {
   "cell_type": "code",
   "execution_count": 55,
   "metadata": {},
   "outputs": [
    {
     "name": "stdout",
     "output_type": "stream",
     "text": [
      "('Id', 'Reputation', 'CreationDate', 'DisplayName', 'LastAccessDate', 'Views', 'UpVotes', 'DownVotes')\n",
      "CPU times: user 104 µs, sys: 0 ns, total: 104 µs\n",
      "Wall time: 109 µs\n"
     ]
    }
   ],
   "source": [
    "%%time\n",
    "## only one distinct header, do not need to compute this\n",
    "#if len(dub) > 1:\n",
    "#    u_header = find_valid_header(dub)\n",
    "#    print(u_header)"
   ]
  },
  {
   "cell_type": "code",
   "execution_count": 56,
   "metadata": {},
   "outputs": [
    {
     "name": "stdout",
     "output_type": "stream",
     "text": [
      "CPU times: user 57min 46s, sys: 6.97 s, total: 57min 53s\n",
      "Wall time: 57min 52s\n"
     ]
    }
   ],
   "source": [
    "%%time\n",
    "u_header = ('Id', 'Reputation', 'CreationDate', 'DisplayName', 'LastAccessDate', 'Views', 'UpVotes', 'DownVotes')\n",
    "temp_u = users_bag.map(xml_row_to_tuple_attrs, d=u_header)\n",
    "temp_u.to_dataframe(meta=meta_from_header(u_header)).to_csv(\"UsersFrame-*.csv.tar.xz\",compression=\"xz\",index=False)"
   ]
  },
  {
   "cell_type": "markdown",
   "metadata": {},
   "source": [
    "## Votes"
   ]
  },
  {
   "cell_type": "code",
   "execution_count": 59,
   "metadata": {},
   "outputs": [],
   "source": [
    "votes_bag = make_xml_bag(votes)"
   ]
  },
  {
   "cell_type": "code",
   "execution_count": 49,
   "metadata": {},
   "outputs": [
    {
     "name": "stdout",
     "output_type": "stream",
     "text": [
      "[('Id', 'PostId', 'VoteTypeId', 'UserId', 'CreationDate'), ('Id', 'PostId', 'VoteTypeId', 'CreationDate', 'BountyAmount'), ('Id', 'PostId', 'VoteTypeId', 'UserId', 'CreationDate', 'BountyAmount'), ('Id', 'PostId', 'VoteTypeId', 'CreationDate')]\n",
      "CPU times: user 15 s, sys: 5.59 s, total: 20.6 s\n",
      "Wall time: 8h 16min 4s\n"
     ]
    }
   ],
   "source": [
    "%%time\n",
    "### dont run this\n",
    "### never ever\n",
    "#CPU times: user 15 s, sys: 5.59 s, total: 20.6 s\n",
    "#Wall time: 8h 16min 4sys\n",
    "## result copied cell below\n",
    "\n",
    "#dv = votes_bag.map(xml_headers_to_tuple).distinct().compute()\n",
    "#print(dv)"
   ]
  },
  {
   "cell_type": "code",
   "execution_count": 61,
   "metadata": {},
   "outputs": [
    {
     "name": "stdout",
     "output_type": "stream",
     "text": [
      "('Id', 'PostId', 'VoteTypeId', 'CreationDate')\n",
      "CPU times: user 1.83 ms, sys: 0 ns, total: 1.83 ms\n",
      "Wall time: 1.13 ms\n"
     ]
    }
   ],
   "source": [
    "%%time\n",
    "dv = [('Id', 'PostId', 'VoteTypeId', 'UserId', 'CreationDate'), ('Id', 'PostId', 'VoteTypeId', 'CreationDate', 'BountyAmount'), ('Id', 'PostId', 'VoteTypeId', 'UserId', 'CreationDate', 'BountyAmount'), ('Id', 'PostId', 'VoteTypeId', 'CreationDate')]\n",
    "## only one distinct header, do not need to compute this\n",
    "if len(dv) > 1:\n",
    "    v_header = find_valid_header(dv)\n",
    "    print(v_header)"
   ]
  },
  {
   "cell_type": "code",
   "execution_count": 63,
   "metadata": {},
   "outputs": [
    {
     "name": "stdout",
     "output_type": "stream",
     "text": [
      "CPU times: user 7min 49s, sys: 707 ms, total: 7min 50s\n",
      "Wall time: 7min 52s\n"
     ]
    }
   ],
   "source": [
    "%%time\n",
    "temp_v = votes_bag.filter(lambda x: x.find(\"VoteTypeId=\\\"8\\\"\") >= 0 or x.find(\"VoteTypeId=\\\"9\\\"\") >=0)\n",
    "temp_v = temp_v.map(xml_row_to_tuple_attrs, d=v_header)\n",
    "temp_v.to_dataframe(meta=meta_from_header(v_header)).to_csv(\"BountyFrame-*.csv.tar.xz\",compression=\"xz\",index=False)"
   ]
  },
  {
   "cell_type": "markdown",
   "metadata": {},
   "source": [
    "## Posts History\n",
    "seems that data are too big and too complicated to process them right now"
   ]
  },
  {
   "cell_type": "markdown",
   "metadata": {},
   "source": [
    "## Posts and Answers "
   ]
  },
  {
   "cell_type": "code",
   "execution_count": 14,
   "metadata": {
    "ExecuteTime": {
     "end_time": "2019-01-16T11:23:41.512028Z",
     "start_time": "2019-01-16T11:23:41.507337Z"
    }
   },
   "outputs": [
    {
     "name": "stdout",
     "output_type": "stream",
     "text": [
      "CPU times: user 1.43 ms, sys: 0 ns, total: 1.43 ms\n",
      "Wall time: 1.37 ms\n"
     ]
    }
   ],
   "source": [
    "%%time\n",
    "## split posts to posts and answers\n",
    "# takes a while\n",
    "# quite a long ...\n",
    "# man im gonna take a shower\n",
    "\n",
    "both_bag = db.read_text(posts+\".tar.xz\", compression=\"xz\").str.strip()\n",
    "both_bag = both_bag.filter(lambda x: x.find('row') >=0 )\n",
    "#totc = both_bag.count().compute()\n",
    "#totc # total count"
   ]
  },
  {
   "cell_type": "code",
   "execution_count": 16,
   "metadata": {
    "ExecuteTime": {
     "end_time": "2019-01-16T11:23:54.201429Z",
     "start_time": "2019-01-16T11:23:54.195358Z"
    }
   },
   "outputs": [
    {
     "name": "stdout",
     "output_type": "stream",
     "text": [
      "CPU times: user 783 µs, sys: 0 ns, total: 783 µs\n",
      "Wall time: 790 µs\n"
     ]
    }
   ],
   "source": [
    "%%time\n",
    "answers_bag = both_bag.filter(lambda x: x.find(\"PostTypeId=\\\"2\\\"\") >= 0)\n",
    "#answers_bag.map(xml_row_to_tuple).take(1)\n",
    "#ansc = answers_bag.count().compute()\n",
    "#ansc # answers count"
   ]
  },
  {
   "cell_type": "code",
   "execution_count": 17,
   "metadata": {
    "ExecuteTime": {
     "end_time": "2019-01-16T11:23:55.920674Z",
     "start_time": "2019-01-16T11:23:55.914354Z"
    }
   },
   "outputs": [
    {
     "name": "stdout",
     "output_type": "stream",
     "text": [
      "CPU times: user 678 µs, sys: 0 ns, total: 678 µs\n",
      "Wall time: 693 µs\n"
     ]
    }
   ],
   "source": [
    "%%time\n",
    "posts_bag = both_bag.filter(lambda x: x.find(\"PostTypeId=\\\"1\\\"\") >= 0)\n",
    "#posts_bag.map(xml_row_to_tuple).take(1)\n",
    "#posc = posts_bag.count().compute()\n",
    "#posc # posts count"
   ]
  },
  {
   "cell_type": "code",
   "execution_count": 18,
   "metadata": {},
   "outputs": [
    {
     "data": {
      "text/plain": [
       "96395"
      ]
     },
     "execution_count": 18,
     "metadata": {},
     "output_type": "execute_result"
    }
   ],
   "source": [
    "#missing = totc - ansc - posc # how many missing\n",
    "#missing"
   ]
  },
  {
   "cell_type": "code",
   "execution_count": 23,
   "metadata": {},
   "outputs": [
    {
     "data": {
      "text/plain": [
       "96395"
      ]
     },
     "execution_count": 23,
     "metadata": {},
     "output_type": "execute_result"
    }
   ],
   "source": [
    "# try to find missing vol 2 works\n",
    "#both_bag.filter(lambda x: x.find(\"PostTypeId=\\\"1\\\"\") < 0 and x.find(\"PostTypeId=\\\"2\\\"\") < 0).count().compute()"
   ]
  },
  {
   "cell_type": "code",
   "execution_count": 68,
   "metadata": {
    "scrolled": true
   },
   "outputs": [],
   "source": [
    "# check whats wrong with data -> undefined types of posts\n",
    "#both_bag.filter(lambda x: x.find(\"PostTypeId=\\\"1\\\"\") < 0 and x.find(\"PostTypeId=\\\"2\\\"\") < 0).take(1)"
   ]
  },
  {
   "cell_type": "code",
   "execution_count": 18,
   "metadata": {
    "ExecuteTime": {
     "end_time": "2019-01-16T13:04:03.752154Z",
     "start_time": "2019-01-16T11:23:59.063862Z"
    },
    "scrolled": true
   },
   "outputs": [
    {
     "name": "stdout",
     "output_type": "stream",
     "text": [
      "CPU times: user 4.8 s, sys: 1.99 s, total: 6.79 s\n",
      "Wall time: 1h 40min 4s\n"
     ]
    }
   ],
   "source": [
    "%%time\n",
    "## check data structure across answers\n",
    "## dont run it, takes a while\n",
    "dab = answers_bag.map(xml_headers_to_tuple).distinct().compute()\n",
    "#print(dab)"
   ]
  },
  {
   "cell_type": "code",
   "execution_count": 19,
   "metadata": {
    "ExecuteTime": {
     "end_time": "2019-01-16T13:04:03.757318Z",
     "start_time": "2019-01-16T13:04:03.753958Z"
    }
   },
   "outputs": [
    {
     "name": "stdout",
     "output_type": "stream",
     "text": [
      "('Id', 'PostTypeId', 'ParentId', 'CreationDate', 'Score', 'Body', 'LastActivityDate', 'CommentCount')\n",
      "CPU times: user 152 µs, sys: 0 ns, total: 152 µs\n",
      "Wall time: 156 µs\n"
     ]
    }
   ],
   "source": [
    "%%time\n",
    "## only one distinct header, do not need to compute this\n",
    "if len(dab) > 1:\n",
    "    ans_header = find_valid_header(dab)\n",
    "    print(ans_header)\n",
    "#('Id', 'PostTypeId', 'ParentId', 'CreationDate', 'Score', 'Body', 'LastActivityDate', 'CommentCount')"
   ]
  },
  {
   "cell_type": "code",
   "execution_count": 20,
   "metadata": {
    "ExecuteTime": {
     "end_time": "2019-01-16T14:24:46.052596Z",
     "start_time": "2019-01-16T13:04:03.759029Z"
    },
    "scrolled": true
   },
   "outputs": [
    {
     "name": "stdout",
     "output_type": "stream",
     "text": [
      "CPU times: user 4.23 s, sys: 1.53 s, total: 5.76 s\n",
      "Wall time: 1h 20min 42s\n"
     ]
    }
   ],
   "source": [
    "%%time\n",
    "## check data structure across posts\n",
    "## dont run it, takes a while\n",
    "dpb = posts_bag.map(xml_headers_to_tuple).distinct().compute()\n",
    "#print(dpb)"
   ]
  },
  {
   "cell_type": "code",
   "execution_count": 21,
   "metadata": {
    "ExecuteTime": {
     "end_time": "2019-01-16T14:24:46.059466Z",
     "start_time": "2019-01-16T14:24:46.054927Z"
    }
   },
   "outputs": [
    {
     "name": "stdout",
     "output_type": "stream",
     "text": [
      "('Id', 'PostTypeId', 'CreationDate', 'Score', 'ViewCount', 'Body', 'LastActivityDate', 'Title', 'Tags', 'AnswerCount', 'CommentCount')\n",
      "CPU times: user 1e+03 µs, sys: 0 ns, total: 1e+03 µs\n",
      "Wall time: 953 µs\n"
     ]
    }
   ],
   "source": [
    "%%time\n",
    "## only one distinct header, do not need to compute this\n",
    "if len(dpb) > 1:\n",
    "    pos_header = find_valid_header(dpb)\n",
    "    print(pos_header)\n",
    "#('Id', 'PostTypeId', 'CreationDate', 'Score', 'ViewCount', 'Body', 'LastActivityDate', 'Title', 'Tags', 'AnswerCount', 'CommentCount')"
   ]
  }
 ],
 "metadata": {
  "kernelspec": {
   "display_name": "Python 3",
   "language": "python",
   "name": "python3"
  },
  "language_info": {
   "codemirror_mode": {
    "name": "ipython",
    "version": 3
   },
   "file_extension": ".py",
   "mimetype": "text/x-python",
   "name": "python",
   "nbconvert_exporter": "python",
   "pygments_lexer": "ipython3",
   "version": "3.6.7"
  },
  "latex_envs": {
   "LaTeX_envs_menu_present": true,
   "autoclose": false,
   "autocomplete": true,
   "bibliofile": "biblio.bib",
   "cite_by": "apalike",
   "current_citInitial": 1,
   "eqLabelWithNumbers": true,
   "eqNumInitial": 1,
   "hotkeys": {
    "equation": "Ctrl-E",
    "itemize": "Ctrl-I"
   },
   "labels_anchors": false,
   "latex_user_defs": false,
   "report_style_numbering": false,
   "user_envs_cfg": false
  }
 },
 "nbformat": 4,
 "nbformat_minor": 2
}
