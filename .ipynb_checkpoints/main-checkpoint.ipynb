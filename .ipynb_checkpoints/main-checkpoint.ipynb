{
 "cells": [
  {
   "cell_type": "markdown",
   "metadata": {},
   "source": [
    "# Big Data - Project\n",
    "\n",
    "## TODO TOPIC\n",
    "\n",
    "### Dragan Postolovsky\n",
    "### Wojciech Taisner"
   ]
  },
  {
   "cell_type": "markdown",
   "metadata": {},
   "source": [
    "TODO\n",
    "\n",
    "A 1-page summary of litterature review on studies investigating stackoverflow data"
   ]
  },
  {
   "cell_type": "markdown",
   "metadata": {},
   "source": [
    "TODO\n",
    "\n",
    "An enumeration of \"interesting\" investigations directions for the 10-year dataset of stack overflow (from 09/2008 to 09/2018)"
   ]
  },
  {
   "cell_type": "markdown",
   "metadata": {},
   "source": [
    "### What were the questions?"
   ]
  },
  {
   "cell_type": "markdown",
   "metadata": {},
   "source": [
    "TODO\n",
    "\n",
    "A report with analysis results (including visualisation, and statistics) of the 10 years data. These results are the fruit of the investigations projected earlier"
   ]
  },
  {
   "cell_type": "code",
   "execution_count": 1,
   "metadata": {},
   "outputs": [],
   "source": [
    "# import dask bag\n",
    "import dask.bag as db\n",
    "# import BeatuifulSoup\n",
    "from bs4 import BeautifulSoup"
   ]
  },
  {
   "cell_type": "code",
   "execution_count": 2,
   "metadata": {},
   "outputs": [
    {
     "data": {
      "text/plain": [
       "['Badges', 'Comments', 'PostLinks', 'Posts', 'Tags', 'Users', 'Votes']"
      ]
     },
     "execution_count": 2,
     "metadata": {},
     "output_type": "execute_result"
    }
   ],
   "source": [
    "#files\n",
    "base = \"stackoverflow.com-\"\n",
    "\n",
    "badges = \"Badges\"\n",
    "comments = \"Comments\"\n",
    "posthistory = \"PostHistory\"\n",
    "postlinks = \"PostLinks\"\n",
    "posts = \"Posts\"\n",
    "tags = \"Tags\"\n",
    "users = \"Users\"\n",
    "votes = \"Votes\"\n",
    "\n",
    "all_files = [badges, comments, postlinks, posts, tags, users, votes] # posthistory, \n",
    "# for some reason post history does not want to co-operate\n",
    "all_files"
   ]
  },
  {
   "cell_type": "markdown",
   "metadata": {},
   "source": [
    "# Functions"
   ]
  },
  {
   "cell_type": "code",
   "execution_count": 3,
   "metadata": {},
   "outputs": [],
   "source": [
    "# non complex parsing (ex badges, tags, etc)\n",
    "def xml_row_to_tuple(row): # gets data from single xml row (attr values)\n",
    "    soup = BeautifulSoup(row, \"xml\")\n",
    "    ret = []\n",
    "    for a, v in soup.row.attrs.items():\n",
    "        if v.isdigit():\n",
    "            v = int(v) #integers take less memory :D\n",
    "        ret.append(v)\n",
    "    return tuple(ret);\n",
    "\n",
    "\n",
    "def xml_headers_to_tuple(row): # gets headers for single xml row (attr names)\n",
    "    soup = BeautifulSoup(row, \"xml\")\n",
    "    ret = []\n",
    "    for a, v in soup.row.attrs.items():\n",
    "        ret.append(a)\n",
    "    return tuple(ret);"
   ]
  },
  {
   "cell_type": "code",
   "execution_count": 4,
   "metadata": {},
   "outputs": [],
   "source": [
    "# TODO read bag function"
   ]
  },
  {
   "cell_type": "code",
   "execution_count": 5,
   "metadata": {},
   "outputs": [],
   "source": [
    "# check if bag is ok (data are more-a-less structured)\n",
    "# takes a while of course\n",
    "def check_bag(bag):\n",
    "    ma = bag.map(xml_row_to_tuple).map(lambda x: len(x)).max().compute()\n",
    "    mi = bag.map(xml_row_to_tuple).map(lambda x: len(x)).min().compute()\n",
    "    if ma == mi:\n",
    "        return True\n",
    "    print(ma, mi)\n",
    "    return False"
   ]
  },
  {
   "cell_type": "markdown",
   "metadata": {},
   "source": [
    "## Review of files structure (probably to be removed later)"
   ]
  },
  {
   "cell_type": "code",
   "execution_count": 6,
   "metadata": {
    "scrolled": false
   },
   "outputs": [
    {
     "name": "stdout",
     "output_type": "stream",
     "text": [
      "Badges\n",
      "0: Id\n",
      "1: UserId\n",
      "2: Name\n",
      "3: Date\n",
      "4: Class\n",
      "5: TagBased\n",
      "0: 82946\n",
      "1: 3718\n",
      "2: Teacher\n",
      "3: 2008-09-15T08:55:03.923\n",
      "4: 3\n",
      "5: False\n",
      "Comments\n",
      "0: Id\n",
      "1: PostId\n",
      "2: Score\n",
      "3: Text\n",
      "4: CreationDate\n",
      "5: UserId\n",
      "0: 2\n",
      "1: 35314\n",
      "2: 8\n",
      "3: Yeah, I didn't believe it until I created a console app - but good lord!  Why would they give you the rope to hang yourself!  I hated that about VB.NET - the OrElse and AndAlso keywords!\n",
      "4: 2008-09-06T08:09:52.330\n",
      "5: 3\n",
      "PostLinks\n",
      "0: Id\n",
      "1: CreationDate\n",
      "2: PostId\n",
      "3: RelatedPostId\n",
      "4: LinkTypeId\n",
      "0: 19\n",
      "1: 2010-04-26T02:59:48.130\n",
      "2: 109\n",
      "3: 32412\n",
      "4: 1\n",
      "Posts\n",
      "0: Id\n",
      "1: PostTypeId\n",
      "2: AcceptedAnswerId\n",
      "3: CreationDate\n",
      "4: Score\n",
      "5: ViewCount\n",
      "6: Body\n",
      "7: OwnerUserId\n",
      "8: LastEditorUserId\n",
      "9: LastEditorDisplayName\n",
      "10: LastEditDate\n",
      "11: LastActivityDate\n",
      "12: Title\n",
      "13: Tags\n",
      "14: AnswerCount\n",
      "15: CommentCount\n",
      "16: FavoriteCount\n",
      "0: 6\n",
      "1: 1\n",
      "2: 31\n",
      "3: 2008-07-31T22:08:08.620\n",
      "4: 261\n",
      "5: 16799\n",
      "6: <p>I have an absolutely positioned <code>div</code> containing several children, one of which is a relatively positioned <code>div</code>. When I use a <strong>percentage-based width</strong> on the child <code>div</code>, it collapses to '0' width on <a href=\"http://en.wikipedia.org/wiki/Internet_Explorer_7\" rel=\"noreferrer\">Internet&nbsp;Explorer&nbsp;7</a>, but not on Firefox or Safari.</p>\n",
      "\n",
      "<p>If I use <strong>pixel width</strong>, it works. If the parent is relatively positioned, the percentage width on the child works.</p>\n",
      "\n",
      "<ol>\n",
      "<li>Is there something I'm missing here?</li>\n",
      "<li>Is there an easy fix for this besides the <em>pixel-based width</em> on the\n",
      "child?</li>\n",
      "<li>Is there an area of the CSS specification that covers this?</li>\n",
      "</ol>\n",
      "\n",
      "7: 9\n",
      "8: 63550\n",
      "9: Rich B\n",
      "10: 2016-03-19T06:05:48.487\n",
      "11: 2018-10-16T16:54:34.953\n",
      "12: Percentage width child element in absolutely positioned parent on Internet Explorer 7\n",
      "13: <html><css><css3><internet-explorer-7>\n",
      "14: 6\n",
      "15: 0\n",
      "16: 12\n",
      "Tags\n",
      "0: Id\n",
      "1: TagName\n",
      "2: Count\n",
      "3: ExcerptPostId\n",
      "4: WikiPostId\n",
      "0: 1\n",
      "1: .net\n",
      "2: 276857\n",
      "3: 3624959\n",
      "4: 3607476\n",
      "Users\n",
      "0: Id\n",
      "1: Reputation\n",
      "2: CreationDate\n",
      "3: DisplayName\n",
      "4: LastAccessDate\n",
      "5: WebsiteUrl\n",
      "6: Location\n",
      "7: AboutMe\n",
      "8: Views\n",
      "9: UpVotes\n",
      "10: DownVotes\n",
      "11: AccountId\n",
      "0: -1\n",
      "1: 1\n",
      "2: 2008-07-31T00:00:00.000\n",
      "3: Community\n",
      "4: 2008-08-26T00:16:53.810\n",
      "5: http://meta.stackexchange.com/\n",
      "6: on the server farm\n",
      "7: <p>Hi, I'm not really a person.</p>\n",
      "\n",
      "<p>I'm a background process that helps keep this site clean!</p>\n",
      "\n",
      "<p>I do things like</p>\n",
      "\n",
      "<ul>\n",
      "<li>Randomly poke old unanswered questions every hour so they get some attention</li>\n",
      "<li>Own community questions and answers so nobody gets unnecessary reputation from them</li>\n",
      "<li>Own downvotes on spam/evil posts that get permanently deleted</li>\n",
      "<li>Own suggested edits from anonymous users</li>\n",
      "<li><a href=\"http://meta.stackexchange.com/a/92006\">Remove abandoned questions</a></li>\n",
      "</ul>\n",
      "\n",
      "8: 649\n",
      "9: 304659\n",
      "10: 1072783\n",
      "11: -1\n",
      "Votes\n",
      "0: Id\n",
      "1: PostId\n",
      "2: VoteTypeId\n",
      "3: CreationDate\n",
      "0: 1\n",
      "1: 1\n",
      "2: 2\n",
      "3: 2008-07-31T00:00:00.000\n"
     ]
    }
   ],
   "source": [
    "# refiew structure of all files\n",
    "# takes a while\n",
    "extension=\".tar.xz\"\n",
    "compression=\"xz\"\n",
    "for filename in all_files:\n",
    "    print(filename)\n",
    "    temp_bag = db.read_text(filename+extension, compression=compression).str.strip()\n",
    "    temp_bag = temp_bag.filter(lambda x: x.find(\"row\") >= 0)\n",
    "    th = temp_bag.map(xml_headers_to_tuple).take(1)[0]\n",
    "    #print(th)\n",
    "    for i, v in enumerate(th):\n",
    "        print('{}: {}'.format(i, v))\n",
    "    #too long for showcase only\n",
    "    #t = temp_bag.map(xml_row_to_tuple).compute()\n",
    "    #print(t[0:4])\n",
    "    #tp = list(temp_bag.map(xml_row_to_tuple).take(4))\n",
    "    #for t in tp:\n",
    "    #    print(t)\n",
    "    tp = temp_bag.map(xml_row_to_tuple).take(1)[0]\n",
    "    for i, v in enumerate(tp):\n",
    "        print('{}: {}'.format(i, v))\n",
    "    "
   ]
  },
  {
   "cell_type": "markdown",
   "metadata": {},
   "source": [
    "# Some real stuff"
   ]
  },
  {
   "cell_type": "markdown",
   "metadata": {},
   "source": [
    "## Tags"
   ]
  },
  {
   "cell_type": "code",
   "execution_count": 7,
   "metadata": {},
   "outputs": [],
   "source": [
    "# read tags bag, select rows only\n",
    "tags_bag = db.read_text(tags+\".tar.xz\", compression=\"xz\").str.strip()\n",
    "tags_bag = tags_bag.filter(lambda x: x.find(\"row\") >= 0)"
   ]
  },
  {
   "cell_type": "markdown",
   "metadata": {},
   "source": [
    "### Simple tests [Polygon]"
   ]
  },
  {
   "cell_type": "code",
   "execution_count": 8,
   "metadata": {},
   "outputs": [
    {
     "name": "stdout",
     "output_type": "stream",
     "text": [
      "<row Id=\"1\" TagName=\".net\" Count=\"276857\" ExcerptPostId=\"3624959\" WikiPostId=\"3607476\" />\n",
      "(1, '.net', 276857, 3624959, 3607476)\n",
      "<row Id=\"2\" TagName=\"html\" Count=\"789778\" ExcerptPostId=\"3673183\" WikiPostId=\"3673182\" />\n",
      "(2, 'html', 789778, 3673183, 3673182)\n",
      "<row Id=\"3\" TagName=\"javascript\" Count=\"1723731\" ExcerptPostId=\"3624960\" WikiPostId=\"3607052\" />\n",
      "(3, 'javascript', 1723731, 3624960, 3607052)\n",
      "<row Id=\"4\" TagName=\"css\" Count=\"563816\" ExcerptPostId=\"3644670\" WikiPostId=\"3644669\" />\n",
      "(4, 'css', 563816, 3644670, 3644669)\n"
     ]
    }
   ],
   "source": [
    "for row in tags_bag.take(4):\n",
    "    print(row);\n",
    "    print(xml_row_to_tuple(row))\n",
    "    #soup = BeautifulSoup(row, \"xml\")\n",
    "    #print(soup.row['Id'], soup.row['TagName'], soup.row['Count'])"
   ]
  },
  {
   "cell_type": "code",
   "execution_count": 9,
   "metadata": {},
   "outputs": [
    {
     "data": {
      "text/plain": [
       "(1, '.net', 276857, 3624959, 3607476)"
      ]
     },
     "execution_count": 9,
     "metadata": {},
     "output_type": "execute_result"
    }
   ],
   "source": [
    "tags_bag.take(4) # return tuple\n",
    "test = tags_bag.map(xml_row_to_tuple).compute()\n",
    "test[0]\n",
    "#carefull, takes a while"
   ]
  },
  {
   "cell_type": "code",
   "execution_count": 10,
   "metadata": {},
   "outputs": [
    {
     "data": {
      "text/plain": [
       "('Id', 'TagName', 'Count', 'ExcerptPostId', 'WikiPostId')"
      ]
     },
     "execution_count": 10,
     "metadata": {},
     "output_type": "execute_result"
    }
   ],
   "source": [
    "header = tags_bag.map(xml_headers_to_tuple).take(1)[0]\n",
    "header"
   ]
  },
  {
   "cell_type": "code",
   "execution_count": 11,
   "metadata": {},
   "outputs": [
    {
     "name": "stdout",
     "output_type": "stream",
     "text": [
      "<class 'dask.bag.core.Bag'>\n",
      "<class 'list'>\n"
     ]
    }
   ],
   "source": [
    "print(type(tags_bag))\n",
    "print(type(test))\n",
    "#tags_bag.map(xml_row_to_tuple).take(1)"
   ]
  },
  {
   "cell_type": "code",
   "execution_count": 12,
   "metadata": {},
   "outputs": [
    {
     "name": "stdout",
     "output_type": "stream",
     "text": [
      "5 3\n"
     ]
    },
    {
     "data": {
      "text/plain": [
       "False"
      ]
     },
     "execution_count": 12,
     "metadata": {},
     "output_type": "execute_result"
    }
   ],
   "source": [
    "# takes a while\n",
    "check_bag(tags_bag)"
   ]
  },
  {
   "cell_type": "code",
   "execution_count": 13,
   "metadata": {},
   "outputs": [
    {
     "data": {
      "text/plain": [
       "14218"
      ]
     },
     "execution_count": 13,
     "metadata": {},
     "output_type": "execute_result"
    }
   ],
   "source": [
    "tags_bag.map(xml_row_to_tuple).filter(lambda x: len(x)<5).count().compute()"
   ]
  },
  {
   "cell_type": "code",
   "execution_count": 14,
   "metadata": {},
   "outputs": [
    {
     "data": {
      "text/plain": [
       "[('Id', 'TagName', 'Count')]"
      ]
     },
     "execution_count": 14,
     "metadata": {},
     "output_type": "execute_result"
    }
   ],
   "source": [
    "tags_bag.map(xml_headers_to_tuple).filter(lambda x: len(x)==3).distinct().compute()\n",
    "#tags_bag.count().compute()\n",
    "#\n",
    "# 14k / 55k has only 3/5 tags (two last missing), need to be dropped\n",
    "#"
   ]
  },
  {
   "cell_type": "markdown",
   "metadata": {},
   "source": [
    "## Posts and Answers "
   ]
  },
  {
   "cell_type": "code",
   "execution_count": 15,
   "metadata": {},
   "outputs": [],
   "source": [
    "## split posts to posts and answers\n",
    "# takes a while\n",
    "# quite a long ...\n",
    "# man im gonna take a shower\n",
    "both_bag = db.read_text(posts+\".tar.xz\", compression=\"xz\").str.strip()\n",
    "both_bag = both_bag.filter(lambda x: x.find('row') >=0 )\n",
    "#both_bag.count().compute()"
   ]
  },
  {
   "cell_type": "code",
   "execution_count": 16,
   "metadata": {},
   "outputs": [
    {
     "data": {
      "text/plain": [
       "((12,\n",
       "  2,\n",
       "  11,\n",
       "  '2008-07-31T23:56:41.303',\n",
       "  323,\n",
       "  '<p>Here\\'s how I do it</p>\\n\\n<pre class=\"lang-csharp prettyprint-override\"><code>var ts = new TimeSpan(DateTime.UtcNow.Ticks - dt.Ticks);\\ndouble delta = Math.Abs(ts.TotalSeconds);\\n\\nif (delta &lt; 60)\\n{\\n  return ts.Seconds == 1 ? \"one second ago\" : ts.Seconds + \" seconds ago\";\\n}\\nif (delta &lt; 120)\\n{\\n  return \"a minute ago\";\\n}\\nif (delta &lt; 2700) // 45 * 60\\n{\\n  return ts.Minutes + \" minutes ago\";\\n}\\nif (delta &lt; 5400) // 90 * 60\\n{\\n  return \"an hour ago\";\\n}\\nif (delta &lt; 86400) // 24 * 60 * 60\\n{\\n  return ts.Hours + \" hours ago\";\\n}\\nif (delta &lt; 172800) // 48 * 60 * 60\\n{\\n  return \"yesterday\";\\n}\\nif (delta &lt; 2592000) // 30 * 24 * 60 * 60\\n{\\n  return ts.Days + \" days ago\";\\n}\\nif (delta &lt; 31104000) // 12 * 30 * 24 * 60 * 60\\n{\\n  int months = Convert.ToInt32(Math.Floor((double)ts.Days / 30));\\n  return months &lt;= 1 ? \"one month ago\" : months + \" months ago\";\\n}\\nint years = Convert.ToInt32(Math.Floor((double)ts.Days / 365));\\nreturn years &lt;= 1 ? \"one year ago\" : years + \" years ago\";\\n</code></pre>\\n\\n<p>Suggestions? Comments? Ways to improve this algorithm?</p>\\n',\n",
       "  1,\n",
       "  1271898,\n",
       "  'GateKiller',\n",
       "  '2018-01-12T16:10:22.637',\n",
       "  '2018-01-12T16:10:22.637',\n",
       "  11,\n",
       "  '2009-09-04T13:15:59.820'),)"
      ]
     },
     "execution_count": 16,
     "metadata": {},
     "output_type": "execute_result"
    }
   ],
   "source": [
    "answers_bag = both_bag.filter(lambda x: x.find(\"PostTypeId=\\\"2\\\"\") >= 0)\n",
    "answers_bag.map(xml_row_to_tuple).take(1)\n",
    "#answers_bag.count().compute()"
   ]
  },
  {
   "cell_type": "code",
   "execution_count": 17,
   "metadata": {},
   "outputs": [
    {
     "data": {
      "text/plain": [
       "((6,\n",
       "  1,\n",
       "  31,\n",
       "  '2008-07-31T22:08:08.620',\n",
       "  261,\n",
       "  16799,\n",
       "  '<p>I have an absolutely positioned <code>div</code> containing several children, one of which is a relatively positioned <code>div</code>. When I use a <strong>percentage-based width</strong> on the child <code>div</code>, it collapses to \\'0\\' width on <a href=\"http://en.wikipedia.org/wiki/Internet_Explorer_7\" rel=\"noreferrer\">Internet&nbsp;Explorer&nbsp;7</a>, but not on Firefox or Safari.</p>\\n\\n<p>If I use <strong>pixel width</strong>, it works. If the parent is relatively positioned, the percentage width on the child works.</p>\\n\\n<ol>\\n<li>Is there something I\\'m missing here?</li>\\n<li>Is there an easy fix for this besides the <em>pixel-based width</em> on the\\nchild?</li>\\n<li>Is there an area of the CSS specification that covers this?</li>\\n</ol>\\n',\n",
       "  9,\n",
       "  63550,\n",
       "  'Rich B',\n",
       "  '2016-03-19T06:05:48.487',\n",
       "  '2018-10-16T16:54:34.953',\n",
       "  'Percentage width child element in absolutely positioned parent on Internet Explorer 7',\n",
       "  '<html><css><css3><internet-explorer-7>',\n",
       "  6,\n",
       "  0,\n",
       "  12),)"
      ]
     },
     "execution_count": 17,
     "metadata": {},
     "output_type": "execute_result"
    }
   ],
   "source": [
    "posts_bag = both_bag.filter(lambda x: x.find(\"PostTypeId=\\\"1\\\"\") >= 0)\n",
    "posts_bag.map(xml_row_to_tuple).take(1)\n",
    "#posts_bag.count().compute()"
   ]
  },
  {
   "cell_type": "code",
   "execution_count": 18,
   "metadata": {},
   "outputs": [],
   "source": [
    "## header"
   ]
  },
  {
   "cell_type": "code",
   "execution_count": null,
   "metadata": {},
   "outputs": [],
   "source": []
  }
 ],
 "metadata": {
  "kernelspec": {
   "display_name": "Python 3",
   "language": "python",
   "name": "python3"
  },
  "language_info": {
   "codemirror_mode": {
    "name": "ipython",
    "version": 3
   },
   "file_extension": ".py",
   "mimetype": "text/x-python",
   "name": "python",
   "nbconvert_exporter": "python",
   "pygments_lexer": "ipython3",
   "version": "3.6.7"
  },
  "latex_envs": {
   "LaTeX_envs_menu_present": true,
   "autoclose": false,
   "autocomplete": true,
   "bibliofile": "biblio.bib",
   "cite_by": "apalike",
   "current_citInitial": 1,
   "eqLabelWithNumbers": true,
   "eqNumInitial": 1,
   "hotkeys": {
    "equation": "Ctrl-E",
    "itemize": "Ctrl-I"
   },
   "labels_anchors": false,
   "latex_user_defs": false,
   "report_style_numbering": false,
   "user_envs_cfg": false
  }
 },
 "nbformat": 4,
 "nbformat_minor": 2
}
