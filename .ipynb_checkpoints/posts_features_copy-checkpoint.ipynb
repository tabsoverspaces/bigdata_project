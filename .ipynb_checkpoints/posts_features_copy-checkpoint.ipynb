{
 "cells": [
  {
   "cell_type": "markdown",
   "metadata": {},
   "source": [
    "# Joining data from various files\n",
    "In this file, data from various posts are joined and exported possibly as single dataframe, so expensive joining operation will not have to be performed more than required\n",
    "\n",
    "Notice: reading from uncompressed files to allow splitting to blocks"
   ]
  },
  {
   "cell_type": "code",
   "execution_count": 1,
   "metadata": {
    "ExecuteTime": {
     "end_time": "2019-01-28T13:20:20.119749Z",
     "start_time": "2019-01-28T13:20:19.717087Z"
    }
   },
   "outputs": [],
   "source": [
    "# import dask bag\n",
    "import dask.dataframe as dd\n",
    "import numpy as np\n",
    "import pandas as pd"
   ]
  },
  {
   "cell_type": "code",
   "execution_count": 2,
   "metadata": {
    "ExecuteTime": {
     "end_time": "2019-01-28T13:20:20.236610Z",
     "start_time": "2019-01-28T13:20:20.121539Z"
    }
   },
   "outputs": [
    {
     "name": "stdout",
     "output_type": "stream",
     "text": [
      "-rw-rw-r--. 1 wojtek wojtek   50125597 01-28 14:01 BadgesAggregatedFrame-0.csv\r\n",
      "-rw-rw-r--. 1 wojtek wojtek   11813382 01-26 13:52 BountyFrame-0.csv\r\n",
      "-rw-r--r--. 1 wojtek wojtek   38969687 01-28 10:18 DuplicateFrame-0.csv\r\n",
      "-rw-r--r--. 1 wojtek wojtek 2052407604 01-28 10:09 PostsFrame-0.csv\r\n",
      "-rw-r--r--. 1 wojtek wojtek 1924302938 01-18 11:49 PostsFrame-0_old.csv\r\n",
      "-rw-rw-r--. 1 wojtek wojtek    1476262 01-13 21:05 TagsFrame-0.csv\r\n",
      "-rw-r--r--. 1 wojtek wojtek  739021521 01-28 10:14 UsersFrame-0.csv\r\n"
     ]
    }
   ],
   "source": [
    "!ls -la *.csv"
   ]
  },
  {
   "cell_type": "markdown",
   "metadata": {},
   "source": [
    "# Data loading"
   ]
  },
  {
   "cell_type": "code",
   "execution_count": 3,
   "metadata": {
    "ExecuteTime": {
     "end_time": "2019-01-28T13:20:20.480600Z",
     "start_time": "2019-01-28T13:20:20.238531Z"
    }
   },
   "outputs": [],
   "source": [
    "# posts\n",
    "# posts = dd.read_csv(\"PostsFrame-0.csv.tar.xz\",compression=\"xz\",blocksize=None)\n",
    "posts = dd.read_csv(\"PostsFrame-0.csv\")\n",
    "\n",
    "# remove unnecessary dataframe columns\n",
    "posts = posts.drop(['CreationDate','LastActivityDate'], axis=1)\n",
    "\n",
    "# smaller frame for testing purposes\n",
    "#test_posts = posts.sample(frac=0.01) # comment to preserve some memory"
   ]
  },
  {
   "cell_type": "code",
   "execution_count": 4,
   "metadata": {
    "ExecuteTime": {
     "end_time": "2019-01-28T13:20:20.627855Z",
     "start_time": "2019-01-28T13:20:20.482241Z"
    }
   },
   "outputs": [],
   "source": [
    "# users\n",
    "#users = dd.read_csv(\"UsersFrame-0.csv.tar.xz\",compression=\"xz\",blocksize=None)\n",
    "users = dd.read_csv(\"UsersFrame-0.csv\")\n",
    "\n",
    "# remove unnecessary dataframe columns\n",
    "users = users.drop(['DisplayName','CreationDate','LastAccessDate'], axis=1)"
   ]
  },
  {
   "cell_type": "code",
   "execution_count": 5,
   "metadata": {
    "ExecuteTime": {
     "end_time": "2019-01-28T13:20:20.752812Z",
     "start_time": "2019-01-28T13:20:20.629383Z"
    },
    "scrolled": true
   },
   "outputs": [],
   "source": [
    "# duplicates\n",
    "#duplicate = dd.read_csv(\"DuplicateFrame-0.csv.tar.xz\",compression=\"xz\",blocksize=None)\n",
    "duplicate = dd.read_csv(\"DuplicateFrame-0.csv\")\n",
    "\n",
    "# remove unnecessary dataframe columns\n",
    "duplicate = duplicate.drop(['Id','CreationDate','LinkTypeId','RelatedPostId'], axis=1)"
   ]
  },
  {
   "cell_type": "code",
   "execution_count": 6,
   "metadata": {
    "ExecuteTime": {
     "end_time": "2019-01-28T13:20:22.004175Z",
     "start_time": "2019-01-28T13:20:20.754920Z"
    }
   },
   "outputs": [
    {
     "data": {
      "text/html": [
       "<div>\n",
       "<style scoped>\n",
       "    .dataframe tbody tr th:only-of-type {\n",
       "        vertical-align: middle;\n",
       "    }\n",
       "\n",
       "    .dataframe tbody tr th {\n",
       "        vertical-align: top;\n",
       "    }\n",
       "\n",
       "    .dataframe thead th {\n",
       "        text-align: right;\n",
       "    }\n",
       "</style>\n",
       "<table border=\"1\" class=\"dataframe\">\n",
       "  <thead>\n",
       "    <tr style=\"text-align: right;\">\n",
       "      <th></th>\n",
       "      <th>PostId</th>\n",
       "    </tr>\n",
       "  </thead>\n",
       "  <tbody>\n",
       "    <tr>\n",
       "      <th>0</th>\n",
       "      <td>70714</td>\n",
       "    </tr>\n",
       "    <tr>\n",
       "      <th>1</th>\n",
       "      <td>86947</td>\n",
       "    </tr>\n",
       "    <tr>\n",
       "      <th>2</th>\n",
       "      <td>97679</td>\n",
       "    </tr>\n",
       "    <tr>\n",
       "      <th>3</th>\n",
       "      <td>99408</td>\n",
       "    </tr>\n",
       "    <tr>\n",
       "      <th>4</th>\n",
       "      <td>26925</td>\n",
       "    </tr>\n",
       "  </tbody>\n",
       "</table>\n",
       "</div>"
      ],
      "text/plain": [
       "   PostId\n",
       "0   70714\n",
       "1   86947\n",
       "2   97679\n",
       "3   99408\n",
       "4   26925"
      ]
     },
     "execution_count": 6,
     "metadata": {},
     "output_type": "execute_result"
    }
   ],
   "source": [
    "duplicate.head()"
   ]
  },
  {
   "cell_type": "code",
   "execution_count": 7,
   "metadata": {
    "ExecuteTime": {
     "end_time": "2019-01-28T13:20:22.117466Z",
     "start_time": "2019-01-28T13:20:22.006356Z"
    }
   },
   "outputs": [],
   "source": [
    "# tags\n",
    "#tags = dd.read_csv(\"TagsFrame-0.csv.tar.xz\",compression=\"xz\",blocksize=None)\n",
    "tags = dd.read_csv(\"TagsFrame-0.csv\")"
   ]
  },
  {
   "cell_type": "code",
   "execution_count": 8,
   "metadata": {
    "ExecuteTime": {
     "end_time": "2019-01-28T13:20:22.347124Z",
     "start_time": "2019-01-28T13:20:22.120586Z"
    }
   },
   "outputs": [],
   "source": [
    "# bounty\n",
    "# bounty = dd.read_csv(\"BountyFrame-0.csv.tar.xz\",compression=\"xz\",blocksize=None)\n",
    "bounty = dd.read_csv(\"BountyFrame-0.csv\")\n",
    "\n",
    "# remove unnecessary dataframe columns\n",
    "bounty = bounty.drop(['VoteTypeId','CreationDate', 'Id'], axis=1)\n",
    "\n",
    "# add a column to the bounty frame \n",
    "# we join this with the posts later\n",
    "bounty = bounty.assign(hasBounty = True)"
   ]
  },
  {
   "cell_type": "code",
   "execution_count": 9,
   "metadata": {
    "ExecuteTime": {
     "end_time": "2019-01-28T13:20:22.381126Z",
     "start_time": "2019-01-28T13:20:22.348756Z"
    }
   },
   "outputs": [],
   "source": [
    "# badges\n",
    "#badgesAggregate = dd.read_csv(\"BadgesAggregatedFrame-0.csv.tar.xz\",compression=\"xz\",blocksize=None)\n",
    "badgesAggregate = dd.read_csv(\"BadgesAggregatedFrame-0.csv\")"
   ]
  },
  {
   "cell_type": "code",
   "execution_count": 10,
   "metadata": {
    "ExecuteTime": {
     "end_time": "2019-01-28T13:20:42.422936Z",
     "start_time": "2019-01-28T13:20:22.383981Z"
    }
   },
   "outputs": [],
   "source": [
    "# join users with badges count\n",
    "usersWithBadges = users.set_index('Id').join(badgesAggregate.set_index('UserId'))"
   ]
  },
  {
   "cell_type": "code",
   "execution_count": 11,
   "metadata": {
    "ExecuteTime": {
     "end_time": "2019-01-28T13:20:44.434060Z",
     "start_time": "2019-01-28T13:20:42.424200Z"
    }
   },
   "outputs": [
    {
     "data": {
      "text/html": [
       "<div>\n",
       "<style scoped>\n",
       "    .dataframe tbody tr th:only-of-type {\n",
       "        vertical-align: middle;\n",
       "    }\n",
       "\n",
       "    .dataframe tbody tr th {\n",
       "        vertical-align: top;\n",
       "    }\n",
       "\n",
       "    .dataframe thead th {\n",
       "        text-align: right;\n",
       "    }\n",
       "</style>\n",
       "<table border=\"1\" class=\"dataframe\">\n",
       "  <thead>\n",
       "    <tr style=\"text-align: right;\">\n",
       "      <th></th>\n",
       "      <th>Reputation</th>\n",
       "      <th>Views</th>\n",
       "      <th>UpVotes</th>\n",
       "      <th>DownVotes</th>\n",
       "      <th>BadgesCount</th>\n",
       "    </tr>\n",
       "    <tr>\n",
       "      <th>Id</th>\n",
       "      <th></th>\n",
       "      <th></th>\n",
       "      <th></th>\n",
       "      <th></th>\n",
       "      <th></th>\n",
       "    </tr>\n",
       "  </thead>\n",
       "  <tbody>\n",
       "    <tr>\n",
       "      <th>-1</th>\n",
       "      <td>1</td>\n",
       "      <td>649</td>\n",
       "      <td>304659</td>\n",
       "      <td>1072783</td>\n",
       "      <td>1.0</td>\n",
       "    </tr>\n",
       "    <tr>\n",
       "      <th>1</th>\n",
       "      <td>45009</td>\n",
       "      <td>431337</td>\n",
       "      <td>3370</td>\n",
       "      <td>1310</td>\n",
       "      <td>332.0</td>\n",
       "    </tr>\n",
       "    <tr>\n",
       "      <th>2</th>\n",
       "      <td>3509</td>\n",
       "      <td>24377</td>\n",
       "      <td>653</td>\n",
       "      <td>88</td>\n",
       "      <td>92.0</td>\n",
       "    </tr>\n",
       "    <tr>\n",
       "      <th>3</th>\n",
       "      <td>13503</td>\n",
       "      <td>24701</td>\n",
       "      <td>7349</td>\n",
       "      <td>100</td>\n",
       "      <td>131.0</td>\n",
       "    </tr>\n",
       "    <tr>\n",
       "      <th>4</th>\n",
       "      <td>28953</td>\n",
       "      <td>74458</td>\n",
       "      <td>798</td>\n",
       "      <td>96</td>\n",
       "      <td>187.0</td>\n",
       "    </tr>\n",
       "  </tbody>\n",
       "</table>\n",
       "</div>"
      ],
      "text/plain": [
       "    Reputation   Views  UpVotes  DownVotes  BadgesCount\n",
       "Id                                                     \n",
       "-1           1     649   304659    1072783          1.0\n",
       " 1       45009  431337     3370       1310        332.0\n",
       " 2        3509   24377      653         88         92.0\n",
       " 3       13503   24701     7349        100        131.0\n",
       " 4       28953   74458      798         96        187.0"
      ]
     },
     "execution_count": 11,
     "metadata": {},
     "output_type": "execute_result"
    }
   ],
   "source": [
    "usersWithBadges.head()"
   ]
  },
  {
   "cell_type": "markdown",
   "metadata": {},
   "source": [
    "Note: user id -1 is so called community user, we are dropping this one"
   ]
  },
  {
   "cell_type": "markdown",
   "metadata": {},
   "source": [
    "# Calculations"
   ]
  },
  {
   "cell_type": "code",
   "execution_count": 12,
   "metadata": {
    "ExecuteTime": {
     "end_time": "2019-01-28T13:21:29.445386Z",
     "start_time": "2019-01-28T13:20:44.435700Z"
    }
   },
   "outputs": [],
   "source": [
    "# join posts with bounty info(result is an extra column with True and NaN values, fix this later)\n",
    "posts = posts.set_index('Id').join(bounty.set_index('PostId'))"
   ]
  },
  {
   "cell_type": "code",
   "execution_count": 13,
   "metadata": {
    "ExecuteTime": {
     "end_time": "2019-01-28T13:21:29.503848Z",
     "start_time": "2019-01-28T13:21:29.446939Z"
    }
   },
   "outputs": [
    {
     "name": "stderr",
     "output_type": "stream",
     "text": [
      "/home/wojtek/.local/lib/python3.6/site-packages/dask/dataframe/core.py:3014: UserWarning: `meta` is not specified, inferred from partial data. Please provide `meta` if the result is unexpected.\n",
      "  Before: .apply(func)\n",
      "  After:  .apply(func, meta={'x': 'f8', 'y': 'f8'}) for dataframe result\n",
      "  or:     .apply(func, meta=('x', 'f8'))            for series result\n",
      "  warnings.warn(msg)\n"
     ]
    }
   ],
   "source": [
    "# handle bounties\n",
    "# this fixes all the NaN values in the bounty column\n",
    "# puts them to False\n",
    "def fixBounty(row):\n",
    "    \n",
    "    bountyVal = row.hasBounty\n",
    "    \n",
    "    # this checks if the value of hasBounty\n",
    "    # for the current row is NaN\n",
    "    if(bountyVal != bountyVal):\n",
    "        return(False)\n",
    "    \n",
    "    return bountyVal\n",
    "        \n",
    "posts['bounty'] = posts.apply(fixBounty, axis=1)\n",
    "\n",
    "# remove joined column, we will use the new one with False/True instead(cleaned from NaN values)\n",
    "posts = posts.drop('hasBounty', axis=1)"
   ]
  },
  {
   "cell_type": "code",
   "execution_count": 14,
   "metadata": {
    "ExecuteTime": {
     "end_time": "2019-01-28T13:21:29.771050Z",
     "start_time": "2019-01-28T13:21:29.506465Z"
    }
   },
   "outputs": [],
   "source": [
    "posts = posts.join(usersWithBadges, on=\"OwnerUserId\")"
   ]
  },
  {
   "cell_type": "code",
   "execution_count": 15,
   "metadata": {
    "ExecuteTime": {
     "end_time": "2019-01-28T13:21:29.816686Z",
     "start_time": "2019-01-28T13:21:29.773136Z"
    }
   },
   "outputs": [],
   "source": [
    "posts = posts.fillna(0)"
   ]
  },
  {
   "cell_type": "code",
   "execution_count": 16,
   "metadata": {
    "ExecuteTime": {
     "end_time": "2019-01-28T13:21:30.055083Z",
     "start_time": "2019-01-28T13:21:29.818623Z"
    }
   },
   "outputs": [],
   "source": [
    "# tags dictionary with tagname and tagcount\n",
    "# we create a dictionary of all the tags and their count\n",
    "\n",
    "tagDict = dict()\n",
    "for row in tags.itertuples():\n",
    "    tagName = getattr(row,'TagName')\n",
    "    tagCount = getattr(row,'Count')\n",
    "    \n",
    "    tagDict[tagName]=tagCount"
   ]
  },
  {
   "cell_type": "code",
   "execution_count": 17,
   "metadata": {
    "ExecuteTime": {
     "end_time": "2019-01-28T13:21:30.440097Z",
     "start_time": "2019-01-28T13:21:30.056708Z"
    }
   },
   "outputs": [
    {
     "name": "stdout",
     "output_type": "stream",
     "text": [
      "Done\n"
     ]
    }
   ],
   "source": [
    "# tags handling\n",
    "# accumulating tags value for each list of tags for each row\n",
    "    \n",
    "def calculateTagsAggregate(row):\n",
    "    tags = row.Tags\n",
    "    \n",
    "    # split the tag string by the closing tag\n",
    "    tagsList = tags.split('>')\n",
    "    \n",
    "    # remove the last empty element\n",
    "    # which the prev function creates\n",
    "    tagsList = tagsList[:-1]\n",
    "    \n",
    "    finList = list()\n",
    "    # clear the opening tag from each element\n",
    "    finList = [item[1:] for item in tagsList]\n",
    "    \n",
    "    # start counting with the use of the dict\n",
    "    tag_sum = 0\n",
    "    for tag in finList:\n",
    "        tagVal = tagDict.get(tag)\n",
    "        \n",
    "        if(tagVal == None):\n",
    "            tagVal = 0\n",
    "        \n",
    "        tag_sum += tagVal\n",
    "        \n",
    "    return(tag_sum)\n",
    "    \n",
    "    \n",
    "posts['tagsAggregate'] = posts.apply(calculateTagsAggregate, axis=1)\n",
    "\n",
    "# drop tags column from frame since no longer necessary\n",
    "posts = posts.drop('Tags', axis=1)\n",
    "\n",
    "print('Done')"
   ]
  },
  {
   "cell_type": "code",
   "execution_count": 18,
   "metadata": {
    "ExecuteTime": {
     "end_time": "2019-01-28T13:21:30.482995Z",
     "start_time": "2019-01-28T13:21:30.442434Z"
    }
   },
   "outputs": [],
   "source": [
    "# change answerID to 0/1 (answered/not answered)\n",
    "def changeAnswered(row):\n",
    "    answerID = row.AcceptedAnswerId\n",
    "    \n",
    "    if(answerID==0):\n",
    "        return False\n",
    "    else:\n",
    "        return True\n",
    "    \n",
    "posts['isAnswered'] = posts.apply(changeAnswered, axis=1)\n",
    "posts = posts.drop('AcceptedAnswerId', axis=1)\n",
    "posts = posts.drop(\"PostTypeId\", axis=1)\n",
    "posts = posts.drop(\"OwnerUserId\", axis=1)"
   ]
  },
  {
   "cell_type": "code",
   "execution_count": 19,
   "metadata": {
    "ExecuteTime": {
     "end_time": "2019-01-28T13:21:30.590689Z",
     "start_time": "2019-01-28T13:21:30.485086Z"
    }
   },
   "outputs": [],
   "source": [
    "#posts.head(n=20, npartitions=2)"
   ]
  },
  {
   "cell_type": "code",
   "execution_count": 20,
   "metadata": {
    "ExecuteTime": {
     "end_time": "2019-01-28T13:21:30.681983Z",
     "start_time": "2019-01-28T13:21:30.592804Z"
    }
   },
   "outputs": [
    {
     "data": {
      "text/plain": [
       "Score              int64\n",
       "ViewCount          int64\n",
       "WordCount          int64\n",
       "LinksCount         int64\n",
       "BlocksCount        int64\n",
       "TitleWordsCount    int64\n",
       "AnswerCount        int64\n",
       "CommentCount       int64\n",
       "bounty              bool\n",
       "Reputation         int64\n",
       "Views              int64\n",
       "UpVotes            int64\n",
       "DownVotes          int64\n",
       "BadgesCount        int64\n",
       "tagsAggregate      int64\n",
       "isAnswered          bool\n",
       "dtype: object"
      ]
     },
     "execution_count": 20,
     "metadata": {},
     "output_type": "execute_result"
    }
   ],
   "source": [
    "posts.dtypes"
   ]
  },
  {
   "cell_type": "code",
   "execution_count": 21,
   "metadata": {
    "ExecuteTime": {
     "end_time": "2019-01-28T13:21:31.556661Z",
     "start_time": "2019-01-28T13:21:30.686498Z"
    }
   },
   "outputs": [],
   "source": [
    "!rm -rf Complete-Posts\n",
    "!mkdir Complete-Posts\n",
    "!rm -rf Complete-Posts-Compressed\n",
    "!mkdir Complete-Posts-Compressed"
   ]
  },
  {
   "cell_type": "code",
   "execution_count": 22,
   "metadata": {
    "ExecuteTime": {
     "end_time": "2019-01-28T13:42:56.674903Z",
     "start_time": "2019-01-28T13:21:31.564132Z"
    },
    "scrolled": true
   },
   "outputs": [
    {
     "name": "stdout",
     "output_type": "stream",
     "text": [
      "CPU times: user 21min 47s, sys: 35.5 s, total: 22min 23s\n",
      "Wall time: 21min 25s\n"
     ]
    },
    {
     "data": {
      "text/plain": [
       "['Complete-Posts/00.csv',\n",
       " 'Complete-Posts/01.csv',\n",
       " 'Complete-Posts/02.csv',\n",
       " 'Complete-Posts/03.csv',\n",
       " 'Complete-Posts/04.csv',\n",
       " 'Complete-Posts/05.csv',\n",
       " 'Complete-Posts/06.csv',\n",
       " 'Complete-Posts/07.csv',\n",
       " 'Complete-Posts/08.csv',\n",
       " 'Complete-Posts/09.csv',\n",
       " 'Complete-Posts/10.csv',\n",
       " 'Complete-Posts/11.csv',\n",
       " 'Complete-Posts/12.csv',\n",
       " 'Complete-Posts/13.csv',\n",
       " 'Complete-Posts/14.csv',\n",
       " 'Complete-Posts/15.csv',\n",
       " 'Complete-Posts/16.csv',\n",
       " 'Complete-Posts/17.csv',\n",
       " 'Complete-Posts/18.csv',\n",
       " 'Complete-Posts/19.csv',\n",
       " 'Complete-Posts/20.csv',\n",
       " 'Complete-Posts/21.csv',\n",
       " 'Complete-Posts/22.csv',\n",
       " 'Complete-Posts/23.csv',\n",
       " 'Complete-Posts/24.csv']"
      ]
     },
     "execution_count": 22,
     "metadata": {},
     "output_type": "execute_result"
    }
   ],
   "source": [
    "%%time\n",
    "# store data to csv file, to prevent joining all the time\n",
    "posts.to_csv(\"Complete-Posts/*.csv\",index=False)"
   ]
  },
  {
   "cell_type": "code",
   "execution_count": 23,
   "metadata": {
    "ExecuteTime": {
     "end_time": "2019-01-28T13:42:56.931902Z",
     "start_time": "2019-01-28T13:42:56.682664Z"
    }
   },
   "outputs": [
    {
     "name": "stdout",
     "output_type": "stream",
     "text": [
      "Complete-Posts/00.csv  Complete-Posts/09.csv  Complete-Posts/18.csv\r\n",
      "Complete-Posts/01.csv  Complete-Posts/10.csv  Complete-Posts/19.csv\r\n",
      "Complete-Posts/02.csv  Complete-Posts/11.csv  Complete-Posts/20.csv\r\n",
      "Complete-Posts/03.csv  Complete-Posts/12.csv  Complete-Posts/21.csv\r\n",
      "Complete-Posts/04.csv  Complete-Posts/13.csv  Complete-Posts/22.csv\r\n",
      "Complete-Posts/05.csv  Complete-Posts/14.csv  Complete-Posts/23.csv\r\n",
      "Complete-Posts/06.csv  Complete-Posts/15.csv  Complete-Posts/24.csv\r\n",
      "Complete-Posts/07.csv  Complete-Posts/16.csv\r\n",
      "Complete-Posts/08.csv  Complete-Posts/17.csv\r\n"
     ]
    }
   ],
   "source": [
    "!ls Complete-Posts/*csv"
   ]
  },
  {
   "cell_type": "code",
   "execution_count": 24,
   "metadata": {
    "ExecuteTime": {
     "end_time": "2019-01-28T14:08:42.576773Z",
     "start_time": "2019-01-28T13:42:56.934673Z"
    },
    "scrolled": true
   },
   "outputs": [
    {
     "name": "stdout",
     "output_type": "stream",
     "text": [
      "CPU times: user 39min 47s, sys: 36 s, total: 40min 23s\n",
      "Wall time: 25min 45s\n"
     ]
    },
    {
     "data": {
      "text/plain": [
       "['Complete-Posts-Compressed/00.csv.tar.xz',\n",
       " 'Complete-Posts-Compressed/01.csv.tar.xz',\n",
       " 'Complete-Posts-Compressed/02.csv.tar.xz',\n",
       " 'Complete-Posts-Compressed/03.csv.tar.xz',\n",
       " 'Complete-Posts-Compressed/04.csv.tar.xz',\n",
       " 'Complete-Posts-Compressed/05.csv.tar.xz',\n",
       " 'Complete-Posts-Compressed/06.csv.tar.xz',\n",
       " 'Complete-Posts-Compressed/07.csv.tar.xz',\n",
       " 'Complete-Posts-Compressed/08.csv.tar.xz',\n",
       " 'Complete-Posts-Compressed/09.csv.tar.xz',\n",
       " 'Complete-Posts-Compressed/10.csv.tar.xz',\n",
       " 'Complete-Posts-Compressed/11.csv.tar.xz',\n",
       " 'Complete-Posts-Compressed/12.csv.tar.xz',\n",
       " 'Complete-Posts-Compressed/13.csv.tar.xz',\n",
       " 'Complete-Posts-Compressed/14.csv.tar.xz',\n",
       " 'Complete-Posts-Compressed/15.csv.tar.xz',\n",
       " 'Complete-Posts-Compressed/16.csv.tar.xz',\n",
       " 'Complete-Posts-Compressed/17.csv.tar.xz',\n",
       " 'Complete-Posts-Compressed/18.csv.tar.xz',\n",
       " 'Complete-Posts-Compressed/19.csv.tar.xz',\n",
       " 'Complete-Posts-Compressed/20.csv.tar.xz',\n",
       " 'Complete-Posts-Compressed/21.csv.tar.xz',\n",
       " 'Complete-Posts-Compressed/22.csv.tar.xz',\n",
       " 'Complete-Posts-Compressed/23.csv.tar.xz',\n",
       " 'Complete-Posts-Compressed/24.csv.tar.xz']"
      ]
     },
     "execution_count": 24,
     "metadata": {},
     "output_type": "execute_result"
    }
   ],
   "source": [
    "%%time\n",
    "# same as above but compressed\n",
    "posts.to_csv(\"Complete-Posts-Compressed/*.csv.tar.xz\",compression=\"xz\",index=False)"
   ]
  },
  {
   "cell_type": "code",
   "execution_count": 25,
   "metadata": {
    "ExecuteTime": {
     "end_time": "2019-01-28T14:08:42.791102Z",
     "start_time": "2019-01-28T14:08:42.579388Z"
    },
    "scrolled": true
   },
   "outputs": [
    {
     "name": "stdout",
     "output_type": "stream",
     "text": [
      "Complete-Posts-Compressed/00.csv.tar.xz\r\n",
      "Complete-Posts-Compressed/01.csv.tar.xz\r\n",
      "Complete-Posts-Compressed/02.csv.tar.xz\r\n",
      "Complete-Posts-Compressed/03.csv.tar.xz\r\n",
      "Complete-Posts-Compressed/04.csv.tar.xz\r\n",
      "Complete-Posts-Compressed/05.csv.tar.xz\r\n",
      "Complete-Posts-Compressed/06.csv.tar.xz\r\n",
      "Complete-Posts-Compressed/07.csv.tar.xz\r\n",
      "Complete-Posts-Compressed/08.csv.tar.xz\r\n",
      "Complete-Posts-Compressed/09.csv.tar.xz\r\n",
      "Complete-Posts-Compressed/10.csv.tar.xz\r\n",
      "Complete-Posts-Compressed/11.csv.tar.xz\r\n",
      "Complete-Posts-Compressed/12.csv.tar.xz\r\n",
      "Complete-Posts-Compressed/13.csv.tar.xz\r\n",
      "Complete-Posts-Compressed/14.csv.tar.xz\r\n",
      "Complete-Posts-Compressed/15.csv.tar.xz\r\n",
      "Complete-Posts-Compressed/16.csv.tar.xz\r\n",
      "Complete-Posts-Compressed/17.csv.tar.xz\r\n",
      "Complete-Posts-Compressed/18.csv.tar.xz\r\n",
      "Complete-Posts-Compressed/19.csv.tar.xz\r\n",
      "Complete-Posts-Compressed/20.csv.tar.xz\r\n",
      "Complete-Posts-Compressed/21.csv.tar.xz\r\n",
      "Complete-Posts-Compressed/22.csv.tar.xz\r\n",
      "Complete-Posts-Compressed/23.csv.tar.xz\r\n",
      "Complete-Posts-Compressed/24.csv.tar.xz\r\n"
     ]
    }
   ],
   "source": [
    "!ls Complete-Posts-Compressed/*tar.xz"
   ]
  },
  {
   "cell_type": "code",
   "execution_count": 26,
   "metadata": {
    "ExecuteTime": {
     "end_time": "2019-01-28T14:08:42.797859Z",
     "start_time": "2019-01-28T14:08:42.795026Z"
    }
   },
   "outputs": [],
   "source": [
    "#posts.astype(float).corr().compute()"
   ]
  }
 ],
 "metadata": {
  "kernelspec": {
   "display_name": "Python 3",
   "language": "python",
   "name": "python3"
  },
  "language_info": {
   "codemirror_mode": {
    "name": "ipython",
    "version": 3
   },
   "file_extension": ".py",
   "mimetype": "text/x-python",
   "name": "python",
   "nbconvert_exporter": "python",
   "pygments_lexer": "ipython3",
   "version": "3.6.8"
  }
 },
 "nbformat": 4,
 "nbformat_minor": 2
}
