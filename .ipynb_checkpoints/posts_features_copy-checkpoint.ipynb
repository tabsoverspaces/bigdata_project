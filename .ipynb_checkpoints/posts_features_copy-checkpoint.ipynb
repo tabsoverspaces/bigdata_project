{
 "cells": [
  {
   "cell_type": "markdown",
   "metadata": {},
   "source": [
    "# Joining data from various files\n",
    "In this file, data from various posts are joined and exported possibly as single dataframe, so expensive joining operation will not have to be performed more than required\n",
    "\n",
    "Notice: reading from uncompressed files to allow splitting to blocks"
   ]
  },
  {
   "cell_type": "code",
   "execution_count": 1,
   "metadata": {
    "ExecuteTime": {
     "end_time": "2019-01-28T10:11:44.832430Z",
     "start_time": "2019-01-28T10:11:42.123328Z"
    }
   },
   "outputs": [],
   "source": [
    "# import dask bag\n",
    "import dask.dataframe as dd\n",
    "import numpy as np\n",
    "import pandas as pd"
   ]
  },
  {
   "cell_type": "code",
   "execution_count": 2,
   "metadata": {
    "ExecuteTime": {
     "end_time": "2019-01-28T10:11:44.972492Z",
     "start_time": "2019-01-28T10:11:44.839817Z"
    }
   },
   "outputs": [
    {
     "name": "stdout",
     "output_type": "stream",
     "text": [
      "-rw-rw-r--. 1 wojtek wojtek   11813382 01-26 13:52 BountyFrame-0.csv\r\n",
      "-rw-r--r--. 1 wojtek wojtek   38969687 01-28 10:18 DuplicateFrame-0.csv\r\n",
      "-rw-r--r--. 1 wojtek wojtek 2052407604 01-28 10:09 PostsFrame-0.csv\r\n",
      "-rw-r--r--. 1 wojtek wojtek 1924302938 01-18 11:49 PostsFrame-0_old.csv\r\n",
      "-rw-rw-r--. 1 wojtek wojtek    1476262 01-13 21:05 TagsFrame-0.csv\r\n",
      "-rw-r--r--. 1 wojtek wojtek  739021521 01-28 10:14 UsersFrame-0.csv\r\n"
     ]
    }
   ],
   "source": [
    "!ls -la *.csv"
   ]
  },
  {
   "cell_type": "markdown",
   "metadata": {},
   "source": [
    "# Data loading"
   ]
  },
  {
   "cell_type": "code",
   "execution_count": 3,
   "metadata": {
    "ExecuteTime": {
     "end_time": "2019-01-28T10:11:45.221629Z",
     "start_time": "2019-01-28T10:11:44.980532Z"
    }
   },
   "outputs": [],
   "source": [
    "# posts\n",
    "# posts = dd.read_csv(\"PostsFrame-0.csv.tar.xz\",compression=\"xz\",blocksize=None)\n",
    "posts = dd.read_csv(\"PostsFrame-0.csv\")\n",
    "\n",
    "# remove unnecessary dataframe columns\n",
    "posts = posts.drop(['CreationDate','LastActivityDate'], axis=1)\n",
    "\n",
    "# smaller frame for testing purposes\n",
    "#test_posts = posts.sample(frac=0.01) # comment to preserve some memory"
   ]
  },
  {
   "cell_type": "code",
   "execution_count": 4,
   "metadata": {
    "ExecuteTime": {
     "end_time": "2019-01-28T10:11:45.356278Z",
     "start_time": "2019-01-28T10:11:45.223972Z"
    }
   },
   "outputs": [],
   "source": [
    "# users\n",
    "#users = dd.read_csv(\"UsersFrame-0.csv.tar.xz\",compression=\"xz\",blocksize=None)\n",
    "users = dd.read_csv(\"UsersFrame-0.csv\")\n",
    "\n",
    "# remove unnecessary dataframe columns\n",
    "users = users.drop(['DisplayName','CreationDate','LastAccessDate'], axis=1)"
   ]
  },
  {
   "cell_type": "code",
   "execution_count": 5,
   "metadata": {
    "ExecuteTime": {
     "end_time": "2019-01-28T10:11:45.376482Z",
     "start_time": "2019-01-28T10:11:45.358162Z"
    },
    "scrolled": true
   },
   "outputs": [],
   "source": [
    "# duplicates\n",
    "#duplicate = dd.read_csv(\"DuplicateFrame-0.csv.tar.xz\",compression=\"xz\",blocksize=None)\n",
    "duplicate = dd.read_csv(\"DuplicateFrame-0.csv\")\n",
    "\n",
    "# remove unnecessary dataframe columns\n",
    "duplicate = duplicate.drop(['Id','CreationDate','LinkTypeId','RelatedPostId'], axis=1)"
   ]
  },
  {
   "cell_type": "code",
   "execution_count": 6,
   "metadata": {
    "ExecuteTime": {
     "end_time": "2019-01-28T10:11:46.091338Z",
     "start_time": "2019-01-28T10:11:45.377971Z"
    }
   },
   "outputs": [
    {
     "data": {
      "text/html": [
       "<div>\n",
       "<style scoped>\n",
       "    .dataframe tbody tr th:only-of-type {\n",
       "        vertical-align: middle;\n",
       "    }\n",
       "\n",
       "    .dataframe tbody tr th {\n",
       "        vertical-align: top;\n",
       "    }\n",
       "\n",
       "    .dataframe thead th {\n",
       "        text-align: right;\n",
       "    }\n",
       "</style>\n",
       "<table border=\"1\" class=\"dataframe\">\n",
       "  <thead>\n",
       "    <tr style=\"text-align: right;\">\n",
       "      <th></th>\n",
       "      <th>PostId</th>\n",
       "    </tr>\n",
       "  </thead>\n",
       "  <tbody>\n",
       "    <tr>\n",
       "      <th>0</th>\n",
       "      <td>70714</td>\n",
       "    </tr>\n",
       "    <tr>\n",
       "      <th>1</th>\n",
       "      <td>86947</td>\n",
       "    </tr>\n",
       "    <tr>\n",
       "      <th>2</th>\n",
       "      <td>97679</td>\n",
       "    </tr>\n",
       "    <tr>\n",
       "      <th>3</th>\n",
       "      <td>99408</td>\n",
       "    </tr>\n",
       "    <tr>\n",
       "      <th>4</th>\n",
       "      <td>26925</td>\n",
       "    </tr>\n",
       "  </tbody>\n",
       "</table>\n",
       "</div>"
      ],
      "text/plain": [
       "   PostId\n",
       "0   70714\n",
       "1   86947\n",
       "2   97679\n",
       "3   99408\n",
       "4   26925"
      ]
     },
     "execution_count": 6,
     "metadata": {},
     "output_type": "execute_result"
    }
   ],
   "source": [
    "duplicate.head()"
   ]
  },
  {
   "cell_type": "code",
   "execution_count": 7,
   "metadata": {
    "ExecuteTime": {
     "end_time": "2019-01-28T10:11:46.118454Z",
     "start_time": "2019-01-28T10:11:46.093576Z"
    }
   },
   "outputs": [],
   "source": [
    "# tags\n",
    "#tags = dd.read_csv(\"TagsFrame-0.csv.tar.xz\",compression=\"xz\",blocksize=None)\n",
    "tags = dd.read_csv(\"TagsFrame-0.csv\")"
   ]
  },
  {
   "cell_type": "code",
   "execution_count": 8,
   "metadata": {
    "ExecuteTime": {
     "end_time": "2019-01-28T10:11:46.285039Z",
     "start_time": "2019-01-28T10:11:46.120451Z"
    }
   },
   "outputs": [],
   "source": [
    "# bounty\n",
    "# bounty = dd.read_csv(\"BountyFrame-0.csv.tar.xz\",compression=\"xz\",blocksize=None)\n",
    "bounty = dd.read_csv(\"BountyFrame-0.csv\")\n",
    "\n",
    "# remove unnecessary dataframe columns\n",
    "bounty = bounty.drop(['VoteTypeId','CreationDate', 'Id'], axis=1)\n",
    "\n",
    "# add a column to the bounty frame \n",
    "# we join this with the posts later\n",
    "bounty = bounty.assign(hasBounty = True)"
   ]
  },
  {
   "cell_type": "code",
   "execution_count": 9,
   "metadata": {
    "ExecuteTime": {
     "end_time": "2019-01-28T10:11:46.417671Z",
     "start_time": "2019-01-28T10:11:46.287333Z"
    }
   },
   "outputs": [],
   "source": [
    "# badges\n",
    "badgesAggregate = dd.read_csv(\"BadgesAggregatedFrame-0.csv.tar.xz\",compression=\"xz\",blocksize=None)\n",
    "#badgesAggregate = dd.read_csv(\"BadgesAggregatedFrame-0.csv\")"
   ]
  },
  {
   "cell_type": "code",
   "execution_count": 10,
   "metadata": {
    "ExecuteTime": {
     "end_time": "2019-01-28T10:12:09.141068Z",
     "start_time": "2019-01-28T10:11:46.419819Z"
    }
   },
   "outputs": [],
   "source": [
    "# join users with badges count\n",
    "usersWithBadges = users.set_index('Id').join(badgesAggregate.set_index('UserId'))"
   ]
  },
  {
   "cell_type": "code",
   "execution_count": 11,
   "metadata": {
    "ExecuteTime": {
     "end_time": "2019-01-28T10:12:12.427892Z",
     "start_time": "2019-01-28T10:12:09.142628Z"
    }
   },
   "outputs": [
    {
     "data": {
      "text/html": [
       "<div>\n",
       "<style scoped>\n",
       "    .dataframe tbody tr th:only-of-type {\n",
       "        vertical-align: middle;\n",
       "    }\n",
       "\n",
       "    .dataframe tbody tr th {\n",
       "        vertical-align: top;\n",
       "    }\n",
       "\n",
       "    .dataframe thead th {\n",
       "        text-align: right;\n",
       "    }\n",
       "</style>\n",
       "<table border=\"1\" class=\"dataframe\">\n",
       "  <thead>\n",
       "    <tr style=\"text-align: right;\">\n",
       "      <th></th>\n",
       "      <th>Reputation</th>\n",
       "      <th>Views</th>\n",
       "      <th>UpVotes</th>\n",
       "      <th>DownVotes</th>\n",
       "      <th>BadgesCount</th>\n",
       "    </tr>\n",
       "    <tr>\n",
       "      <th>Id</th>\n",
       "      <th></th>\n",
       "      <th></th>\n",
       "      <th></th>\n",
       "      <th></th>\n",
       "      <th></th>\n",
       "    </tr>\n",
       "  </thead>\n",
       "  <tbody>\n",
       "    <tr>\n",
       "      <th>-1</th>\n",
       "      <td>1</td>\n",
       "      <td>649</td>\n",
       "      <td>304659</td>\n",
       "      <td>1072783</td>\n",
       "      <td>1.0</td>\n",
       "    </tr>\n",
       "    <tr>\n",
       "      <th>1</th>\n",
       "      <td>45009</td>\n",
       "      <td>431337</td>\n",
       "      <td>3370</td>\n",
       "      <td>1310</td>\n",
       "      <td>332.0</td>\n",
       "    </tr>\n",
       "    <tr>\n",
       "      <th>2</th>\n",
       "      <td>3509</td>\n",
       "      <td>24377</td>\n",
       "      <td>653</td>\n",
       "      <td>88</td>\n",
       "      <td>92.0</td>\n",
       "    </tr>\n",
       "    <tr>\n",
       "      <th>3</th>\n",
       "      <td>13503</td>\n",
       "      <td>24701</td>\n",
       "      <td>7349</td>\n",
       "      <td>100</td>\n",
       "      <td>131.0</td>\n",
       "    </tr>\n",
       "    <tr>\n",
       "      <th>4</th>\n",
       "      <td>28953</td>\n",
       "      <td>74458</td>\n",
       "      <td>798</td>\n",
       "      <td>96</td>\n",
       "      <td>187.0</td>\n",
       "    </tr>\n",
       "  </tbody>\n",
       "</table>\n",
       "</div>"
      ],
      "text/plain": [
       "    Reputation   Views  UpVotes  DownVotes  BadgesCount\n",
       "Id                                                     \n",
       "-1           1     649   304659    1072783          1.0\n",
       " 1       45009  431337     3370       1310        332.0\n",
       " 2        3509   24377      653         88         92.0\n",
       " 3       13503   24701     7349        100        131.0\n",
       " 4       28953   74458      798         96        187.0"
      ]
     },
     "execution_count": 11,
     "metadata": {},
     "output_type": "execute_result"
    }
   ],
   "source": [
    "usersWithBadges.head()"
   ]
  },
  {
   "cell_type": "markdown",
   "metadata": {},
   "source": [
    "Note: user id -1 is so called community user, we are dropping this one"
   ]
  },
  {
   "cell_type": "markdown",
   "metadata": {},
   "source": [
    "# Calculations"
   ]
  },
  {
   "cell_type": "code",
   "execution_count": 12,
   "metadata": {
    "ExecuteTime": {
     "end_time": "2019-01-28T10:12:38.990835Z",
     "start_time": "2019-01-28T10:12:12.430065Z"
    }
   },
   "outputs": [],
   "source": [
    "# join posts with bounty info(result is an extra column with True and NaN values, fix this later)\n",
    "posts = posts.set_index('Id').join(bounty.set_index('PostId'))"
   ]
  },
  {
   "cell_type": "code",
   "execution_count": 13,
   "metadata": {
    "ExecuteTime": {
     "end_time": "2019-01-28T10:12:39.067099Z",
     "start_time": "2019-01-28T10:12:38.992311Z"
    }
   },
   "outputs": [
    {
     "name": "stderr",
     "output_type": "stream",
     "text": [
      "/home/wojtek/.local/lib/python3.6/site-packages/dask/dataframe/core.py:3014: UserWarning: `meta` is not specified, inferred from partial data. Please provide `meta` if the result is unexpected.\n",
      "  Before: .apply(func)\n",
      "  After:  .apply(func, meta={'x': 'f8', 'y': 'f8'}) for dataframe result\n",
      "  or:     .apply(func, meta=('x', 'f8'))            for series result\n",
      "  warnings.warn(msg)\n"
     ]
    }
   ],
   "source": [
    "# handle bounties\n",
    "# this fixes all the NaN values in the bounty column\n",
    "# puts them to False\n",
    "def fixBounty(row):\n",
    "    \n",
    "    bountyVal = row.hasBounty\n",
    "    \n",
    "    # this checks if the value of hasBounty\n",
    "    # for the current row is NaN\n",
    "    if(bountyVal != bountyVal):\n",
    "        return(False)\n",
    "    \n",
    "    return bountyVal\n",
    "        \n",
    "posts['bounty'] = posts.apply(fixBounty, axis=1)\n",
    "\n",
    "# remove joined column, we will use the new one with False/True instead(cleaned from NaN values)\n",
    "posts = posts.drop('hasBounty', axis=1)"
   ]
  },
  {
   "cell_type": "code",
   "execution_count": 14,
   "metadata": {
    "ExecuteTime": {
     "end_time": "2019-01-28T10:12:39.359174Z",
     "start_time": "2019-01-28T10:12:39.068976Z"
    }
   },
   "outputs": [],
   "source": [
    "posts = posts.join(usersWithBadges, on=\"OwnerUserId\")"
   ]
  },
  {
   "cell_type": "code",
   "execution_count": 15,
   "metadata": {
    "ExecuteTime": {
     "end_time": "2019-01-28T10:12:39.404159Z",
     "start_time": "2019-01-28T10:12:39.361666Z"
    }
   },
   "outputs": [],
   "source": [
    "posts = posts.fillna(0)"
   ]
  },
  {
   "cell_type": "code",
   "execution_count": 16,
   "metadata": {
    "ExecuteTime": {
     "end_time": "2019-01-28T10:18:19.289228Z",
     "start_time": "2019-01-28T10:12:39.405968Z"
    }
   },
   "outputs": [
    {
     "data": {
      "text/html": [
       "<div>\n",
       "<style scoped>\n",
       "    .dataframe tbody tr th:only-of-type {\n",
       "        vertical-align: middle;\n",
       "    }\n",
       "\n",
       "    .dataframe tbody tr th {\n",
       "        vertical-align: top;\n",
       "    }\n",
       "\n",
       "    .dataframe thead th {\n",
       "        text-align: right;\n",
       "    }\n",
       "</style>\n",
       "<table border=\"1\" class=\"dataframe\">\n",
       "  <thead>\n",
       "    <tr style=\"text-align: right;\">\n",
       "      <th></th>\n",
       "      <th>PostTypeId</th>\n",
       "      <th>Score</th>\n",
       "      <th>ViewCount</th>\n",
       "      <th>WordCount</th>\n",
       "      <th>LinksCount</th>\n",
       "      <th>BlocksCount</th>\n",
       "      <th>TitleWordsCount</th>\n",
       "      <th>Tags</th>\n",
       "      <th>AnswerCount</th>\n",
       "      <th>CommentCount</th>\n",
       "      <th>OwnerUserId</th>\n",
       "      <th>AcceptedAnswerId</th>\n",
       "      <th>bounty</th>\n",
       "      <th>Reputation</th>\n",
       "      <th>Views</th>\n",
       "      <th>UpVotes</th>\n",
       "      <th>DownVotes</th>\n",
       "      <th>BadgesCount</th>\n",
       "    </tr>\n",
       "  </thead>\n",
       "  <tbody>\n",
       "    <tr>\n",
       "      <th>52779155</th>\n",
       "      <td>1</td>\n",
       "      <td>0</td>\n",
       "      <td>19</td>\n",
       "      <td>75</td>\n",
       "      <td>0</td>\n",
       "      <td>2</td>\n",
       "      <td>4</td>\n",
       "      <td>&lt;python&gt;&lt;matplotlib&gt;&lt;ternary&gt;</td>\n",
       "      <td>0</td>\n",
       "      <td>0</td>\n",
       "      <td>458661</td>\n",
       "      <td>0</td>\n",
       "      <td>False</td>\n",
       "      <td>521.0</td>\n",
       "      <td>107.0</td>\n",
       "      <td>55.0</td>\n",
       "      <td>20.0</td>\n",
       "      <td>31.0</td>\n",
       "    </tr>\n",
       "    <tr>\n",
       "      <th>52779193</th>\n",
       "      <td>1</td>\n",
       "      <td>1</td>\n",
       "      <td>31</td>\n",
       "      <td>37</td>\n",
       "      <td>0</td>\n",
       "      <td>4</td>\n",
       "      <td>10</td>\n",
       "      <td>&lt;regex&gt;&lt;fish&gt;</td>\n",
       "      <td>1</td>\n",
       "      <td>1</td>\n",
       "      <td>636987</td>\n",
       "      <td>52779263</td>\n",
       "      <td>False</td>\n",
       "      <td>2146.0</td>\n",
       "      <td>866.0</td>\n",
       "      <td>416.0</td>\n",
       "      <td>33.0</td>\n",
       "      <td>161.0</td>\n",
       "    </tr>\n",
       "    <tr>\n",
       "      <th>52779197</th>\n",
       "      <td>1</td>\n",
       "      <td>-2</td>\n",
       "      <td>17</td>\n",
       "      <td>66</td>\n",
       "      <td>0</td>\n",
       "      <td>1</td>\n",
       "      <td>13</td>\n",
       "      <td>&lt;mysql&gt;</td>\n",
       "      <td>2</td>\n",
       "      <td>4</td>\n",
       "      <td>310787</td>\n",
       "      <td>52779444</td>\n",
       "      <td>False</td>\n",
       "      <td>376.0</td>\n",
       "      <td>108.0</td>\n",
       "      <td>45.0</td>\n",
       "      <td>1.0</td>\n",
       "      <td>42.0</td>\n",
       "    </tr>\n",
       "    <tr>\n",
       "      <th>52779240</th>\n",
       "      <td>1</td>\n",
       "      <td>2</td>\n",
       "      <td>22</td>\n",
       "      <td>69</td>\n",
       "      <td>0</td>\n",
       "      <td>1</td>\n",
       "      <td>6</td>\n",
       "      <td>&lt;bash&gt;&lt;quotes&gt;&lt;double-quotes&gt;&lt;quote&gt;&lt;quoting&gt;</td>\n",
       "      <td>1</td>\n",
       "      <td>5</td>\n",
       "      <td>616349</td>\n",
       "      <td>0</td>\n",
       "      <td>False</td>\n",
       "      <td>731.0</td>\n",
       "      <td>107.0</td>\n",
       "      <td>151.0</td>\n",
       "      <td>1.0</td>\n",
       "      <td>42.0</td>\n",
       "    </tr>\n",
       "    <tr>\n",
       "      <th>52779284</th>\n",
       "      <td>1</td>\n",
       "      <td>1</td>\n",
       "      <td>31</td>\n",
       "      <td>32</td>\n",
       "      <td>0</td>\n",
       "      <td>3</td>\n",
       "      <td>13</td>\n",
       "      <td>&lt;fish&gt;</td>\n",
       "      <td>1</td>\n",
       "      <td>2</td>\n",
       "      <td>636987</td>\n",
       "      <td>52779864</td>\n",
       "      <td>False</td>\n",
       "      <td>2146.0</td>\n",
       "      <td>866.0</td>\n",
       "      <td>416.0</td>\n",
       "      <td>33.0</td>\n",
       "      <td>161.0</td>\n",
       "    </tr>\n",
       "  </tbody>\n",
       "</table>\n",
       "</div>"
      ],
      "text/plain": [
       "          PostTypeId  Score  ViewCount  WordCount  LinksCount  BlocksCount  \\\n",
       "52779155           1      0         19         75           0            2   \n",
       "52779193           1      1         31         37           0            4   \n",
       "52779197           1     -2         17         66           0            1   \n",
       "52779240           1      2         22         69           0            1   \n",
       "52779284           1      1         31         32           0            3   \n",
       "\n",
       "          TitleWordsCount                                           Tags  \\\n",
       "52779155                4                  <python><matplotlib><ternary>   \n",
       "52779193               10                                  <regex><fish>   \n",
       "52779197               13                                        <mysql>   \n",
       "52779240                6  <bash><quotes><double-quotes><quote><quoting>   \n",
       "52779284               13                                         <fish>   \n",
       "\n",
       "          AnswerCount  CommentCount  OwnerUserId  AcceptedAnswerId  bounty  \\\n",
       "52779155            0             0       458661                 0   False   \n",
       "52779193            1             1       636987          52779263   False   \n",
       "52779197            2             4       310787          52779444   False   \n",
       "52779240            1             5       616349                 0   False   \n",
       "52779284            1             2       636987          52779864   False   \n",
       "\n",
       "          Reputation  Views  UpVotes  DownVotes  BadgesCount  \n",
       "52779155       521.0  107.0     55.0       20.0         31.0  \n",
       "52779193      2146.0  866.0    416.0       33.0        161.0  \n",
       "52779197       376.0  108.0     45.0        1.0         42.0  \n",
       "52779240       731.0  107.0    151.0        1.0         42.0  \n",
       "52779284      2146.0  866.0    416.0       33.0        161.0  "
      ]
     },
     "execution_count": 16,
     "metadata": {},
     "output_type": "execute_result"
    }
   ],
   "source": [
    "posts.head()"
   ]
  },
  {
   "cell_type": "code",
   "execution_count": 17,
   "metadata": {
    "ExecuteTime": {
     "end_time": "2019-01-28T10:18:19.604230Z",
     "start_time": "2019-01-28T10:18:19.291008Z"
    }
   },
   "outputs": [],
   "source": [
    "# tags dictionary with tagname and tagcount\n",
    "# we create a dictionary of all the tags and their count\n",
    "\n",
    "tagDict = dict()\n",
    "for row in tags.itertuples():\n",
    "    tagName = getattr(row,'TagName')\n",
    "    tagCount = getattr(row,'Count')\n",
    "    \n",
    "    tagDict[tagName]=tagCount"
   ]
  },
  {
   "cell_type": "code",
   "execution_count": 18,
   "metadata": {
    "ExecuteTime": {
     "end_time": "2019-01-28T10:18:20.037447Z",
     "start_time": "2019-01-28T10:18:19.606045Z"
    }
   },
   "outputs": [
    {
     "name": "stderr",
     "output_type": "stream",
     "text": [
      "/home/wojtek/.local/lib/python3.6/site-packages/dask/dataframe/core.py:3014: UserWarning: `meta` is not specified, inferred from partial data. Please provide `meta` if the result is unexpected.\n",
      "  Before: .apply(func)\n",
      "  After:  .apply(func, meta={'x': 'f8', 'y': 'f8'}) for dataframe result\n",
      "  or:     .apply(func, meta=('x', 'f8'))            for series result\n",
      "  warnings.warn(msg)\n"
     ]
    },
    {
     "name": "stdout",
     "output_type": "stream",
     "text": [
      "Done\n"
     ]
    }
   ],
   "source": [
    "# tags handling\n",
    "# accumulating tags value for each list of tags for each row\n",
    "    \n",
    "def calculateTagsAggregate(row):\n",
    "    tags = row.Tags\n",
    "    \n",
    "    # split the tag string by the closing tag\n",
    "    tagsList = tags.split('>')\n",
    "    \n",
    "    # remove the last empty element\n",
    "    # which the prev function creates\n",
    "    tagsList = tagsList[:-1]\n",
    "    \n",
    "    finList = list()\n",
    "    # clear the opening tag from each element\n",
    "    finList = [item[1:] for item in tagsList]\n",
    "    \n",
    "    # start counting with the use of the dict\n",
    "    tag_sum = 0\n",
    "    for tag in finList:\n",
    "        tagVal = tagDict.get(tag)\n",
    "        \n",
    "        if(tagVal == None):\n",
    "            tagVal = 0\n",
    "        \n",
    "        tag_sum += tagVal\n",
    "        \n",
    "    return(tag_sum)\n",
    "    \n",
    "    \n",
    "posts['tagsAggregate'] = posts.apply(calculateTagsAggregate, axis=1)\n",
    "\n",
    "# drop tags column from frame since no longer necessary\n",
    "posts = posts.drop('Tags', axis=1)\n",
    "\n",
    "print('Done')"
   ]
  },
  {
   "cell_type": "code",
   "execution_count": 19,
   "metadata": {
    "ExecuteTime": {
     "end_time": "2019-01-28T10:18:20.071808Z",
     "start_time": "2019-01-28T10:18:20.039843Z"
    }
   },
   "outputs": [],
   "source": [
    "# change answerID to 0/1 (answered/not answered)\n",
    "def changeAnswered(row):\n",
    "    answerID = row.AcceptedAnswerId\n",
    "    \n",
    "    if(answerID==0):\n",
    "        return False\n",
    "    else:\n",
    "        return True\n",
    "    \n",
    "posts['isAnswered'] = posts.apply(changeAnswered, axis=1)\n",
    "posts = posts.drop('AcceptedAnswerId', axis=1)\n",
    "posts = posts.drop(\"PostTypeId\", axis=1)"
   ]
  },
  {
   "cell_type": "code",
   "execution_count": 20,
   "metadata": {
    "ExecuteTime": {
     "end_time": "2019-01-28T10:28:16.043410Z",
     "start_time": "2019-01-28T10:18:20.073680Z"
    }
   },
   "outputs": [
    {
     "data": {
      "text/html": [
       "<div>\n",
       "<style scoped>\n",
       "    .dataframe tbody tr th:only-of-type {\n",
       "        vertical-align: middle;\n",
       "    }\n",
       "\n",
       "    .dataframe tbody tr th {\n",
       "        vertical-align: top;\n",
       "    }\n",
       "\n",
       "    .dataframe thead th {\n",
       "        text-align: right;\n",
       "    }\n",
       "</style>\n",
       "<table border=\"1\" class=\"dataframe\">\n",
       "  <thead>\n",
       "    <tr style=\"text-align: right;\">\n",
       "      <th></th>\n",
       "      <th>Score</th>\n",
       "      <th>ViewCount</th>\n",
       "      <th>WordCount</th>\n",
       "      <th>LinksCount</th>\n",
       "      <th>BlocksCount</th>\n",
       "      <th>TitleWordsCount</th>\n",
       "      <th>AnswerCount</th>\n",
       "      <th>CommentCount</th>\n",
       "      <th>OwnerUserId</th>\n",
       "      <th>bounty</th>\n",
       "      <th>Reputation</th>\n",
       "      <th>Views</th>\n",
       "      <th>UpVotes</th>\n",
       "      <th>DownVotes</th>\n",
       "      <th>BadgesCount</th>\n",
       "      <th>tagsAggregate</th>\n",
       "      <th>isAnswered</th>\n",
       "    </tr>\n",
       "  </thead>\n",
       "  <tbody>\n",
       "    <tr>\n",
       "      <th>52042747</th>\n",
       "      <td>2</td>\n",
       "      <td>44</td>\n",
       "      <td>166</td>\n",
       "      <td>4</td>\n",
       "      <td>10</td>\n",
       "      <td>14</td>\n",
       "      <td>1</td>\n",
       "      <td>0</td>\n",
       "      <td>489426</td>\n",
       "      <td>False</td>\n",
       "      <td>1384.0</td>\n",
       "      <td>138.0</td>\n",
       "      <td>105.0</td>\n",
       "      <td>9.0</td>\n",
       "      <td>71.0</td>\n",
       "      <td>280810</td>\n",
       "      <td>True</td>\n",
       "    </tr>\n",
       "    <tr>\n",
       "      <th>52042790</th>\n",
       "      <td>0</td>\n",
       "      <td>56</td>\n",
       "      <td>18</td>\n",
       "      <td>1</td>\n",
       "      <td>2</td>\n",
       "      <td>4</td>\n",
       "      <td>1</td>\n",
       "      <td>0</td>\n",
       "      <td>19212</td>\n",
       "      <td>False</td>\n",
       "      <td>35982.0</td>\n",
       "      <td>2243.0</td>\n",
       "      <td>6926.0</td>\n",
       "      <td>38.0</td>\n",
       "      <td>519.0</td>\n",
       "      <td>1142114</td>\n",
       "      <td>True</td>\n",
       "    </tr>\n",
       "    <tr>\n",
       "      <th>52042796</th>\n",
       "      <td>-1</td>\n",
       "      <td>50</td>\n",
       "      <td>1217</td>\n",
       "      <td>3</td>\n",
       "      <td>1</td>\n",
       "      <td>10</td>\n",
       "      <td>1</td>\n",
       "      <td>6</td>\n",
       "      <td>468523</td>\n",
       "      <td>False</td>\n",
       "      <td>58.0</td>\n",
       "      <td>36.0</td>\n",
       "      <td>79.0</td>\n",
       "      <td>0.0</td>\n",
       "      <td>11.0</td>\n",
       "      <td>1789446</td>\n",
       "      <td>True</td>\n",
       "    </tr>\n",
       "    <tr>\n",
       "      <th>52042814</th>\n",
       "      <td>0</td>\n",
       "      <td>41</td>\n",
       "      <td>225</td>\n",
       "      <td>2</td>\n",
       "      <td>0</td>\n",
       "      <td>8</td>\n",
       "      <td>1</td>\n",
       "      <td>0</td>\n",
       "      <td>266553</td>\n",
       "      <td>False</td>\n",
       "      <td>3194.0</td>\n",
       "      <td>306.0</td>\n",
       "      <td>470.0</td>\n",
       "      <td>154.0</td>\n",
       "      <td>108.0</td>\n",
       "      <td>2898</td>\n",
       "      <td>False</td>\n",
       "    </tr>\n",
       "    <tr>\n",
       "      <th>52042821</th>\n",
       "      <td>0</td>\n",
       "      <td>46</td>\n",
       "      <td>93</td>\n",
       "      <td>0</td>\n",
       "      <td>1</td>\n",
       "      <td>5</td>\n",
       "      <td>1</td>\n",
       "      <td>1</td>\n",
       "      <td>580175</td>\n",
       "      <td>False</td>\n",
       "      <td>638.0</td>\n",
       "      <td>215.0</td>\n",
       "      <td>70.0</td>\n",
       "      <td>12.0</td>\n",
       "      <td>45.0</td>\n",
       "      <td>866855</td>\n",
       "      <td>True</td>\n",
       "    </tr>\n",
       "    <tr>\n",
       "      <th>52042868</th>\n",
       "      <td>0</td>\n",
       "      <td>11</td>\n",
       "      <td>100</td>\n",
       "      <td>0</td>\n",
       "      <td>10</td>\n",
       "      <td>11</td>\n",
       "      <td>0</td>\n",
       "      <td>0</td>\n",
       "      <td>785523</td>\n",
       "      <td>False</td>\n",
       "      <td>1475.0</td>\n",
       "      <td>327.0</td>\n",
       "      <td>270.0</td>\n",
       "      <td>13.0</td>\n",
       "      <td>72.0</td>\n",
       "      <td>48489</td>\n",
       "      <td>False</td>\n",
       "    </tr>\n",
       "    <tr>\n",
       "      <th>52042911</th>\n",
       "      <td>0</td>\n",
       "      <td>6</td>\n",
       "      <td>88</td>\n",
       "      <td>0</td>\n",
       "      <td>3</td>\n",
       "      <td>5</td>\n",
       "      <td>0</td>\n",
       "      <td>0</td>\n",
       "      <td>657224</td>\n",
       "      <td>False</td>\n",
       "      <td>1194.0</td>\n",
       "      <td>62.0</td>\n",
       "      <td>144.0</td>\n",
       "      <td>5.0</td>\n",
       "      <td>23.0</td>\n",
       "      <td>892</td>\n",
       "      <td>False</td>\n",
       "    </tr>\n",
       "    <tr>\n",
       "      <th>52042997</th>\n",
       "      <td>0</td>\n",
       "      <td>40</td>\n",
       "      <td>138</td>\n",
       "      <td>0</td>\n",
       "      <td>2</td>\n",
       "      <td>17</td>\n",
       "      <td>0</td>\n",
       "      <td>1</td>\n",
       "      <td>0</td>\n",
       "      <td>False</td>\n",
       "      <td>0.0</td>\n",
       "      <td>0.0</td>\n",
       "      <td>0.0</td>\n",
       "      <td>0.0</td>\n",
       "      <td>0.0</td>\n",
       "      <td>1292267</td>\n",
       "      <td>False</td>\n",
       "    </tr>\n",
       "    <tr>\n",
       "      <th>52043143</th>\n",
       "      <td>1</td>\n",
       "      <td>15</td>\n",
       "      <td>40</td>\n",
       "      <td>0</td>\n",
       "      <td>2</td>\n",
       "      <td>2</td>\n",
       "      <td>1</td>\n",
       "      <td>0</td>\n",
       "      <td>0</td>\n",
       "      <td>False</td>\n",
       "      <td>0.0</td>\n",
       "      <td>0.0</td>\n",
       "      <td>0.0</td>\n",
       "      <td>0.0</td>\n",
       "      <td>0.0</td>\n",
       "      <td>130097</td>\n",
       "      <td>True</td>\n",
       "    </tr>\n",
       "    <tr>\n",
       "      <th>52043149</th>\n",
       "      <td>0</td>\n",
       "      <td>31</td>\n",
       "      <td>47</td>\n",
       "      <td>0</td>\n",
       "      <td>3</td>\n",
       "      <td>11</td>\n",
       "      <td>3</td>\n",
       "      <td>4</td>\n",
       "      <td>0</td>\n",
       "      <td>False</td>\n",
       "      <td>0.0</td>\n",
       "      <td>0.0</td>\n",
       "      <td>0.0</td>\n",
       "      <td>0.0</td>\n",
       "      <td>0.0</td>\n",
       "      <td>2659995</td>\n",
       "      <td>True</td>\n",
       "    </tr>\n",
       "    <tr>\n",
       "      <th>52043176</th>\n",
       "      <td>0</td>\n",
       "      <td>36</td>\n",
       "      <td>103</td>\n",
       "      <td>2</td>\n",
       "      <td>1</td>\n",
       "      <td>8</td>\n",
       "      <td>0</td>\n",
       "      <td>1</td>\n",
       "      <td>773584</td>\n",
       "      <td>False</td>\n",
       "      <td>50.0</td>\n",
       "      <td>13.0</td>\n",
       "      <td>2.0</td>\n",
       "      <td>0.0</td>\n",
       "      <td>11.0</td>\n",
       "      <td>55965</td>\n",
       "      <td>False</td>\n",
       "    </tr>\n",
       "    <tr>\n",
       "      <th>52043182</th>\n",
       "      <td>7</td>\n",
       "      <td>164</td>\n",
       "      <td>219</td>\n",
       "      <td>0</td>\n",
       "      <td>0</td>\n",
       "      <td>4</td>\n",
       "      <td>1</td>\n",
       "      <td>10</td>\n",
       "      <td>538955</td>\n",
       "      <td>False</td>\n",
       "      <td>591.0</td>\n",
       "      <td>447.0</td>\n",
       "      <td>13.0</td>\n",
       "      <td>3.0</td>\n",
       "      <td>23.0</td>\n",
       "      <td>617280</td>\n",
       "      <td>True</td>\n",
       "    </tr>\n",
       "    <tr>\n",
       "      <th>52043263</th>\n",
       "      <td>0</td>\n",
       "      <td>34</td>\n",
       "      <td>138</td>\n",
       "      <td>0</td>\n",
       "      <td>7</td>\n",
       "      <td>5</td>\n",
       "      <td>0</td>\n",
       "      <td>0</td>\n",
       "      <td>326111</td>\n",
       "      <td>False</td>\n",
       "      <td>2181.0</td>\n",
       "      <td>219.0</td>\n",
       "      <td>1002.0</td>\n",
       "      <td>29.0</td>\n",
       "      <td>78.0</td>\n",
       "      <td>56970</td>\n",
       "      <td>False</td>\n",
       "    </tr>\n",
       "    <tr>\n",
       "      <th>52043272</th>\n",
       "      <td>0</td>\n",
       "      <td>229</td>\n",
       "      <td>135</td>\n",
       "      <td>1</td>\n",
       "      <td>8</td>\n",
       "      <td>8</td>\n",
       "      <td>1</td>\n",
       "      <td>0</td>\n",
       "      <td>179531</td>\n",
       "      <td>False</td>\n",
       "      <td>1256.0</td>\n",
       "      <td>642.0</td>\n",
       "      <td>152.0</td>\n",
       "      <td>2.0</td>\n",
       "      <td>104.0</td>\n",
       "      <td>143484</td>\n",
       "      <td>True</td>\n",
       "    </tr>\n",
       "    <tr>\n",
       "      <th>52043294</th>\n",
       "      <td>1</td>\n",
       "      <td>22</td>\n",
       "      <td>98</td>\n",
       "      <td>0</td>\n",
       "      <td>1</td>\n",
       "      <td>10</td>\n",
       "      <td>2</td>\n",
       "      <td>3</td>\n",
       "      <td>0</td>\n",
       "      <td>False</td>\n",
       "      <td>0.0</td>\n",
       "      <td>0.0</td>\n",
       "      <td>0.0</td>\n",
       "      <td>0.0</td>\n",
       "      <td>0.0</td>\n",
       "      <td>1068679</td>\n",
       "      <td>True</td>\n",
       "    </tr>\n",
       "    <tr>\n",
       "      <th>52043369</th>\n",
       "      <td>1</td>\n",
       "      <td>36</td>\n",
       "      <td>47</td>\n",
       "      <td>0</td>\n",
       "      <td>0</td>\n",
       "      <td>6</td>\n",
       "      <td>1</td>\n",
       "      <td>0</td>\n",
       "      <td>124800</td>\n",
       "      <td>False</td>\n",
       "      <td>1340.0</td>\n",
       "      <td>102.0</td>\n",
       "      <td>86.0</td>\n",
       "      <td>5.0</td>\n",
       "      <td>36.0</td>\n",
       "      <td>3105</td>\n",
       "      <td>True</td>\n",
       "    </tr>\n",
       "    <tr>\n",
       "      <th>52043564</th>\n",
       "      <td>1</td>\n",
       "      <td>6</td>\n",
       "      <td>40</td>\n",
       "      <td>1</td>\n",
       "      <td>0</td>\n",
       "      <td>24</td>\n",
       "      <td>1</td>\n",
       "      <td>0</td>\n",
       "      <td>10597</td>\n",
       "      <td>False</td>\n",
       "      <td>1146.0</td>\n",
       "      <td>79.0</td>\n",
       "      <td>54.0</td>\n",
       "      <td>6.0</td>\n",
       "      <td>30.0</td>\n",
       "      <td>5023</td>\n",
       "      <td>False</td>\n",
       "    </tr>\n",
       "    <tr>\n",
       "      <th>52043575</th>\n",
       "      <td>1</td>\n",
       "      <td>30</td>\n",
       "      <td>73</td>\n",
       "      <td>0</td>\n",
       "      <td>2</td>\n",
       "      <td>7</td>\n",
       "      <td>1</td>\n",
       "      <td>4</td>\n",
       "      <td>0</td>\n",
       "      <td>False</td>\n",
       "      <td>0.0</td>\n",
       "      <td>0.0</td>\n",
       "      <td>0.0</td>\n",
       "      <td>0.0</td>\n",
       "      <td>0.0</td>\n",
       "      <td>1280672</td>\n",
       "      <td>True</td>\n",
       "    </tr>\n",
       "    <tr>\n",
       "      <th>52043590</th>\n",
       "      <td>1</td>\n",
       "      <td>49</td>\n",
       "      <td>107</td>\n",
       "      <td>0</td>\n",
       "      <td>4</td>\n",
       "      <td>5</td>\n",
       "      <td>1</td>\n",
       "      <td>0</td>\n",
       "      <td>511302</td>\n",
       "      <td>False</td>\n",
       "      <td>3147.0</td>\n",
       "      <td>891.0</td>\n",
       "      <td>106.0</td>\n",
       "      <td>4.0</td>\n",
       "      <td>105.0</td>\n",
       "      <td>51624</td>\n",
       "      <td>False</td>\n",
       "    </tr>\n",
       "    <tr>\n",
       "      <th>52043673</th>\n",
       "      <td>0</td>\n",
       "      <td>32</td>\n",
       "      <td>39</td>\n",
       "      <td>0</td>\n",
       "      <td>2</td>\n",
       "      <td>5</td>\n",
       "      <td>0</td>\n",
       "      <td>0</td>\n",
       "      <td>221683</td>\n",
       "      <td>False</td>\n",
       "      <td>5584.0</td>\n",
       "      <td>1401.0</td>\n",
       "      <td>1298.0</td>\n",
       "      <td>22.0</td>\n",
       "      <td>179.0</td>\n",
       "      <td>1155005</td>\n",
       "      <td>False</td>\n",
       "    </tr>\n",
       "  </tbody>\n",
       "</table>\n",
       "</div>"
      ],
      "text/plain": [
       "          Score  ViewCount  WordCount  LinksCount  BlocksCount  \\\n",
       "52042747      2         44        166           4           10   \n",
       "52042790      0         56         18           1            2   \n",
       "52042796     -1         50       1217           3            1   \n",
       "52042814      0         41        225           2            0   \n",
       "52042821      0         46         93           0            1   \n",
       "52042868      0         11        100           0           10   \n",
       "52042911      0          6         88           0            3   \n",
       "52042997      0         40        138           0            2   \n",
       "52043143      1         15         40           0            2   \n",
       "52043149      0         31         47           0            3   \n",
       "52043176      0         36        103           2            1   \n",
       "52043182      7        164        219           0            0   \n",
       "52043263      0         34        138           0            7   \n",
       "52043272      0        229        135           1            8   \n",
       "52043294      1         22         98           0            1   \n",
       "52043369      1         36         47           0            0   \n",
       "52043564      1          6         40           1            0   \n",
       "52043575      1         30         73           0            2   \n",
       "52043590      1         49        107           0            4   \n",
       "52043673      0         32         39           0            2   \n",
       "\n",
       "          TitleWordsCount  AnswerCount  CommentCount  OwnerUserId  bounty  \\\n",
       "52042747               14            1             0       489426   False   \n",
       "52042790                4            1             0        19212   False   \n",
       "52042796               10            1             6       468523   False   \n",
       "52042814                8            1             0       266553   False   \n",
       "52042821                5            1             1       580175   False   \n",
       "52042868               11            0             0       785523   False   \n",
       "52042911                5            0             0       657224   False   \n",
       "52042997               17            0             1            0   False   \n",
       "52043143                2            1             0            0   False   \n",
       "52043149               11            3             4            0   False   \n",
       "52043176                8            0             1       773584   False   \n",
       "52043182                4            1            10       538955   False   \n",
       "52043263                5            0             0       326111   False   \n",
       "52043272                8            1             0       179531   False   \n",
       "52043294               10            2             3            0   False   \n",
       "52043369                6            1             0       124800   False   \n",
       "52043564               24            1             0        10597   False   \n",
       "52043575                7            1             4            0   False   \n",
       "52043590                5            1             0       511302   False   \n",
       "52043673                5            0             0       221683   False   \n",
       "\n",
       "          Reputation   Views  UpVotes  DownVotes  BadgesCount  tagsAggregate  \\\n",
       "52042747      1384.0   138.0    105.0        9.0         71.0         280810   \n",
       "52042790     35982.0  2243.0   6926.0       38.0        519.0        1142114   \n",
       "52042796        58.0    36.0     79.0        0.0         11.0        1789446   \n",
       "52042814      3194.0   306.0    470.0      154.0        108.0           2898   \n",
       "52042821       638.0   215.0     70.0       12.0         45.0         866855   \n",
       "52042868      1475.0   327.0    270.0       13.0         72.0          48489   \n",
       "52042911      1194.0    62.0    144.0        5.0         23.0            892   \n",
       "52042997         0.0     0.0      0.0        0.0          0.0        1292267   \n",
       "52043143         0.0     0.0      0.0        0.0          0.0         130097   \n",
       "52043149         0.0     0.0      0.0        0.0          0.0        2659995   \n",
       "52043176        50.0    13.0      2.0        0.0         11.0          55965   \n",
       "52043182       591.0   447.0     13.0        3.0         23.0         617280   \n",
       "52043263      2181.0   219.0   1002.0       29.0         78.0          56970   \n",
       "52043272      1256.0   642.0    152.0        2.0        104.0         143484   \n",
       "52043294         0.0     0.0      0.0        0.0          0.0        1068679   \n",
       "52043369      1340.0   102.0     86.0        5.0         36.0           3105   \n",
       "52043564      1146.0    79.0     54.0        6.0         30.0           5023   \n",
       "52043575         0.0     0.0      0.0        0.0          0.0        1280672   \n",
       "52043590      3147.0   891.0    106.0        4.0        105.0          51624   \n",
       "52043673      5584.0  1401.0   1298.0       22.0        179.0        1155005   \n",
       "\n",
       "          isAnswered  \n",
       "52042747        True  \n",
       "52042790        True  \n",
       "52042796        True  \n",
       "52042814       False  \n",
       "52042821        True  \n",
       "52042868       False  \n",
       "52042911       False  \n",
       "52042997       False  \n",
       "52043143        True  \n",
       "52043149        True  \n",
       "52043176       False  \n",
       "52043182        True  \n",
       "52043263       False  \n",
       "52043272        True  \n",
       "52043294        True  \n",
       "52043369        True  \n",
       "52043564       False  \n",
       "52043575        True  \n",
       "52043590       False  \n",
       "52043673       False  "
      ]
     },
     "execution_count": 20,
     "metadata": {},
     "output_type": "execute_result"
    }
   ],
   "source": [
    "posts.head(n=20, npartitions=2)"
   ]
  },
  {
   "cell_type": "code",
   "execution_count": 21,
   "metadata": {
    "ExecuteTime": {
     "end_time": "2019-01-28T10:28:16.050907Z",
     "start_time": "2019-01-28T10:28:16.045770Z"
    }
   },
   "outputs": [
    {
     "data": {
      "text/plain": [
       "Score              int64\n",
       "ViewCount          int64\n",
       "WordCount          int64\n",
       "LinksCount         int64\n",
       "BlocksCount        int64\n",
       "TitleWordsCount    int64\n",
       "AnswerCount        int64\n",
       "CommentCount       int64\n",
       "OwnerUserId        int64\n",
       "bounty              bool\n",
       "Reputation         int64\n",
       "Views              int64\n",
       "UpVotes            int64\n",
       "DownVotes          int64\n",
       "BadgesCount        int64\n",
       "tagsAggregate      int64\n",
       "isAnswered          bool\n",
       "dtype: object"
      ]
     },
     "execution_count": 21,
     "metadata": {},
     "output_type": "execute_result"
    }
   ],
   "source": [
    "posts.dtypes"
   ]
  },
  {
   "cell_type": "code",
   "execution_count": 22,
   "metadata": {
    "ExecuteTime": {
     "end_time": "2019-01-28T10:28:17.243296Z",
     "start_time": "2019-01-28T10:28:16.052969Z"
    }
   },
   "outputs": [],
   "source": [
    "!rm -rf Complete-Posts\n",
    "!mkdir Complete-Posts\n",
    "!rm -rf Complete-Posts-Compressed\n",
    "!mkdir Complete-Posts-Compressed"
   ]
  },
  {
   "cell_type": "code",
   "execution_count": 23,
   "metadata": {
    "ExecuteTime": {
     "end_time": "2019-01-28T10:49:29.783450Z",
     "start_time": "2019-01-28T10:28:17.250301Z"
    },
    "scrolled": true
   },
   "outputs": [
    {
     "name": "stdout",
     "output_type": "stream",
     "text": [
      "CPU times: user 21min 40s, sys: 33.6 s, total: 22min 14s\n",
      "Wall time: 21min 12s\n"
     ]
    },
    {
     "data": {
      "text/plain": [
       "['Complete-Posts/00.csv',\n",
       " 'Complete-Posts/01.csv',\n",
       " 'Complete-Posts/02.csv',\n",
       " 'Complete-Posts/03.csv',\n",
       " 'Complete-Posts/04.csv',\n",
       " 'Complete-Posts/05.csv',\n",
       " 'Complete-Posts/06.csv',\n",
       " 'Complete-Posts/07.csv',\n",
       " 'Complete-Posts/08.csv',\n",
       " 'Complete-Posts/09.csv',\n",
       " 'Complete-Posts/10.csv',\n",
       " 'Complete-Posts/11.csv',\n",
       " 'Complete-Posts/12.csv',\n",
       " 'Complete-Posts/13.csv',\n",
       " 'Complete-Posts/14.csv',\n",
       " 'Complete-Posts/15.csv',\n",
       " 'Complete-Posts/16.csv',\n",
       " 'Complete-Posts/17.csv',\n",
       " 'Complete-Posts/18.csv',\n",
       " 'Complete-Posts/19.csv',\n",
       " 'Complete-Posts/20.csv',\n",
       " 'Complete-Posts/21.csv',\n",
       " 'Complete-Posts/22.csv',\n",
       " 'Complete-Posts/23.csv']"
      ]
     },
     "execution_count": 23,
     "metadata": {},
     "output_type": "execute_result"
    }
   ],
   "source": [
    "%%time\n",
    "# store data to csv file, to prevent joining all the time\n",
    "posts.to_csv(\"Complete-Posts/*.csv\",index=False)"
   ]
  },
  {
   "cell_type": "code",
   "execution_count": 24,
   "metadata": {
    "ExecuteTime": {
     "end_time": "2019-01-28T10:49:30.034521Z",
     "start_time": "2019-01-28T10:49:29.786026Z"
    }
   },
   "outputs": [
    {
     "name": "stdout",
     "output_type": "stream",
     "text": [
      "Complete-Posts/00.csv  Complete-Posts/08.csv  Complete-Posts/16.csv\r\n",
      "Complete-Posts/01.csv  Complete-Posts/09.csv  Complete-Posts/17.csv\r\n",
      "Complete-Posts/02.csv  Complete-Posts/10.csv  Complete-Posts/18.csv\r\n",
      "Complete-Posts/03.csv  Complete-Posts/11.csv  Complete-Posts/19.csv\r\n",
      "Complete-Posts/04.csv  Complete-Posts/12.csv  Complete-Posts/20.csv\r\n",
      "Complete-Posts/05.csv  Complete-Posts/13.csv  Complete-Posts/21.csv\r\n",
      "Complete-Posts/06.csv  Complete-Posts/14.csv  Complete-Posts/22.csv\r\n",
      "Complete-Posts/07.csv  Complete-Posts/15.csv  Complete-Posts/23.csv\r\n"
     ]
    }
   ],
   "source": [
    "!ls Complete-Posts/*csv"
   ]
  },
  {
   "cell_type": "code",
   "execution_count": 25,
   "metadata": {
    "ExecuteTime": {
     "end_time": "2019-01-28T11:15:38.136637Z",
     "start_time": "2019-01-28T10:49:30.036253Z"
    },
    "scrolled": true
   },
   "outputs": [
    {
     "name": "stdout",
     "output_type": "stream",
     "text": [
      "CPU times: user 3 µs, sys: 0 ns, total: 3 µs\n",
      "Wall time: 7.15 µs\n"
     ]
    },
    {
     "data": {
      "text/plain": [
       "['Complete-Posts-Compressed/00.csv.tar.xz',\n",
       " 'Complete-Posts-Compressed/01.csv.tar.xz',\n",
       " 'Complete-Posts-Compressed/02.csv.tar.xz',\n",
       " 'Complete-Posts-Compressed/03.csv.tar.xz',\n",
       " 'Complete-Posts-Compressed/04.csv.tar.xz',\n",
       " 'Complete-Posts-Compressed/05.csv.tar.xz',\n",
       " 'Complete-Posts-Compressed/06.csv.tar.xz',\n",
       " 'Complete-Posts-Compressed/07.csv.tar.xz',\n",
       " 'Complete-Posts-Compressed/08.csv.tar.xz',\n",
       " 'Complete-Posts-Compressed/09.csv.tar.xz',\n",
       " 'Complete-Posts-Compressed/10.csv.tar.xz',\n",
       " 'Complete-Posts-Compressed/11.csv.tar.xz',\n",
       " 'Complete-Posts-Compressed/12.csv.tar.xz',\n",
       " 'Complete-Posts-Compressed/13.csv.tar.xz',\n",
       " 'Complete-Posts-Compressed/14.csv.tar.xz',\n",
       " 'Complete-Posts-Compressed/15.csv.tar.xz',\n",
       " 'Complete-Posts-Compressed/16.csv.tar.xz',\n",
       " 'Complete-Posts-Compressed/17.csv.tar.xz',\n",
       " 'Complete-Posts-Compressed/18.csv.tar.xz',\n",
       " 'Complete-Posts-Compressed/19.csv.tar.xz',\n",
       " 'Complete-Posts-Compressed/20.csv.tar.xz',\n",
       " 'Complete-Posts-Compressed/21.csv.tar.xz',\n",
       " 'Complete-Posts-Compressed/22.csv.tar.xz',\n",
       " 'Complete-Posts-Compressed/23.csv.tar.xz']"
      ]
     },
     "execution_count": 25,
     "metadata": {},
     "output_type": "execute_result"
    }
   ],
   "source": [
    "%%time\n",
    "# same as above but compressed\n",
    "posts.to_csv(\"Complete-Posts-Compressed/*.csv.tar.xz\",compression=\"xz\",index=False)"
   ]
  },
  {
   "cell_type": "code",
   "execution_count": 26,
   "metadata": {
    "ExecuteTime": {
     "end_time": "2019-01-28T11:15:38.398964Z",
     "start_time": "2019-01-28T11:15:38.139984Z"
    },
    "scrolled": true
   },
   "outputs": [
    {
     "name": "stdout",
     "output_type": "stream",
     "text": [
      "Complete-Posts-Compressed/00.csv.tar.xz\r\n",
      "Complete-Posts-Compressed/01.csv.tar.xz\r\n",
      "Complete-Posts-Compressed/02.csv.tar.xz\r\n",
      "Complete-Posts-Compressed/03.csv.tar.xz\r\n",
      "Complete-Posts-Compressed/04.csv.tar.xz\r\n",
      "Complete-Posts-Compressed/05.csv.tar.xz\r\n",
      "Complete-Posts-Compressed/06.csv.tar.xz\r\n",
      "Complete-Posts-Compressed/07.csv.tar.xz\r\n",
      "Complete-Posts-Compressed/08.csv.tar.xz\r\n",
      "Complete-Posts-Compressed/09.csv.tar.xz\r\n",
      "Complete-Posts-Compressed/10.csv.tar.xz\r\n",
      "Complete-Posts-Compressed/11.csv.tar.xz\r\n",
      "Complete-Posts-Compressed/12.csv.tar.xz\r\n",
      "Complete-Posts-Compressed/13.csv.tar.xz\r\n",
      "Complete-Posts-Compressed/14.csv.tar.xz\r\n",
      "Complete-Posts-Compressed/15.csv.tar.xz\r\n",
      "Complete-Posts-Compressed/16.csv.tar.xz\r\n",
      "Complete-Posts-Compressed/17.csv.tar.xz\r\n",
      "Complete-Posts-Compressed/18.csv.tar.xz\r\n",
      "Complete-Posts-Compressed/19.csv.tar.xz\r\n",
      "Complete-Posts-Compressed/20.csv.tar.xz\r\n",
      "Complete-Posts-Compressed/21.csv.tar.xz\r\n",
      "Complete-Posts-Compressed/22.csv.tar.xz\r\n",
      "Complete-Posts-Compressed/23.csv.tar.xz\r\n"
     ]
    }
   ],
   "source": [
    "!ls Complete-Posts-Compressed/*tar.xz"
   ]
  },
  {
   "cell_type": "code",
   "execution_count": 27,
   "metadata": {
    "ExecuteTime": {
     "end_time": "2019-01-28T11:15:38.412137Z",
     "start_time": "2019-01-28T11:15:38.406464Z"
    }
   },
   "outputs": [],
   "source": [
    "#posts.astype(float).corr().compute()"
   ]
  }
 ],
 "metadata": {
  "kernelspec": {
   "display_name": "Python 3",
   "language": "python",
   "name": "python3"
  },
  "language_info": {
   "codemirror_mode": {
    "name": "ipython",
    "version": 3
   },
   "file_extension": ".py",
   "mimetype": "text/x-python",
   "name": "python",
   "nbconvert_exporter": "python",
   "pygments_lexer": "ipython3",
   "version": "3.6.8"
  }
 },
 "nbformat": 4,
 "nbformat_minor": 2
}
