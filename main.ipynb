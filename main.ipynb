{
 "cells": [
  {
   "cell_type": "markdown",
   "metadata": {},
   "source": [
    "# Big Data - Project\n",
    "\n",
    "## TODO TOPIC\n",
    "\n",
    "### Dragan Postolovsky\n",
    "### Wojciech Taisner"
   ]
  },
  {
   "cell_type": "markdown",
   "metadata": {},
   "source": [
    "TODO\n",
    "\n",
    "A 1-page summary of litterature review on studies investigating stackoverflow data"
   ]
  },
  {
   "cell_type": "markdown",
   "metadata": {},
   "source": [
    "TODO\n",
    "\n",
    "An enumeration of \"interesting\" investigations directions for the 10-year dataset of stack overflow (from 09/2008 to 09/2018)"
   ]
  },
  {
   "cell_type": "markdown",
   "metadata": {},
   "source": [
    "### What were the questions?"
   ]
  },
  {
   "cell_type": "markdown",
   "metadata": {},
   "source": [
    "TODO\n",
    "\n",
    "A report with analysis results (including visualisation, and statistics) of the 10 years data. These results are the fruit of the investigations projected earlier"
   ]
  },
  {
   "cell_type": "code",
   "execution_count": 1,
   "metadata": {},
   "outputs": [],
   "source": [
    "#files\n",
    "base = \"stackoverflow.com-\"\n",
    "\n",
    "badges = \"Badges\"\n",
    "comments = \"Comments\"\n",
    "posthistory = \"PostHistory\"\n",
    "postlinks = \"PostLinks\"\n",
    "posts = \"Posts\"\n",
    "tags = \"Tags\"\n",
    "users = \"Users\"\n",
    "votes = \"Votes\""
   ]
  },
  {
   "cell_type": "code",
   "execution_count": 2,
   "metadata": {},
   "outputs": [],
   "source": [
    "# import dask bag\n",
    "import dask.bag as db\n",
    "# import BeatuifulSoup\n",
    "from bs4 import BeautifulSoup\n",
    "\n",
    "# read tags bag, select rows only\n",
    "tags_bag = db.read_text(\"Tags.tar.xz\", compression=\"xz\").str.strip()\n",
    "tags_bag = tags_bag.filter(lambda x: x.find(\"row\") >= 0)"
   ]
  },
  {
   "cell_type": "code",
   "execution_count": 3,
   "metadata": {},
   "outputs": [],
   "source": [
    "# non complex parsing (ex badges, tags, etc)\n",
    "def xml_row_to_tuple(row):\n",
    "    soup = BeautifulSoup(row, \"xml\")\n",
    "    ret = []\n",
    "    for a, v in soup.row.attrs.items():\n",
    "        if v.isdigit():\n",
    "            v = int(v) #integers take less memory :D\n",
    "        ret.append(v)\n",
    "    return tuple(ret);\n",
    "def xml_headers_to_tuple(row):\n",
    "    soup = BeautifulSoup(row, \"xml\")\n",
    "    ret = []\n",
    "    for a, v in soup.row.attrs.items():\n",
    "        ret.append(a)\n",
    "    return tuple(ret);"
   ]
  },
  {
   "cell_type": "code",
   "execution_count": 4,
   "metadata": {},
   "outputs": [
    {
     "name": "stdout",
     "output_type": "stream",
     "text": [
      "<row Id=\"1\" TagName=\".net\" Count=\"276857\" ExcerptPostId=\"3624959\" WikiPostId=\"3607476\" />\n",
      "(1, '.net', 276857, 3624959, 3607476)\n",
      "<row Id=\"2\" TagName=\"html\" Count=\"789778\" ExcerptPostId=\"3673183\" WikiPostId=\"3673182\" />\n",
      "(2, 'html', 789778, 3673183, 3673182)\n",
      "<row Id=\"3\" TagName=\"javascript\" Count=\"1723731\" ExcerptPostId=\"3624960\" WikiPostId=\"3607052\" />\n",
      "(3, 'javascript', 1723731, 3624960, 3607052)\n",
      "<row Id=\"4\" TagName=\"css\" Count=\"563816\" ExcerptPostId=\"3644670\" WikiPostId=\"3644669\" />\n",
      "(4, 'css', 563816, 3644670, 3644669)\n"
     ]
    }
   ],
   "source": [
    "for row in tags_bag.take(4):\n",
    "    print(row);\n",
    "    print(xml_row_to_tuple(row))\n",
    "    #soup = BeautifulSoup(row, \"xml\")\n",
    "    #print(soup.row['Id'], soup.row['TagName'], soup.row['Count'])"
   ]
  },
  {
   "cell_type": "code",
   "execution_count": 5,
   "metadata": {},
   "outputs": [
    {
     "data": {
      "text/plain": [
       "(1, '.net', 276857, 3624959, 3607476)"
      ]
     },
     "execution_count": 5,
     "metadata": {},
     "output_type": "execute_result"
    }
   ],
   "source": [
    "tags_bag.take(4) # return tuple\n",
    "test = tags_bag.map(xml_row_to_tuple).compute()\n",
    "test[0]\n",
    "#carefull, takes a while"
   ]
  }
 ],
 "metadata": {
  "kernelspec": {
   "display_name": "Python 3",
   "language": "python",
   "name": "python3"
  },
  "language_info": {
   "codemirror_mode": {
    "name": "ipython",
    "version": 3
   },
   "file_extension": ".py",
   "mimetype": "text/x-python",
   "name": "python",
   "nbconvert_exporter": "python",
   "pygments_lexer": "ipython3",
   "version": "3.6.7"
  }
 },
 "nbformat": 4,
 "nbformat_minor": 2
}
