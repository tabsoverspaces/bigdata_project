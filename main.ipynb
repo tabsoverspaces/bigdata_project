{
 "cells": [
  {
   "cell_type": "markdown",
   "metadata": {},
   "source": [
    "# Big Data - Project\n",
    "\n",
    "## TODO TOPIC\n",
    "\n",
    "### Dragan Postolovsky\n",
    "### Wojciech Taisner"
   ]
  },
  {
   "cell_type": "markdown",
   "metadata": {},
   "source": [
    "TODO\n",
    "\n",
    "A 1-page summary of litterature review on studies investigating stackoverflow data"
   ]
  },
  {
   "cell_type": "markdown",
   "metadata": {},
   "source": [
    "TODO\n",
    "\n",
    "An enumeration of \"interesting\" investigations directions for the 10-year dataset of stack overflow (from 09/2008 to 09/2018)"
   ]
  },
  {
   "cell_type": "markdown",
   "metadata": {},
   "source": [
    "### What were the questions?"
   ]
  },
  {
   "cell_type": "markdown",
   "metadata": {},
   "source": [
    "TODO\n",
    "\n",
    "A report with analysis results (including visualisation, and statistics) of the 10 years data. These results are the fruit of the investigations projected earlier"
   ]
  },
  {
   "cell_type": "code",
   "execution_count": null,
   "metadata": {},
   "outputs": [],
   "source": [
    "!ls *.tar.gz"
   ]
  },
  {
   "cell_type": "code",
   "execution_count": 47,
   "metadata": {},
   "outputs": [],
   "source": [
    "# import dask bag\n",
    "import dask.bag as db\n",
    "# import BeatuifulSoup\n",
    "from bs4 import BeautifulSoup"
   ]
  },
  {
   "cell_type": "code",
   "execution_count": 2,
   "metadata": {},
   "outputs": [
    {
     "data": {
      "text/plain": [
       "['Badges', 'Comments', 'PostLinks', 'Posts', 'Tags', 'Users', 'Votes']"
      ]
     },
     "execution_count": 2,
     "metadata": {},
     "output_type": "execute_result"
    }
   ],
   "source": [
    "#files\n",
    "base = \"stackoverflow.com-\"\n",
    "\n",
    "badges = \"Badges\"\n",
    "comments = \"Comments\"\n",
    "posthistory = \"PostHistory\"\n",
    "postlinks = \"PostLinks\"\n",
    "posts = \"Posts\"\n",
    "tags = \"Tags\"\n",
    "users = \"Users\"\n",
    "votes = \"Votes\"\n",
    "\n",
    "all_files = [badges, comments, postlinks, posts, tags, users, votes] # posthistory, \n",
    "# for some reason post history does not want to co-operate\n",
    "all_files"
   ]
  },
  {
   "cell_type": "markdown",
   "metadata": {},
   "source": [
    "# Functions"
   ]
  },
  {
   "cell_type": "code",
   "execution_count": 3,
   "metadata": {},
   "outputs": [],
   "source": [
    "# non complex parsing (ex badges, tags, etc)\n",
    "def xml_row_to_tuple(row): # gets data from single xml row (attr values)\n",
    "    soup = BeautifulSoup(row, \"xml\")\n",
    "    ret = []\n",
    "    for a, v in soup.row.attrs.items():\n",
    "        if v.isdigit():\n",
    "            v = int(v) #integers take less memory :D\n",
    "        ret.append(v)\n",
    "    return tuple(ret);\n",
    "\n",
    "\n",
    "def xml_headers_to_tuple(row): # gets headers for single xml row (attr names)\n",
    "    soup = BeautifulSoup(row, \"xml\")\n",
    "    ret = []\n",
    "    for a, v in soup.row.attrs.items():\n",
    "        ret.append(a)\n",
    "    return tuple(ret);"
   ]
  },
  {
   "cell_type": "code",
   "execution_count": null,
   "metadata": {},
   "outputs": [],
   "source": [
    "# TODO\n",
    "# read data only form provided attrs\n",
    "def xml_row_to_tuple_attrs(row, d=tuple(\"Id\")):\n",
    "    return tuple()"
   ]
  },
  {
   "cell_type": "code",
   "execution_count": null,
   "metadata": {},
   "outputs": [],
   "source": [
    "## select shortest valid header\n",
    "## if any field from tested header is missing in set of headers, then false\n",
    "def is_header_valid(setof, element):\n",
    "    for k in setof:\n",
    "        for e in element:\n",
    "            try:\n",
    "                k.index(e)    \n",
    "            except ValueError:\n",
    "                return False\n",
    "    return True\n",
    "\n",
    "\n",
    "def find_valid_header(headers):\n",
    "    # generate list of sorted headers by length ascending\n",
    "    headers.sort(key=len)\n",
    "    \n",
    "    minlen = min(list(map(len, headers)))\n",
    "    \n",
    "    # for elements where len(element) == min(len(element)) - other just wont be valid anyway\n",
    "    # try to find if it is a valid header\n",
    "    for k in list(filter(lambda x: len(x) == minlen, headers)):\n",
    "        if is_header_valid(headers, k):\n",
    "            return k\n",
    "    return tuple()\n",
    "\n",
    "\n",
    "def shortest_valid_header(bag):\n",
    "    # select distinct headers\n",
    "    headers = bag.map(xml_headers_to_tuple).distinct().compute()\n",
    "    return find_valid_header(headers)\n",
    "    \n",
    "    "
   ]
  },
  {
   "cell_type": "code",
   "execution_count": 40,
   "metadata": {},
   "outputs": [],
   "source": [
    "# bag summary header + first row\n",
    "# only bags with proper structure\n",
    "def summary_bag(bag):\n",
    "    th = bag.map(xml_headers_to_tuple).take(1)[0]\n",
    "    for i, v in enumerate(th):\n",
    "        print('{}: {}'.format(i, v))\n",
    "    print(\"\")\n",
    "    tp = bag.map(xml_row_to_tuple).take(1)[0]\n",
    "    for i, v in enumerate(tp):\n",
    "        print('{}: {}'.format(i, v))\n",
    "    print(\"\")"
   ]
  },
  {
   "cell_type": "code",
   "execution_count": 38,
   "metadata": {},
   "outputs": [],
   "source": [
    "# read bag function\n",
    "def make_xml_bag(filename):\n",
    "    extension=\".tar.xz\"\n",
    "    compression=\"xz\"\n",
    "    temp_bag = db.read_text(filename+extension, compression=compression).str.strip()\n",
    "    temp_bag = temp_bag.filter(lambda x: x.find(\"row\") >= 0)\n",
    "    return temp_bag"
   ]
  },
  {
   "cell_type": "code",
   "execution_count": null,
   "metadata": {},
   "outputs": [],
   "source": [
    "# check if bag is ok (data are more-a-less structured)\n",
    "# takes a while of course\n",
    "def check_bag(bag):\n",
    "    ma = bag.map(lambda x: len(xml_row_to_tuple(x))).max().compute()\n",
    "    mi = bag.map(lambda x: len(xml_row_to_tuple(x))).min().compute()\n",
    "    if ma == mi:\n",
    "        return True\n",
    "    print(ma, mi)\n",
    "    return False"
   ]
  },
  {
   "cell_type": "markdown",
   "metadata": {},
   "source": [
    "## Review of files structure (probably to be removed later)"
   ]
  },
  {
   "cell_type": "code",
   "execution_count": 41,
   "metadata": {
    "scrolled": true
   },
   "outputs": [
    {
     "name": "stdout",
     "output_type": "stream",
     "text": [
      "Badges\n",
      "0: Id\n",
      "1: UserId\n",
      "2: Name\n",
      "3: Date\n",
      "4: Class\n",
      "5: TagBased\n",
      "\n",
      "0: 82946\n",
      "1: 3718\n",
      "2: Teacher\n",
      "3: 2008-09-15T08:55:03.923\n",
      "4: 3\n",
      "5: False\n",
      "\n",
      "Comments\n",
      "0: Id\n",
      "1: PostId\n",
      "2: Score\n",
      "3: Text\n",
      "4: CreationDate\n",
      "5: UserId\n",
      "\n",
      "0: 2\n",
      "1: 35314\n",
      "2: 8\n",
      "3: Yeah, I didn't believe it until I created a console app - but good lord!  Why would they give you the rope to hang yourself!  I hated that about VB.NET - the OrElse and AndAlso keywords!\n",
      "4: 2008-09-06T08:09:52.330\n",
      "5: 3\n",
      "\n",
      "PostLinks\n",
      "0: Id\n",
      "1: CreationDate\n",
      "2: PostId\n",
      "3: RelatedPostId\n",
      "4: LinkTypeId\n",
      "\n",
      "0: 19\n",
      "1: 2010-04-26T02:59:48.130\n",
      "2: 109\n",
      "3: 32412\n",
      "4: 1\n",
      "\n",
      "Posts\n",
      "0: Id\n",
      "1: PostTypeId\n",
      "2: AcceptedAnswerId\n",
      "3: CreationDate\n",
      "4: Score\n",
      "5: ViewCount\n",
      "6: Body\n",
      "7: OwnerUserId\n",
      "8: LastEditorUserId\n",
      "9: LastEditorDisplayName\n",
      "10: LastEditDate\n",
      "11: LastActivityDate\n",
      "12: Title\n",
      "13: Tags\n",
      "14: AnswerCount\n",
      "15: CommentCount\n",
      "16: FavoriteCount\n",
      "\n",
      "0: 6\n",
      "1: 1\n",
      "2: 31\n",
      "3: 2008-07-31T22:08:08.620\n",
      "4: 261\n",
      "5: 16799\n",
      "6: <p>I have an absolutely positioned <code>div</code> containing several children, one of which is a relatively positioned <code>div</code>. When I use a <strong>percentage-based width</strong> on the child <code>div</code>, it collapses to '0' width on <a href=\"http://en.wikipedia.org/wiki/Internet_Explorer_7\" rel=\"noreferrer\">Internet&nbsp;Explorer&nbsp;7</a>, but not on Firefox or Safari.</p>\n",
      "\n",
      "<p>If I use <strong>pixel width</strong>, it works. If the parent is relatively positioned, the percentage width on the child works.</p>\n",
      "\n",
      "<ol>\n",
      "<li>Is there something I'm missing here?</li>\n",
      "<li>Is there an easy fix for this besides the <em>pixel-based width</em> on the\n",
      "child?</li>\n",
      "<li>Is there an area of the CSS specification that covers this?</li>\n",
      "</ol>\n",
      "\n",
      "7: 9\n",
      "8: 63550\n",
      "9: Rich B\n",
      "10: 2016-03-19T06:05:48.487\n",
      "11: 2018-10-16T16:54:34.953\n",
      "12: Percentage width child element in absolutely positioned parent on Internet Explorer 7\n",
      "13: <html><css><css3><internet-explorer-7>\n",
      "14: 6\n",
      "15: 0\n",
      "16: 12\n",
      "\n",
      "Tags\n",
      "0: Id\n",
      "1: TagName\n",
      "2: Count\n",
      "3: ExcerptPostId\n",
      "4: WikiPostId\n",
      "\n",
      "0: 1\n",
      "1: .net\n",
      "2: 276857\n",
      "3: 3624959\n",
      "4: 3607476\n",
      "\n",
      "Users\n",
      "0: Id\n",
      "1: Reputation\n",
      "2: CreationDate\n",
      "3: DisplayName\n",
      "4: LastAccessDate\n",
      "5: WebsiteUrl\n",
      "6: Location\n",
      "7: AboutMe\n",
      "8: Views\n",
      "9: UpVotes\n",
      "10: DownVotes\n",
      "11: AccountId\n",
      "\n",
      "0: -1\n",
      "1: 1\n",
      "2: 2008-07-31T00:00:00.000\n",
      "3: Community\n",
      "4: 2008-08-26T00:16:53.810\n",
      "5: http://meta.stackexchange.com/\n",
      "6: on the server farm\n",
      "7: <p>Hi, I'm not really a person.</p>\n",
      "\n",
      "<p>I'm a background process that helps keep this site clean!</p>\n",
      "\n",
      "<p>I do things like</p>\n",
      "\n",
      "<ul>\n",
      "<li>Randomly poke old unanswered questions every hour so they get some attention</li>\n",
      "<li>Own community questions and answers so nobody gets unnecessary reputation from them</li>\n",
      "<li>Own downvotes on spam/evil posts that get permanently deleted</li>\n",
      "<li>Own suggested edits from anonymous users</li>\n",
      "<li><a href=\"http://meta.stackexchange.com/a/92006\">Remove abandoned questions</a></li>\n",
      "</ul>\n",
      "\n",
      "8: 649\n",
      "9: 304659\n",
      "10: 1072783\n",
      "11: -1\n",
      "\n",
      "Votes\n",
      "0: Id\n",
      "1: PostId\n",
      "2: VoteTypeId\n",
      "3: CreationDate\n",
      "\n",
      "0: 1\n",
      "1: 1\n",
      "2: 2\n",
      "3: 2008-07-31T00:00:00.000\n",
      "\n"
     ]
    }
   ],
   "source": [
    "# refiew structure of all files\n",
    "# takes a second\n",
    "for filename in all_files:\n",
    "    print(filename)\n",
    "    temp_bag = make_xml_bag(filename)\n",
    "    summary_bag(temp_bag)"
   ]
  },
  {
   "cell_type": "markdown",
   "metadata": {},
   "source": [
    "# Some real stuff"
   ]
  },
  {
   "cell_type": "markdown",
   "metadata": {},
   "source": [
    "## Tags"
   ]
  },
  {
   "cell_type": "code",
   "execution_count": 7,
   "metadata": {},
   "outputs": [],
   "source": [
    "# read tags bag, select rows only\n",
    "tags_bag = db.read_text(tags+\".tar.xz\", compression=\"xz\").str.strip()\n",
    "tags_bag = tags_bag.filter(lambda x: x.find(\"row\") >= 0)"
   ]
  },
  {
   "cell_type": "markdown",
   "metadata": {},
   "source": [
    "### Simple tests [Polygon]"
   ]
  },
  {
   "cell_type": "code",
   "execution_count": 8,
   "metadata": {},
   "outputs": [
    {
     "name": "stdout",
     "output_type": "stream",
     "text": [
      "<row Id=\"1\" TagName=\".net\" Count=\"276857\" ExcerptPostId=\"3624959\" WikiPostId=\"3607476\" />\n",
      "(1, '.net', 276857, 3624959, 3607476)\n",
      "<row Id=\"2\" TagName=\"html\" Count=\"789778\" ExcerptPostId=\"3673183\" WikiPostId=\"3673182\" />\n",
      "(2, 'html', 789778, 3673183, 3673182)\n",
      "<row Id=\"3\" TagName=\"javascript\" Count=\"1723731\" ExcerptPostId=\"3624960\" WikiPostId=\"3607052\" />\n",
      "(3, 'javascript', 1723731, 3624960, 3607052)\n",
      "<row Id=\"4\" TagName=\"css\" Count=\"563816\" ExcerptPostId=\"3644670\" WikiPostId=\"3644669\" />\n",
      "(4, 'css', 563816, 3644670, 3644669)\n"
     ]
    }
   ],
   "source": [
    "for row in tags_bag.take(4):\n",
    "    print(row);\n",
    "    print(xml_row_to_tuple(row))\n",
    "    #soup = BeautifulSoup(row, \"xml\")\n",
    "    #print(soup.row['Id'], soup.row['TagName'], soup.row['Count'])"
   ]
  },
  {
   "cell_type": "code",
   "execution_count": null,
   "metadata": {},
   "outputs": [],
   "source": [
    "test = tags_bag.map(xml_row_to_tuple).take(1)\n",
    "test[0]"
   ]
  },
  {
   "cell_type": "code",
   "execution_count": 10,
   "metadata": {},
   "outputs": [
    {
     "data": {
      "text/plain": [
       "('Id', 'TagName', 'Count', 'ExcerptPostId', 'WikiPostId')"
      ]
     },
     "execution_count": 10,
     "metadata": {},
     "output_type": "execute_result"
    }
   ],
   "source": [
    "header = tags_bag.map(xml_headers_to_tuple).take(1)[0]\n",
    "header"
   ]
  },
  {
   "cell_type": "code",
   "execution_count": 11,
   "metadata": {},
   "outputs": [
    {
     "name": "stdout",
     "output_type": "stream",
     "text": [
      "<class 'dask.bag.core.Bag'>\n",
      "<class 'list'>\n"
     ]
    }
   ],
   "source": [
    "print(type(tags_bag))\n",
    "print(type(test))\n",
    "#tags_bag.map(xml_row_to_tuple).take(1)"
   ]
  },
  {
   "cell_type": "code",
   "execution_count": 12,
   "metadata": {},
   "outputs": [
    {
     "name": "stdout",
     "output_type": "stream",
     "text": [
      "5 3\n"
     ]
    },
    {
     "data": {
      "text/plain": [
       "False"
      ]
     },
     "execution_count": 12,
     "metadata": {},
     "output_type": "execute_result"
    }
   ],
   "source": [
    "# takes a while\n",
    "check_bag(tags_bag)"
   ]
  },
  {
   "cell_type": "code",
   "execution_count": 13,
   "metadata": {},
   "outputs": [
    {
     "data": {
      "text/plain": [
       "14218"
      ]
     },
     "execution_count": 13,
     "metadata": {},
     "output_type": "execute_result"
    }
   ],
   "source": [
    "tags_bag.map(xml_row_to_tuple).filter(lambda x: len(x)<5).count().compute()"
   ]
  },
  {
   "cell_type": "code",
   "execution_count": 14,
   "metadata": {},
   "outputs": [
    {
     "data": {
      "text/plain": [
       "[('Id', 'TagName', 'Count')]"
      ]
     },
     "execution_count": 14,
     "metadata": {},
     "output_type": "execute_result"
    }
   ],
   "source": [
    "tags_bag.map(xml_headers_to_tuple).filter(lambda x: len(x)==3).distinct().compute()\n",
    "#tags_bag.count().compute()\n",
    "#\n",
    "# 14k / 55k has only 3/5 tags (two last missing), need to be dropped\n",
    "#"
   ]
  },
  {
   "cell_type": "code",
   "execution_count": 22,
   "metadata": {},
   "outputs": [
    {
     "data": {
      "text/plain": [
       "[('Id', 'TagName', 'Count', 'ExcerptPostId', 'WikiPostId'),\n",
       " ('Id', 'TagName', 'Count')]"
      ]
     },
     "execution_count": 22,
     "metadata": {},
     "output_type": "execute_result"
    }
   ],
   "source": [
    "%%time\n",
    "dt = tags_bag.map(xml_headers_to_tuple).distinct().compute()\n",
    "print(dt)"
   ]
  },
  {
   "cell_type": "code",
   "execution_count": 35,
   "metadata": {},
   "outputs": [
    {
     "name": "stdout",
     "output_type": "stream",
     "text": [
      "('Id', 'TagName', 'Count')\n",
      "CPU times: user 23.6 ms, sys: 27.4 ms, total: 51 ms\n",
      "Wall time: 8.06 s\n"
     ]
    }
   ],
   "source": [
    "%%time\n",
    "if len(dt) > 1:\n",
    "    header = shortest_valid_header(dt)\n",
    "    print(header)"
   ]
  },
  {
   "cell_type": "markdown",
   "metadata": {},
   "source": [
    "## Badges"
   ]
  },
  {
   "cell_type": "code",
   "execution_count": 42,
   "metadata": {},
   "outputs": [],
   "source": [
    "badges_bag = make_xml_bag(badges)"
   ]
  },
  {
   "cell_type": "code",
   "execution_count": 44,
   "metadata": {},
   "outputs": [
    {
     "data": {
      "text/plain": [
       "[('Id', 'UserId', 'Name', 'Date', 'Class', 'TagBased')]"
      ]
     },
     "execution_count": 44,
     "metadata": {},
     "output_type": "execute_result"
    }
   ],
   "source": [
    "dba = badges_bag.map(xml_headers_to_tuple).distinct().compute()\n",
    "dba"
   ]
  },
  {
   "cell_type": "code",
   "execution_count": 45,
   "metadata": {},
   "outputs": [
    {
     "name": "stdout",
     "output_type": "stream",
     "text": [
      "('Id', 'UserId', 'Name', 'Date', 'Class', 'TagBased')\n",
      "CPU times: user 2.16 s, sys: 833 ms, total: 2.99 s\n",
      "Wall time: 1h 15min 40s\n"
     ]
    }
   ],
   "source": [
    "%%time\n",
    "## only one distinct header, do not need to compute this\n",
    "if len(dba) > 1:\n",
    "    b_header = find_valid_header(dba)\n",
    "    print(b_header)"
   ]
  },
  {
   "cell_type": "markdown",
   "metadata": {},
   "source": [
    "## Comments"
   ]
  },
  {
   "cell_type": "code",
   "execution_count": null,
   "metadata": {},
   "outputs": [],
   "source": [
    "comments_bag = make_xml_bag(comments)"
   ]
  },
  {
   "cell_type": "code",
   "execution_count": null,
   "metadata": {},
   "outputs": [],
   "source": [
    "%%time\n",
    "dcb = comments_bag.map(xml_headers_to_tuple).distinct().compute()\n",
    "print(dcb)"
   ]
  },
  {
   "cell_type": "code",
   "execution_count": null,
   "metadata": {},
   "outputs": [],
   "source": [
    "%%time\n",
    "## only one distinct header, do not need to compute this\n",
    "if len(dcb) > 1:\n",
    "    b_header = find_valid_header(dcb)\n",
    "    print(b_header)"
   ]
  },
  {
   "cell_type": "markdown",
   "metadata": {},
   "source": [
    "## Post Links"
   ]
  },
  {
   "cell_type": "code",
   "execution_count": null,
   "metadata": {},
   "outputs": [],
   "source": [
    "postlinks_bag = make_xml_bag(postlinks)"
   ]
  },
  {
   "cell_type": "code",
   "execution_count": null,
   "metadata": {},
   "outputs": [],
   "source": [
    "%%time\n",
    "dplb = dostlinks_bag.map(xml_headers_to_tuple).distinct().compute()\n",
    "print(dplb)"
   ]
  },
  {
   "cell_type": "code",
   "execution_count": null,
   "metadata": {},
   "outputs": [],
   "source": [
    "%%time\n",
    "## only one distinct header, do not need to compute this\n",
    "if len(dplb) > 1:\n",
    "    b_header = find_valid_header(dplb)\n",
    "    print(b_header)"
   ]
  },
  {
   "cell_type": "markdown",
   "metadata": {},
   "source": [
    "## Users"
   ]
  },
  {
   "cell_type": "code",
   "execution_count": null,
   "metadata": {},
   "outputs": [],
   "source": [
    "users_bag = make_xml_bag(users)"
   ]
  },
  {
   "cell_type": "code",
   "execution_count": null,
   "metadata": {},
   "outputs": [],
   "source": [
    "%%time\n",
    "dub = users_bag.map(xml_headers_to_tuple).distinct().compute()\n",
    "print(dub)"
   ]
  },
  {
   "cell_type": "code",
   "execution_count": null,
   "metadata": {},
   "outputs": [],
   "source": [
    "%%time\n",
    "## only one distinct header, do not need to compute this\n",
    "if len(dub) > 1:\n",
    "    b_header = find_valid_header(dub)\n",
    "    print(b_header)"
   ]
  },
  {
   "cell_type": "markdown",
   "metadata": {},
   "source": [
    "## Votes"
   ]
  },
  {
   "cell_type": "code",
   "execution_count": 48,
   "metadata": {},
   "outputs": [],
   "source": [
    "votes_bag = make_xml_bag(votes)"
   ]
  },
  {
   "cell_type": "code",
   "execution_count": null,
   "metadata": {},
   "outputs": [],
   "source": [
    "%%time\n",
    "dv = votes_bag.map(xml_headers_to_tuple).distinct().compute()\n",
    "print(dv)"
   ]
  },
  {
   "cell_type": "code",
   "execution_count": null,
   "metadata": {},
   "outputs": [],
   "source": [
    "%%time\n",
    "## only one distinct header, do not need to compute this\n",
    "if len(dv) > 1:\n",
    "    b_header = find_valid_header(dv)\n",
    "    print(b_header)"
   ]
  },
  {
   "cell_type": "markdown",
   "metadata": {},
   "source": [
    "## Posts History\n",
    "seems that data are too big and too complicated to process them right now"
   ]
  },
  {
   "cell_type": "markdown",
   "metadata": {},
   "source": [
    "## Posts and Answers "
   ]
  },
  {
   "cell_type": "code",
   "execution_count": 15,
   "metadata": {},
   "outputs": [
    {
     "data": {
      "text/plain": [
       "42850538"
      ]
     },
     "execution_count": 15,
     "metadata": {},
     "output_type": "execute_result"
    }
   ],
   "source": [
    "## split posts to posts and answers\n",
    "# takes a while\n",
    "# quite a long ...\n",
    "# man im gonna take a shower\n",
    "%%time\n",
    "both_bag = db.read_text(posts+\".tar.xz\", compression=\"xz\").str.strip()\n",
    "both_bag = both_bag.filter(lambda x: x.find('row') >=0 )\n",
    "totc = both_bag.count().compute()\n",
    "totc # total count"
   ]
  },
  {
   "cell_type": "code",
   "execution_count": 16,
   "metadata": {},
   "outputs": [
    {
     "data": {
      "text/plain": [
       "25908201"
      ]
     },
     "execution_count": 16,
     "metadata": {},
     "output_type": "execute_result"
    }
   ],
   "source": [
    "%%time\n",
    "answers_bag = both_bag.filter(lambda x: x.find(\"PostTypeId=\\\"2\\\"\") >= 0)\n",
    "#answers_bag.map(xml_row_to_tuple).take(1)\n",
    "ansc = answers_bag.count().compute()\n",
    "ansc # answers count"
   ]
  },
  {
   "cell_type": "code",
   "execution_count": 17,
   "metadata": {},
   "outputs": [
    {
     "data": {
      "text/plain": [
       "16845942"
      ]
     },
     "execution_count": 17,
     "metadata": {},
     "output_type": "execute_result"
    }
   ],
   "source": [
    "%%time\n",
    "posts_bag = both_bag.filter(lambda x: x.find(\"PostTypeId=\\\"1\\\"\") >= 0)\n",
    "#posts_bag.map(xml_row_to_tuple).take(1)\n",
    "posc = posts_bag.count().compute()\n",
    "posc # posts count"
   ]
  },
  {
   "cell_type": "code",
   "execution_count": 18,
   "metadata": {},
   "outputs": [
    {
     "data": {
      "text/plain": [
       "96395"
      ]
     },
     "execution_count": 18,
     "metadata": {},
     "output_type": "execute_result"
    }
   ],
   "source": [
    "missing = totc - ansc - posc # how many missing\n",
    "missing"
   ]
  },
  {
   "cell_type": "code",
   "execution_count": 23,
   "metadata": {},
   "outputs": [
    {
     "data": {
      "text/plain": [
       "96395"
      ]
     },
     "execution_count": 23,
     "metadata": {},
     "output_type": "execute_result"
    }
   ],
   "source": [
    "# try to find missing vol 2 works\n",
    "both_bag.filter(lambda x: x.find(\"PostTypeId=\\\"1\\\"\") < 0 and x.find(\"PostTypeId=\\\"2\\\"\") < 0).count().compute()"
   ]
  },
  {
   "cell_type": "code",
   "execution_count": 28,
   "metadata": {},
   "outputs": [
    {
     "data": {
      "text/plain": [
       "('<row Id=\"3606997\" PostTypeId=\"5\" CreationDate=\"2010-07-22T13:36:17.203\" Score=\"0\" Body=\"&lt;h2&gt;What is C++?&lt;/h2&gt;&#xA;&#xA;&lt;p&gt;C++ is a &lt;a href=&quot;https://en.wikipedia.org/wiki/Type_system#Static_typing&quot; rel=&quot;nofollow noreferrer&quot;&gt;statically-typed&lt;/a&gt;, free-form, (usually) compiled, multi-paradigm, intermediate-level general-purpose programming language; not to be confused with &lt;a href=&quot;https://stackoverflow.com/tags/c/info&quot;&gt;C&lt;/a&gt; or &lt;a href=&quot;https://stackoverflow.com/tags/c%2b%2b-cli/info&quot;&gt;C++/CLI&lt;/a&gt;. It was developed in the early 1980s by &lt;a href=&quot;https://www.stroustrup.com/&quot; rel=&quot;nofollow noreferrer&quot;&gt;Bjarne Stroustrup&lt;/a&gt;, initially as a set of extensions to the C programming language. Building on C, &lt;a href=&quot;https://en.wikipedia.org/wiki/C++&quot; rel=&quot;nofollow noreferrer&quot;&gt;C++&lt;/a&gt; improved &lt;a href=&quot;https://en.wikipedia.org/wiki/Type_safety&quot; rel=&quot;nofollow noreferrer&quot;&gt;type-safety&lt;/a&gt; and added support for automatic resource management, object-orientation, generic programming, and exception handling, among other features.&lt;/p&gt;&#xA;&#xA;&lt;hr&gt;&#xA;&#xA;&lt;h2&gt;New to C++?&lt;/h2&gt;&#xA;&#xA;&lt;p&gt;Whether you are new to programming or coming to C++ from another programming language, it is highly recommended to have a good book from which to learn the language. We keep a detailed &lt;a href=&quot;https://stackoverflow.com/a/388282&quot;&gt;list of books&lt;/a&gt;.&lt;/p&gt;&#xA;&#xA;&lt;p&gt;If you are looking for good compilers, &lt;a href=&quot;http://gcc.gnu.org/&quot; rel=&quot;nofollow noreferrer&quot;&gt;GCC&lt;/a&gt; is the most commonly used compiler on Linux and other Unix-like platforms; &lt;a href=&quot;http://clang.llvm.org/&quot; rel=&quot;nofollow noreferrer&quot;&gt;Clang&lt;/a&gt; is the official compiler on Mac and FreeBSD; Microsoft &lt;a href=&quot;https://www.visualstudio.com/products/visual-studio-community-vs&quot; rel=&quot;nofollow noreferrer&quot;&gt;Visual C++&lt;/a&gt; is the most commonly used on Windows. The Intel compiler is also commonly used for its optimized numerical computations on Windows, Linux, and Mac.&lt;/p&gt;&#xA;&#xA;&lt;p&gt;Turbo-C++ 3.0 is from 1991, extremely outdated, and definitely not recommended. See the previous paragraph for free choices from this millennium.&lt;/p&gt;&#xA;&#xA;&lt;p&gt;&lt;a href=&quot;https://chat.stackoverflow.com/rooms/10/&quot;&gt;Join us in chat&lt;/a&gt;, where we discuss C++, programming in general, and even other stuff when the sun goes down and boredom creeps in. Don\\'t forget your sense of humor, but keep it civilized.&lt;/p&gt;&#xA;&#xA;&lt;hr&gt;&#xA;&#xA;&lt;h2&gt;&lt;a href=&quot;/questions/tagged/c%2b%2b&quot; class=&quot;post-tag&quot; title=&quot;show questions tagged &amp;#39;c++&amp;#39;&quot; rel=&quot;tag&quot;&gt;c++&lt;/a&gt; Tag usage&lt;/h2&gt;&#xA;&#xA;&lt;p&gt;When posting questions about C++ programming, please make sure to&#xA;include:  &lt;/p&gt;&#xA;&#xA;&lt;ul&gt;&#xA;&lt;li&gt;Target system and compiler information. This includes the compiler name, version and settings used to compile.&lt;/li&gt;&#xA;&lt;li&gt;If your question is specific to one particular version of the the language, add  &lt;a href=&quot;/questions/tagged/c%2b%2b98&quot; class=&quot;post-tag&quot; title=&quot;show questions tagged &amp;#39;c++98&amp;#39;&quot; rel=&quot;tag&quot;&gt;c++98&lt;/a&gt; &lt;a href=&quot;/questions/tagged/c%2b%2b03&quot; class=&quot;post-tag&quot; title=&quot;show questions tagged &amp;#39;c++03&amp;#39;&quot; rel=&quot;tag&quot;&gt;c++03&lt;/a&gt; &lt;a href=&quot;/questions/tagged/c%2b%2b11&quot; class=&quot;post-tag&quot; title=&quot;show questions tagged &amp;#39;c++11&amp;#39;&quot; rel=&quot;tag&quot;&gt;c++11&lt;/a&gt; &lt;a href=&quot;/questions/tagged/c%2b%2b14&quot; class=&quot;post-tag&quot; title=&quot;show questions tagged &amp;#39;c++14&amp;#39;&quot; rel=&quot;tag&quot;&gt;c++14&lt;/a&gt; &lt;a href=&quot;/questions/tagged/c%2b%2b17&quot; class=&quot;post-tag&quot; title=&quot;show questions tagged &amp;#39;c++17&amp;#39;&quot; rel=&quot;tag&quot;&gt;c++17&lt;/a&gt; or &lt;a href=&quot;/questions/tagged/c%2b%2b20&quot; class=&quot;post-tag&quot; title=&quot;show questions tagged &amp;#39;c++20&amp;#39;&quot; rel=&quot;tag&quot;&gt;c++20&lt;/a&gt;. Questions about boost should add the tag &lt;a href=&quot;/questions/tagged/boost&quot; class=&quot;post-tag&quot; title=&quot;show questions tagged &amp;#39;boost&amp;#39;&quot; rel=&quot;tag&quot;&gt;boost&lt;/a&gt;. Details about the different versions can be found further below in this wiki.&lt;/li&gt;&#xA;&lt;li&gt;Unless the question explicitly mentions which version of the C++ standard that is used, it is assumed that the current version is used. That is, whichever version of ISO 14882 that ISO currently lists as active. Please have this in mind when answering or commenting on questions tagged &lt;a href=&quot;/questions/tagged/c%2b%2b&quot; class=&quot;post-tag&quot; title=&quot;show questions tagged &amp;#39;c++&amp;#39;&quot; rel=&quot;tag&quot;&gt;c++&lt;/a&gt;.&lt;/li&gt;&#xA;&lt;/ul&gt;&#xA;&#xA;&lt;h3&gt;Using &lt;a href=&quot;/questions/tagged/c&quot; class=&quot;post-tag&quot; title=&quot;show questions tagged &amp;#39;c&amp;#39;&quot; rel=&quot;tag&quot;&gt;c&lt;/a&gt; and &lt;a href=&quot;/questions/tagged/c%2b%2b&quot; class=&quot;post-tag&quot; title=&quot;show questions tagged &amp;#39;c++&amp;#39;&quot; rel=&quot;tag&quot;&gt;c++&lt;/a&gt; together&lt;/h3&gt;&#xA;&#xA;&lt;p&gt;C and C++ are two distinct and often incompatible languages. Avoid&#xA;using both tags in the same question unless you have good reasons.&lt;/p&gt;&#xA;&#xA;&lt;p&gt;A question should be tagged with &lt;a href=&quot;/questions/tagged/c&quot; class=&quot;post-tag&quot; title=&quot;show questions tagged &amp;#39;c&amp;#39;&quot; rel=&quot;tag&quot;&gt;c&lt;/a&gt; only, if:&lt;/p&gt;&#xA;&#xA;&lt;ul&gt;&#xA;&lt;li&gt;It contains pure C, with no trace of C++, or questions with code that could be either language.&lt;/li&gt;&#xA;&lt;li&gt;The code is compiled with a C compiler.&lt;/li&gt;&#xA;&lt;/ul&gt;&#xA;&#xA;&lt;p&gt;A question should be tagged with &lt;a href=&quot;/questions/tagged/c%2b%2b&quot; class=&quot;post-tag&quot; title=&quot;show questions tagged &amp;#39;c++&amp;#39;&quot; rel=&quot;tag&quot;&gt;c++&lt;/a&gt; only, if:&lt;/p&gt;&#xA;&#xA;&lt;ul&gt;&#xA;&lt;li&gt;It contains code with &lt;em&gt;any&lt;/em&gt; C++ features. Even though the code may be &quot;C style&quot;.&lt;/li&gt;&#xA;&lt;li&gt;The code is compiled with a C++ compiler.&lt;/li&gt;&#xA;&lt;/ul&gt;&#xA;&#xA;&lt;p&gt;A question should be tagged with both &lt;a href=&quot;/questions/tagged/c&quot; class=&quot;post-tag&quot; title=&quot;show questions tagged &amp;#39;c&amp;#39;&quot; rel=&quot;tag&quot;&gt;c&lt;/a&gt; and &lt;a href=&quot;/questions/tagged/c%2b%2b&quot; class=&quot;post-tag&quot; title=&quot;show questions tagged &amp;#39;c++&amp;#39;&quot; rel=&quot;tag&quot;&gt;c++&lt;/a&gt; if it is about:&lt;/p&gt;&#xA;&#xA;&lt;ul&gt;&#xA;&lt;li&gt;Specific differences between C and C++.&lt;/li&gt;&#xA;&lt;li&gt;Compatibility or porting code between C and C++.&lt;/li&gt;&#xA;&lt;li&gt;C++ code that uses C libraries (for example code using &lt;code&gt;extern &quot;C&quot;&lt;/code&gt;). &lt;/li&gt;&#xA;&lt;/ul&gt;&#xA;&#xA;&lt;h3&gt;Editing and moderation guidelines for posts with both &lt;a href=&quot;/questions/tagged/c&quot; class=&quot;post-tag&quot; title=&quot;show questions tagged &amp;#39;c&amp;#39;&quot; rel=&quot;tag&quot;&gt;c&lt;/a&gt; and &lt;a href=&quot;/questions/tagged/c%2b%2b&quot; class=&quot;post-tag&quot; title=&quot;show questions tagged &amp;#39;c++&amp;#39;&quot; rel=&quot;tag&quot;&gt;c++&lt;/a&gt; tags:&lt;/h3&gt;&#xA;&#xA;&lt;p&gt;To edit/re-tag/moderate questions with both tags, it is recommended that you have full edit privileges and either a gold &lt;a href=&quot;/questions/tagged/c&quot; class=&quot;post-tag&quot; title=&quot;show questions tagged &amp;#39;c&amp;#39;&quot; rel=&quot;tag&quot;&gt;c&lt;/a&gt; or a gold &lt;a href=&quot;/questions/tagged/c%2b%2b&quot; class=&quot;post-tag&quot; title=&quot;show questions tagged &amp;#39;c++&amp;#39;&quot; rel=&quot;tag&quot;&gt;c++&lt;/a&gt; badge.  &lt;/p&gt;&#xA;&#xA;&lt;p&gt;If you encounter a post with both tags, edit/re-tag it if needed according to the above rules. If you can tell the language by reading the posted code, simply edit tags accordingly. Avoid prompting the user &quot;is it C or C++?&quot; in comments unless the question is truly unclear.&lt;/p&gt;&#xA;&#xA;&lt;p&gt;One example of an unclear question is when the user explicitly claims that they are programming in C, but posts code or compiler messages for C++. If so, prompt for clarification and close-vote as unclear.  &lt;/p&gt;&#xA;&#xA;&lt;p&gt;&quot;Either C or C++ is fine&quot; opinions from the OP is a strong indication of a poor or unclear question. Answers may be very different depending on language picked. Prompt for clarification, close as unclear/too broad until the OP has clarified this. &lt;/p&gt;&#xA;&#xA;&lt;p&gt;Be careful about re-tagging questions once there are answers posted, particularly if there are already both C and C++ answers posted. In such cases, the tags should be left alone, since changing them would make posted answers invalid.&lt;/p&gt;&#xA;&#xA;&lt;p&gt;Answers with C++ code to a C question that has never been tagged &lt;a href=&quot;/questions/tagged/c%2b%2b&quot; class=&quot;post-tag&quot; title=&quot;show questions tagged &amp;#39;c++&amp;#39;&quot; rel=&quot;tag&quot;&gt;c++&lt;/a&gt;  should be deleted as off-topic. Please check question edit history before flagging/deleting such answers, to verify that the question never had the C++ tag.&lt;/p&gt;&#xA;&#xA;&lt;hr&gt;&#xA;&#xA;&lt;h3&gt;&lt;a href=&quot;https://stackoverflow.com/tags/c%2b%2b11/info&quot;&gt;C++11&lt;/a&gt;&lt;/h3&gt;&#xA;&#xA;&lt;p&gt;The language standard remained pretty much the same for a long time, but in 2011 a new standard, C++11 (formerly known as C++0x) was published in &lt;a href=&quot;http://www.iso.org/iso/iso_catalogue/catalogue_tc/catalogue_detail.htm?csnumber=50372&quot; rel=&quot;nofollow noreferrer&quot;&gt;ISO/IEC 14882:2011&lt;/a&gt;. Rather than in a &quot;big bang&quot; approach, it is being rolled out gradually as compilers are supporting the new language features. See &lt;a href=&quot;http://www.stroustrup.com/C++11FAQ.html&quot; rel=&quot;nofollow noreferrer&quot;&gt;Bjarne Stroustrup\\'s C++11 FAQ&lt;/a&gt; to see what is new in the language, and check your own compiler\\'s FAQ to see which of those features are currently supported:&lt;/p&gt;&#xA;&#xA;&lt;ul&gt;&#xA;&lt;li&gt;&lt;a href=&quot;https://gcc.gnu.org/projects/cxx-status.html#cxx11&quot; rel=&quot;nofollow noreferrer&quot;&gt;GCC language support&lt;/a&gt; and &lt;a href=&quot;https://gcc.gnu.org/onlinedocs/libstdc++/manual/status.html#status.iso.200x&quot; rel=&quot;nofollow noreferrer&quot;&gt;libstdc++ library support&lt;/a&gt;&lt;/li&gt;&#xA;&lt;li&gt;&lt;a href=&quot;http://clang.llvm.org/cxx_status.html#cxx11&quot; rel=&quot;nofollow noreferrer&quot;&gt;Clang language support&lt;/a&gt; and &lt;a href=&quot;https://llvm.org/viewvc/llvm-project/libcxx/trunk/www/libcxx_by_chapter.pdf?view=log&amp;amp;pathrev=153194&quot; rel=&quot;nofollow noreferrer&quot;&gt;libc++ library support&lt;/a&gt;&lt;/li&gt;&#xA;&lt;li&gt;&lt;a href=&quot;http://msdn.microsoft.com/en-us/library/vstudio/hh567368.aspx&quot; rel=&quot;nofollow noreferrer&quot;&gt;Microsoft Visual C++ language and library support&lt;/a&gt;&lt;/li&gt;&#xA;&lt;li&gt;&lt;a href=&quot;http://software.intel.com/en-us/articles/c0x-features-supported-by-intel-c-compiler&quot; rel=&quot;nofollow noreferrer&quot;&gt;Intel language support&lt;/a&gt;&lt;/li&gt;&#xA;&lt;/ul&gt;&#xA;&#xA;&lt;p&gt;A few features that had been under discussion for C++11 have been deferred to the next iteration.&lt;/p&gt;&#xA;&#xA;&lt;hr&gt;&#xA;&#xA;&lt;h3&gt;&lt;a href=&quot;https://stackoverflow.com/tags/c%2b%2b14/info&quot;&gt;C++14&lt;/a&gt;&lt;/h3&gt;&#xA;&#xA;&lt;p&gt;C++14 is a small extension to C++11. It was approved in August 2014 and released in December of the same year. Previously referred to as C++1y as the year of approval was uncertain. Many popular compilers already have some level of C++14 support.&lt;/p&gt;&#xA;&#xA;&lt;ul&gt;&#xA;&lt;li&gt;&lt;a href=&quot;https://gcc.gnu.org/projects/cxx-status.html#cxx14&quot; rel=&quot;nofollow noreferrer&quot;&gt;GCC C++14 language support&lt;/a&gt;&lt;/li&gt;&#xA;&lt;li&gt;&lt;a href=&quot;http://clang.llvm.org/cxx_status.html#cxx14&quot; rel=&quot;nofollow noreferrer&quot;&gt;Clang C++14 language support&lt;/a&gt;&lt;/li&gt;&#xA;&lt;li&gt;&lt;a href=&quot;http://software.intel.com/en-us/articles/c14-features-supported-by-intel-c-compiler&quot; rel=&quot;nofollow noreferrer&quot;&gt;Intel C++14 language support&lt;/a&gt;&lt;/li&gt;&#xA;&lt;li&gt;&lt;a href=&quot;http://blogs.msdn.com/b/vcblog/archive/2015/06/19/c-11-14-17-features-in-vs-2015-rtm.aspx&quot; rel=&quot;nofollow noreferrer&quot;&gt;Microsoft Visual C++ C++14 language support&lt;/a&gt;&lt;/li&gt;&#xA;&lt;/ul&gt;&#xA;&#xA;&lt;hr&gt;&#xA;&#xA;&lt;h3&gt;&lt;a href=&quot;https://stackoverflow.com/tags/c%2b%2b1z/info&quot;&gt;C++17&lt;/a&gt;&lt;/h3&gt;&#xA;&#xA;&lt;p&gt;C++ 17 adds a few more major features (and several minor ones). It is usually referred to as C++1z or C++17, as technical work on the new standard was completed in March of 2017. The draft standard was approved (unanimously) by the &lt;a href=&quot;https://isocpp.org/&quot; rel=&quot;nofollow noreferrer&quot;&gt;ISO&lt;/a&gt; in September of 2017 and &lt;a href=&quot;https://www.iso.org/standard/68564.html&quot; rel=&quot;nofollow noreferrer&quot;&gt;officially published&lt;/a&gt; in December 2017.&lt;/p&gt;&#xA;&#xA;&lt;ul&gt;&#xA;&lt;li&gt;&lt;a href=&quot;https://gcc.gnu.org/projects/cxx-status.html#cxx1z&quot; rel=&quot;nofollow noreferrer&quot;&gt;GCC C++17 language support&lt;/a&gt;&lt;/li&gt;&#xA;&lt;li&gt;&lt;a href=&quot;https://blogs.msdn.microsoft.com/vcblog/2017/12/19/c17-progress-in-vs-2017-15-5-and-15-6/&quot; rel=&quot;nofollow noreferrer&quot;&gt;Microsoft Visual C++ C++17 language support&lt;/a&gt;&lt;/li&gt;&#xA;&lt;li&gt;&lt;a href=&quot;http://clang.llvm.org/cxx_status.html#cxx17&quot; rel=&quot;nofollow noreferrer&quot;&gt;Clang C++17 language support&lt;/a&gt;&lt;/li&gt;&#xA;&lt;/ul&gt;&#xA;&#xA;&lt;hr&gt;&#xA;&#xA;&lt;h2&gt;&lt;a href=&quot;https://stackoverflow.com/questions/tagged/c%2b%2b20&quot;&gt;C++20&lt;/a&gt;&lt;/h2&gt;&#xA;&#xA;&lt;p&gt;Work has begun on standard changes for C++2a or C++20 with an expected date of 2020 for the release of the standard.&lt;/p&gt;&#xA;&#xA;&lt;p&gt;The following (and more) new features have already been accepted into the C++20 draft:&lt;/p&gt;&#xA;&#xA;&lt;ul&gt;&#xA;&lt;li&gt;three-way comparison using the new operator &lt;code&gt;&amp;lt;=&amp;gt;&lt;/code&gt;&lt;/li&gt;&#xA;&lt;li&gt;designated initializers (based on the C99 feature with a few limitations)&lt;/li&gt;&#xA;&lt;li&gt;template parameter lists on lambda expressions&lt;/li&gt;&#xA;&lt;li&gt;additional variable with a range-based &lt;code&gt;for&lt;/code&gt; loop&lt;/li&gt;&#xA;&lt;li&gt;pack expansions in lambda &lt;em&gt;init-capture&lt;/em&gt;&lt;/li&gt;&#xA;&lt;/ul&gt;&#xA;&#xA;&lt;p&gt;A number of new features are currently being considered including:&lt;/p&gt;&#xA;&#xA;&lt;ul&gt;&#xA;&lt;li&gt;reflection&lt;/li&gt;&#xA;&lt;li&gt;modules&lt;/li&gt;&#xA;&lt;li&gt;concepts&lt;/li&gt;&#xA;&lt;li&gt;&lt;p&gt;improvements to Concurrency and adding coroutines&lt;/p&gt;&#xA;&#xA;&lt;p&gt;&lt;a href=&quot;https://gcc.gnu.org/projects/cxx-status.html#cxx2a&quot; rel=&quot;nofollow noreferrer&quot;&gt;GCC C++20 language support&lt;/a&gt; add command line parameter &lt;code&gt;-std=c++2a&lt;/code&gt;&lt;/p&gt;&#xA;&#xA;&lt;p&gt;&lt;a href=&quot;https://clang.llvm.org/cxx_status.html#cxx2a&quot; rel=&quot;nofollow noreferrer&quot;&gt;Clang C++20 language support&lt;/a&gt; add command line parameter &lt;code&gt;-std=c++2a&lt;/code&gt;&lt;/p&gt;&lt;/li&gt;&#xA;&lt;/ul&gt;&#xA;&#xA;&lt;hr&gt;&#xA;&#xA;&lt;h3&gt;Online compilers&lt;/h3&gt;&#xA;&#xA;&lt;p&gt;If you want to give C++ a spin, you can try one of the following online compiler services:&lt;/p&gt;&#xA;&#xA;&lt;ul&gt;&#xA;&lt;li&gt;&lt;a href=&quot;http://coliru.stacked-crooked.com/&quot; rel=&quot;nofollow noreferrer&quot;&gt;Coliru&lt;/a&gt; (GCC, Clang)&lt;/li&gt;&#xA;&lt;li&gt;&lt;a href=&quot;https://ideone.com/&quot; rel=&quot;nofollow noreferrer&quot;&gt;ideone.com&lt;/a&gt; (GCC, Clang)&lt;/li&gt;&#xA;&lt;li&gt;&lt;a href=&quot;http://codepad.org/&quot; rel=&quot;nofollow noreferrer&quot;&gt;codepad&lt;/a&gt; (GCC)&lt;/li&gt;&#xA;&lt;li&gt;&lt;a href=&quot;http://rextester.com/runcode&quot; rel=&quot;nofollow noreferrer&quot;&gt;rextester&lt;/a&gt; (GCC, Clang, Visual C++)&lt;/li&gt;&#xA;&lt;li&gt;&lt;a href=&quot;http://repl.it/languages/cpp11&quot; rel=&quot;nofollow noreferrer&quot;&gt;repl.it&lt;/a&gt; (GCC)&lt;/li&gt;&#xA;&lt;li&gt;&lt;a href=&quot;http://ellcc.org/demo/&quot; rel=&quot;nofollow noreferrer&quot;&gt;ELLCC&lt;/a&gt; (Clang)&lt;/li&gt;&#xA;&lt;li&gt;&lt;a href=&quot;http://www.tutorialspoint.com/compile_cpp_online.php&quot; rel=&quot;nofollow noreferrer&quot;&gt;CodingGround&lt;/a&gt; (GCC)&lt;/li&gt;&#xA;&lt;li&gt;&lt;a href=&quot;http://cpp.sh/&quot; rel=&quot;nofollow noreferrer&quot;&gt;C++Shell&lt;/a&gt; (GCC)&lt;/li&gt;&#xA;&lt;li&gt;&lt;a href=&quot;http://melpon.org/wandbox/&quot; rel=&quot;nofollow noreferrer&quot;&gt;Wandbox&lt;/a&gt; (GCC, Clang)&lt;/li&gt;&#xA;&lt;li&gt;&lt;a href=&quot;https://godbolt.org/&quot; rel=&quot;nofollow noreferrer&quot;&gt;Godbolt Explorer&lt;/a&gt; (GCC, Clang, ICC, Visual C++). Many versions of GCC/Clang for x86, and also for some non-x86 architectures (ARM, ARM64, PPC, and AVR), as well as latest versions of Microsoft Visual C++.  Includes nicely formatted assembler output, even optionally color-highlighting source and assembler lines to help find which source line maps to which assembler line.&lt;/li&gt;&#xA;&lt;/ul&gt;&#xA;&#xA;&lt;hr&gt;&#xA;&#xA;&lt;hr&gt;&#xA;&#xA;&lt;h3&gt;Stack Overflow\\'s C++ &lt;a href=&quot;http://stackoverflow.com/questions/tagged/c%2b%2b-faq&quot;&gt;FAQ&lt;/a&gt;&lt;/h3&gt;&#xA;&#xA;&lt;ul&gt;&#xA;&lt;li&gt;&lt;a href=&quot;https://stackoverflow.com/questions/236129/splitting-a-string-in-c&quot;&gt;The most elegant way to iterate the words of a string&lt;/a&gt;&lt;/li&gt;&#xA;&lt;li&gt;&lt;a href=&quot;https://stackoverflow.com/questions/28002/regular-cast-vs-static-cast-vs-dynamic-cast&quot;&gt;Regular cast vs. static_cast vs. dynamic_cast&lt;/a&gt;&lt;/li&gt;&#xA;&lt;li&gt;&lt;a href=&quot;https://stackoverflow.com/questions/121162/what-does-the-explicit-keyword-in-c-mean&quot;&gt;What does the explicit keyword mean?&lt;/a&gt;&lt;/li&gt;&#xA;&lt;li&gt;&lt;a href=&quot;https://stackoverflow.com/questions/4172722/what-is-the-rule-of-three&quot;&gt;What is The Rule of Three?&lt;/a&gt;&lt;/li&gt;&#xA;&lt;li&gt;&lt;a href=&quot;https://stackoverflow.com/questions/57483/what-are-the-differences-between-pointer-variable-and-reference-variable-in-c&quot;&gt;What are the differences between a pointer variable and a reference variable in C++?&lt;/a&gt;&lt;/li&gt;&#xA;&lt;li&gt;&lt;a href=&quot;https://stackoverflow.com/questions/3279543/what-is-the-copy-and-swap-idiom&quot;&gt;What is the copy-and-swap idiom?&lt;/a&gt;&lt;/li&gt;&#xA;&lt;li&gt;&lt;a href=&quot;https://stackoverflow.com/questions/620137/do-the-parentheses-after-the-type-name-make-a-difference-with-new&quot;&gt;Do the parentheses after the type name make a difference with new?&lt;/a&gt;&lt;/li&gt;&#xA;&lt;li&gt;&lt;a href=&quot;https://stackoverflow.com/questions/6500313/why-should-new-be-used-as-little-as-possible&quot;&gt;Why should C++ programmers minimize use of &amp;#39;new&amp;#39;?&lt;/a&gt;&lt;/li&gt;&#xA;&lt;li&gt;&lt;a href=&quot;https://stackoverflow.com/questions/388242/the-definitive-c-book-guide-and-list&quot;&gt;The Definitive C++ Book Guide and List&lt;/a&gt;&lt;/li&gt;&#xA;&lt;li&gt;&lt;a href=&quot;https://stackoverflow.com/questions/81656/where-do-i-find-the-current-c-or-c-standard-documents&quot;&gt;Where do I find the current C or C++ standard documents?&lt;/a&gt;&lt;/li&gt;&#xA;&lt;li&gt;&lt;a href=&quot;https://stackoverflow.com/questions/2397984/undefined-unspecified-and-implementation-defined-behavior&quot;&gt;Undefined, unspecified and implementation-defined behavior&lt;/a&gt;&lt;/li&gt;&#xA;&lt;li&gt;&lt;a href=&quot;https://stackoverflow.com/questions/7961067/how-undefined-is-undefined-behavior&quot;&gt;How undefined is undefined behavior?&lt;/a&gt;&lt;/li&gt;&#xA;&lt;li&gt;&lt;a href=&quot;https://stackoverflow.com/questions/12573816/what-is-an-undefined-reference-unresolved-external-symbol-error-and-how-do-i-fix&quot;&gt;What is an undefined reference/unresolved external symbol error and how do I fix it?&lt;/a&gt;&lt;/li&gt;&#xA;&lt;li&gt;&lt;a href=&quot;https://stackoverflow.com/questions/33047452/definitive-list-of-common-reasons-for-segmentation-faults&quot;&gt;Definitive List of Common Reasons for Segmentation Faults&lt;/a&gt;&lt;/li&gt;&#xA;&lt;li&gt;&lt;a href=&quot;https://stackoverflow.com/questions/21567291/why-does-stdgetline-skip-input-after-a-formatted-extraction&quot;&gt;Why does std::getline() skip input after a formatted extraction?&lt;/a&gt;&lt;/li&gt;&#xA;&lt;li&gt;&lt;a href=&quot;https://stackoverflow.com/questions/5605125/why-is-iostreameof-inside-a-loop-condition-considered-wrong&quot;&gt;Why is iostream::eof inside a loop condition considered wrong?&lt;/a&gt;&lt;/li&gt;&#xA;&lt;li&gt;&lt;a href=&quot;https://stackoverflow.com/questions/1452721/why-is-using-namespace-std-considered-bad-practice&quot;&gt;Why is &amp;quot;using namespace std&amp;quot; considered bad practice?&lt;/a&gt;&lt;/li&gt;&#xA;&lt;/ul&gt;&#xA;&#xA;&lt;hr&gt;&#xA;&#xA;&lt;h3&gt;External FAQs&lt;/h3&gt;&#xA;&#xA;&lt;ul&gt;&#xA;&lt;li&gt;&lt;a href=&quot;http://isocpp.org/faq&quot; rel=&quot;nofollow noreferrer&quot;&gt;ISOCPP unified modern C++ FAQ&lt;/a&gt;&lt;/li&gt;&#xA;&lt;li&gt;&lt;a href=&quot;http://isocpp.org/faq&quot; rel=&quot;nofollow noreferrer&quot;&gt;C++ FAQ&lt;/a&gt;: formerly C++ FAQ Lite&lt;/li&gt;&#xA;&lt;li&gt;&lt;a href=&quot;http://womble.decadent.org.uk/c++/template-faq.html&quot; rel=&quot;nofollow noreferrer&quot;&gt;C++ Templates FAQ&lt;/a&gt;&lt;/li&gt;&#xA;&lt;li&gt;&lt;a href=&quot;http://www.stroustrup.com/bs_faq2.html&quot; rel=&quot;nofollow noreferrer&quot;&gt;Bjarne Stroustrup\\'s C++ Style and Technique FAQ&lt;/a&gt;&lt;/li&gt;&#xA;&lt;li&gt;&lt;a href=&quot;http://www.stroustrup.com/C++11FAQ.html&quot; rel=&quot;nofollow noreferrer&quot;&gt;Bjarne Stroustrup\\'s C++11 FAQ&lt;/a&gt;&lt;/li&gt;&#xA;&lt;/ul&gt;&#xA;&#xA;&lt;hr&gt;&#xA;&#xA;&lt;h3&gt;Other External Resources&lt;/h3&gt;&#xA;&#xA;&lt;ul&gt;&#xA;&lt;li&gt;&lt;a href=&quot;http://www.isocpp.org/&quot; rel=&quot;nofollow noreferrer&quot;&gt;ISO C++ website&lt;/a&gt;&lt;/li&gt;&#xA;&lt;li&gt;&lt;a href=&quot;http://en.cppreference.com/w/cpp&quot; rel=&quot;nofollow noreferrer&quot;&gt;C++ Reference&lt;/a&gt;&lt;/li&gt;&#xA;&lt;li&gt;&lt;a href=&quot;http://www.open-std.org/jtc1/sc22/wg21/docs/papers/&quot; rel=&quot;nofollow noreferrer&quot;&gt;ISO\\'s C++ Standards Committee\\'s Papers&lt;/a&gt;&lt;/li&gt;&#xA;&lt;li&gt;&lt;a href=&quot;https://github.com/isocpp/CppCoreGuidelines&quot; rel=&quot;nofollow noreferrer&quot;&gt;C++ Core Guidelines&lt;/a&gt;&lt;/li&gt;&#xA;&lt;li&gt;&lt;a href=&quot;http://www.cplusplus.com/&quot; rel=&quot;nofollow noreferrer&quot;&gt;cplusplus&lt;/a&gt;: reference, tutorials, and history&lt;/li&gt;&#xA;&lt;li&gt;&lt;a href=&quot;http://www.gotw.ca/gotw/&quot; rel=&quot;nofollow noreferrer&quot;&gt;Guru of the Week&lt;/a&gt;: article series on high-quality, exception-safe C++ code&lt;/li&gt;&#xA;&lt;li&gt;&lt;a href=&quot;http://herbsutter.com/gotw/&quot; rel=&quot;nofollow noreferrer&quot;&gt;Revised Guru of the Week (for C++1y)&lt;/a&gt;&lt;/li&gt;&#xA;&lt;li&gt;SGI\\'s &lt;a href=&quot;http://www.martinbroadhurst.com/stl/&quot; rel=&quot;nofollow noreferrer&quot;&gt;Standard Template Library Programmer\\'s Guide&lt;/a&gt;&lt;/li&gt;&#xA;&lt;li&gt;&lt;a href=&quot;http://en.wikibooks.org/wiki/More_C%2B%2B_Idioms&quot; rel=&quot;nofollow noreferrer&quot;&gt;More C++ Idioms&lt;/a&gt;&lt;/li&gt;&#xA;&lt;li&gt;&lt;p&gt;&lt;a href=&quot;http://www.boost.org/&quot; rel=&quot;nofollow noreferrer&quot;&gt;Boost C++ Libraries&lt;/a&gt; (&lt;a href=&quot;/questions/tagged/boost&quot; class=&quot;post-tag&quot; title=&quot;show questions tagged &amp;#39;boost&amp;#39;&quot; rel=&quot;tag&quot;&gt;boost&lt;/a&gt;)&lt;/p&gt;&lt;/li&gt;&#xA;&lt;li&gt;&lt;p&gt;Optimization resources for x86, including C++ intrinsics for vector instructions: &lt;a href=&quot;http://stackoverflow.com/tags/x86/info&quot;&gt;See the x86 tag wiki for links&lt;/a&gt;&lt;/p&gt;&lt;/li&gt;&#xA;&lt;li&gt;&lt;a href=&quot;http://agner.org/optimize/&quot; rel=&quot;nofollow noreferrer&quot;&gt;Agner Fog\\'s Optimization guide for C/C++&lt;/a&gt;&lt;/li&gt;&#xA;&lt;/ul&gt;&#xA;&#xA;&lt;hr&gt;&#xA;&#xA;&lt;h3&gt;Chat Rooms&lt;/h3&gt;&#xA;&#xA;&lt;ul&gt;&#xA;&lt;li&gt;&lt;a href=&quot;https://chat.stackoverflow.com/rooms/116940/c-questions-and-answers&quot;&gt;C++ Questions and Answers&lt;/a&gt;&lt;/li&gt;&#xA;&lt;li&gt;&lt;a href=&quot;http://chat.stackoverflow.com/rooms/10/loungec&quot;&gt;Lounge C++&lt;/a&gt;&lt;/li&gt;&#xA;&lt;/ul&gt;&#xA;\" OwnerUserId=\"168225\" LastEditorUserId=\"584518\" LastEditDate=\"2018-10-02T08:49:53.407\" LastActivityDate=\"2018-10-02T08:49:53.407\" CommentCount=\"0\" CommunityOwnedDate=\"2010-09-02T10:32:40.377\" />',)"
      ]
     },
     "execution_count": 28,
     "metadata": {},
     "output_type": "execute_result"
    }
   ],
   "source": [
    "# check whats wrong with data -> undefined types of posts\n",
    "both_bag.filter(lambda x: x.find(\"PostTypeId=\\\"1\\\"\") < 0 and x.find(\"PostTypeId=\\\"2\\\"\") < 0).take(1)"
   ]
  },
  {
   "cell_type": "code",
   "execution_count": 37,
   "metadata": {
    "scrolled": true
   },
   "outputs": [],
   "source": [
    "#%%time\n",
    "## check data structure across answers\n",
    "## dont run it, takes a while\n",
    "#da = answers_bag.map(xml_headers_to_tuple).distinct().compute()\n",
    "#da"
   ]
  },
  {
   "cell_type": "code",
   "execution_count": 36,
   "metadata": {},
   "outputs": [],
   "source": [
    "#%%time\n",
    "## check data structure across posts\n",
    "## dont run it, takes a while\n",
    "#dp = posts_bag.map(xml_headers_to_tuple).distinct().compute()\n",
    "#dp"
   ]
  }
 ],
 "metadata": {
  "kernelspec": {
   "display_name": "Python 3",
   "language": "python",
   "name": "python3"
  },
  "language_info": {
   "codemirror_mode": {
    "name": "ipython",
    "version": 3
   },
   "file_extension": ".py",
   "mimetype": "text/x-python",
   "name": "python",
   "nbconvert_exporter": "python",
   "pygments_lexer": "ipython3",
   "version": "3.6.7"
  },
  "latex_envs": {
   "LaTeX_envs_menu_present": true,
   "autoclose": false,
   "autocomplete": true,
   "bibliofile": "biblio.bib",
   "cite_by": "apalike",
   "current_citInitial": 1,
   "eqLabelWithNumbers": true,
   "eqNumInitial": 1,
   "hotkeys": {
    "equation": "Ctrl-E",
    "itemize": "Ctrl-I"
   },
   "labels_anchors": false,
   "latex_user_defs": false,
   "report_style_numbering": false,
   "user_envs_cfg": false
  }
 },
 "nbformat": 4,
 "nbformat_minor": 2
}
