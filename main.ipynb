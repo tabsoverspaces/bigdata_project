{
 "cells": [
  {
   "cell_type": "markdown",
   "metadata": {},
   "source": [
    "# Big Data - Project\n",
    "\n",
    "## TODO TOPIC\n",
    "\n",
    "### Dragan Postolovsky\n",
    "### Wojciech Taisner"
   ]
  },
  {
   "cell_type": "markdown",
   "metadata": {},
   "source": [
    "TODO\n",
    "\n",
    "A 1-page summary of litterature review on studies investigating stackoverflow data"
   ]
  },
  {
   "cell_type": "markdown",
   "metadata": {},
   "source": [
    "TODO\n",
    "\n",
    "An enumeration of \"interesting\" investigations directions for the 10-year dataset of stack overflow (from 09/2008 to 09/2018)"
   ]
  },
  {
   "cell_type": "markdown",
   "metadata": {},
   "source": [
    "### What were the questions?"
   ]
  },
  {
   "cell_type": "markdown",
   "metadata": {},
   "source": [
    "TODO\n",
    "\n",
    "A report with analysis results (including visualisation, and statistics) of the 10 years data. These results are the fruit of the investigations projected earlier"
   ]
  },
  {
   "cell_type": "code",
   "execution_count": 1,
   "metadata": {},
   "outputs": [
    {
     "data": {
      "text/plain": [
       "['Badges', 'Comments', 'PostLinks', 'Posts', 'Tags', 'Users', 'Votes']"
      ]
     },
     "execution_count": 1,
     "metadata": {},
     "output_type": "execute_result"
    }
   ],
   "source": [
    "#files\n",
    "base = \"stackoverflow.com-\"\n",
    "\n",
    "badges = \"Badges\"\n",
    "comments = \"Comments\"\n",
    "posthistory = \"PostHistory\"\n",
    "postlinks = \"PostLinks\"\n",
    "posts = \"Posts\"\n",
    "tags = \"Tags\"\n",
    "users = \"Users\"\n",
    "votes = \"Votes\"\n",
    "\n",
    "all_files = [badges, comments, postlinks, posts, tags, users, votes] # posthistory,\n",
    "all_files"
   ]
  },
  {
   "cell_type": "code",
   "execution_count": 2,
   "metadata": {},
   "outputs": [],
   "source": [
    "# import dask bag\n",
    "import dask.bag as db\n",
    "# import BeatuifulSoup\n",
    "from bs4 import BeautifulSoup\n",
    "\n",
    "# read tags bag, select rows only\n",
    "tags_bag = db.read_text(tags+\".tar.xz\", compression=\"xz\").str.strip()\n",
    "tags_bag = tags_bag.filter(lambda x: x.find(\"row\") >= 0)"
   ]
  },
  {
   "cell_type": "code",
   "execution_count": 3,
   "metadata": {},
   "outputs": [],
   "source": [
    "# non complex parsing (ex badges, tags, etc)\n",
    "def xml_row_to_tuple(row):\n",
    "    soup = BeautifulSoup(row, \"xml\")\n",
    "    ret = []\n",
    "    for a, v in soup.row.attrs.items():\n",
    "        if v.isdigit():\n",
    "            v = int(v) #integers take less memory :D\n",
    "        ret.append(v)\n",
    "    return tuple(ret);\n",
    "def xml_headers_to_tuple(row):\n",
    "    soup = BeautifulSoup(row, \"xml\")\n",
    "    ret = []\n",
    "    for a, v in soup.row.attrs.items():\n",
    "        ret.append(a)\n",
    "    return tuple(ret);"
   ]
  },
  {
   "cell_type": "code",
   "execution_count": 4,
   "metadata": {},
   "outputs": [
    {
     "name": "stdout",
     "output_type": "stream",
     "text": [
      "<row Id=\"1\" TagName=\".net\" Count=\"276857\" ExcerptPostId=\"3624959\" WikiPostId=\"3607476\" />\n",
      "(1, '.net', 276857, 3624959, 3607476)\n",
      "<row Id=\"2\" TagName=\"html\" Count=\"789778\" ExcerptPostId=\"3673183\" WikiPostId=\"3673182\" />\n",
      "(2, 'html', 789778, 3673183, 3673182)\n",
      "<row Id=\"3\" TagName=\"javascript\" Count=\"1723731\" ExcerptPostId=\"3624960\" WikiPostId=\"3607052\" />\n",
      "(3, 'javascript', 1723731, 3624960, 3607052)\n",
      "<row Id=\"4\" TagName=\"css\" Count=\"563816\" ExcerptPostId=\"3644670\" WikiPostId=\"3644669\" />\n",
      "(4, 'css', 563816, 3644670, 3644669)\n"
     ]
    }
   ],
   "source": [
    "for row in tags_bag.take(4):\n",
    "    print(row);\n",
    "    print(xml_row_to_tuple(row))\n",
    "    #soup = BeautifulSoup(row, \"xml\")\n",
    "    #print(soup.row['Id'], soup.row['TagName'], soup.row['Count'])"
   ]
  },
  {
   "cell_type": "code",
   "execution_count": 5,
   "metadata": {},
   "outputs": [
    {
     "data": {
      "text/plain": [
       "(1, '.net', 276857, 3624959, 3607476)"
      ]
     },
     "execution_count": 5,
     "metadata": {},
     "output_type": "execute_result"
    }
   ],
   "source": [
    "tags_bag.take(4) # return tuple\n",
    "test = tags_bag.map(xml_row_to_tuple).compute()\n",
    "test[0]\n",
    "#carefull, takes a while"
   ]
  },
  {
   "cell_type": "code",
   "execution_count": 6,
   "metadata": {},
   "outputs": [
    {
     "data": {
      "text/plain": [
       "('Id', 'TagName', 'Count', 'ExcerptPostId', 'WikiPostId')"
      ]
     },
     "execution_count": 6,
     "metadata": {},
     "output_type": "execute_result"
    }
   ],
   "source": [
    "header = tags_bag.map(xml_headers_to_tuple).take(1)[0]\n",
    "header"
   ]
  },
  {
   "cell_type": "code",
   "execution_count": 7,
   "metadata": {},
   "outputs": [
    {
     "name": "stdout",
     "output_type": "stream",
     "text": [
      "<class 'dask.bag.core.Bag'>\n",
      "<class 'list'>\n"
     ]
    }
   ],
   "source": [
    "print(type(tags_bag))\n",
    "print(type(test))\n",
    "#tags_bag.map(xml_row_to_tuple).take(1)"
   ]
  },
  {
   "cell_type": "code",
   "execution_count": 8,
   "metadata": {},
   "outputs": [
    {
     "name": "stdout",
     "output_type": "stream",
     "text": [
      "Badges\n",
      "('Id', 'UserId', 'Name', 'Date', 'Class', 'TagBased')\n",
      "[(82946, 3718, 'Teacher', '2008-09-15T08:55:03.923', 3, 'False'), (82947, 994, 'Teacher', '2008-09-15T08:55:03.957', 3, 'False'), (82949, 3893, 'Teacher', '2008-09-15T08:55:03.957', 3, 'False'), (82950, 4591, 'Teacher', '2008-09-15T08:55:03.957', 3, 'False')]\n",
      "Comments\n",
      "('Id', 'PostId', 'Score', 'Text', 'CreationDate', 'UserId')\n",
      "[(2, 35314, 8, \"Yeah, I didn't believe it until I created a console app - but good lord!  Why would they give you the rope to hang yourself!  I hated that about VB.NET - the OrElse and AndAlso keywords!\", '2008-09-06T08:09:52.330', 3), (4, 35195, 0, \"I don't see an accepted answer now, I wonder how that got unaccepted. Incidentally, I would have marked an accepted answer based on the answers available at the time. Also, accepted doesn't mean Best :)\", '2008-09-06T08:42:16.980', 380), (9, 47239, 0, 'Jonathan: Wow!  Thank you for all of that, you did an amazing amount of work!', '2008-09-06T12:26:30.060', 4550), (10, 45651, 6, 'It will help if you give some details of which database you are using as techniques vary.', '2008-09-06T13:38:23.647', 242)]\n",
      "PostLinks\n",
      "('Id', 'CreationDate', 'PostId', 'RelatedPostId', 'LinkTypeId')\n",
      "[(19, '2010-04-26T02:59:48.130', 109, 32412, 1), (37, '2010-04-26T02:59:48.600', 1970, 617600, 1), (42, '2010-04-26T02:59:48.647', 2154, 2451138, 1), (48, '2010-04-26T02:59:48.740', 2483, 496096, 1)]\n",
      "Posts\n",
      "('Id', 'PostTypeId', 'AcceptedAnswerId', 'CreationDate', 'Score', 'ViewCount', 'Body', 'OwnerUserId', 'LastEditorUserId', 'LastEditorDisplayName', 'LastEditDate', 'LastActivityDate', 'Title', 'Tags', 'AnswerCount', 'CommentCount', 'FavoriteCount')\n",
      "[(6, 1, 31, '2008-07-31T22:08:08.620', 261, 16799, '<p>I have an absolutely positioned <code>div</code> containing several children, one of which is a relatively positioned <code>div</code>. When I use a <strong>percentage-based width</strong> on the child <code>div</code>, it collapses to \\'0\\' width on <a href=\"http://en.wikipedia.org/wiki/Internet_Explorer_7\" rel=\"noreferrer\">Internet&nbsp;Explorer&nbsp;7</a>, but not on Firefox or Safari.</p>\\n\\n<p>If I use <strong>pixel width</strong>, it works. If the parent is relatively positioned, the percentage width on the child works.</p>\\n\\n<ol>\\n<li>Is there something I\\'m missing here?</li>\\n<li>Is there an easy fix for this besides the <em>pixel-based width</em> on the\\nchild?</li>\\n<li>Is there an area of the CSS specification that covers this?</li>\\n</ol>\\n', 9, 63550, 'Rich B', '2016-03-19T06:05:48.487', '2018-10-16T16:54:34.953', 'Percentage width child element in absolutely positioned parent on Internet Explorer 7', '<html><css><css3><internet-explorer-7>', 6, 0, 12), (9, 1, 1404, '2008-07-31T23:40:59.743', 1743, 500536, \"<p>Given a <code>DateTime</code> representing a person's birthday, how do I calculate their age in years?  </p>\\n\", 1, 3956566, 'Rich B', '2018-04-21T17:48:14.477', '2018-07-25T11:57:14.110', \"How do I calculate someone's age in C#?\", '<c#><.net><datetime>', 63, 7, 408, '2011-08-16T19:40:43.080'), (11, 1, 1248, '2008-07-31T23:55:37.967', 1382, 139190, '<p>Given a specific <code>DateTime</code> value, how do I display relative time, like:</p>\\n\\n<ul>\\n<li>2 hours ago</li>\\n<li>3 days ago</li>\\n<li>a month ago</li>\\n</ul>\\n', 1, 6479704, 'user2370523', '2017-06-04T15:51:19.780', '2018-10-05T02:38:18.890', 'Calculate relative time in C#', '<c#><datetime><time><datediff><relative-time-span>', 35, 3, 532, '2009-09-04T13:15:59.820'), (12, 2, 11, '2008-07-31T23:56:41.303', 323, '<p>Here\\'s how I do it</p>\\n\\n<pre class=\"lang-csharp prettyprint-override\"><code>var ts = new TimeSpan(DateTime.UtcNow.Ticks - dt.Ticks);\\ndouble delta = Math.Abs(ts.TotalSeconds);\\n\\nif (delta &lt; 60)\\n{\\n  return ts.Seconds == 1 ? \"one second ago\" : ts.Seconds + \" seconds ago\";\\n}\\nif (delta &lt; 120)\\n{\\n  return \"a minute ago\";\\n}\\nif (delta &lt; 2700) // 45 * 60\\n{\\n  return ts.Minutes + \" minutes ago\";\\n}\\nif (delta &lt; 5400) // 90 * 60\\n{\\n  return \"an hour ago\";\\n}\\nif (delta &lt; 86400) // 24 * 60 * 60\\n{\\n  return ts.Hours + \" hours ago\";\\n}\\nif (delta &lt; 172800) // 48 * 60 * 60\\n{\\n  return \"yesterday\";\\n}\\nif (delta &lt; 2592000) // 30 * 24 * 60 * 60\\n{\\n  return ts.Days + \" days ago\";\\n}\\nif (delta &lt; 31104000) // 12 * 30 * 24 * 60 * 60\\n{\\n  int months = Convert.ToInt32(Math.Floor((double)ts.Days / 30));\\n  return months &lt;= 1 ? \"one month ago\" : months + \" months ago\";\\n}\\nint years = Convert.ToInt32(Math.Floor((double)ts.Days / 365));\\nreturn years &lt;= 1 ? \"one year ago\" : years + \" years ago\";\\n</code></pre>\\n\\n<p>Suggestions? Comments? Ways to improve this algorithm?</p>\\n', 1, 1271898, 'GateKiller', '2018-01-12T16:10:22.637', '2018-01-12T16:10:22.637', 11, '2009-09-04T13:15:59.820')]\n",
      "Tags\n",
      "('Id', 'TagName', 'Count', 'ExcerptPostId', 'WikiPostId')\n",
      "[(1, '.net', 276857, 3624959, 3607476), (2, 'html', 789778, 3673183, 3673182), (3, 'javascript', 1723731, 3624960, 3607052), (4, 'css', 563816, 3644670, 3644669)]\n",
      "Users\n",
      "('Id', 'Reputation', 'CreationDate', 'DisplayName', 'LastAccessDate', 'WebsiteUrl', 'Location', 'AboutMe', 'Views', 'UpVotes', 'DownVotes', 'AccountId')\n",
      "[('-1', 1, '2008-07-31T00:00:00.000', 'Community', '2008-08-26T00:16:53.810', 'http://meta.stackexchange.com/', 'on the server farm', '<p>Hi, I\\'m not really a person.</p>\\n\\n<p>I\\'m a background process that helps keep this site clean!</p>\\n\\n<p>I do things like</p>\\n\\n<ul>\\n<li>Randomly poke old unanswered questions every hour so they get some attention</li>\\n<li>Own community questions and answers so nobody gets unnecessary reputation from them</li>\\n<li>Own downvotes on spam/evil posts that get permanently deleted</li>\\n<li>Own suggested edits from anonymous users</li>\\n<li><a href=\"http://meta.stackexchange.com/a/92006\">Remove abandoned questions</a></li>\\n</ul>\\n', 649, 304659, 1072783, '-1'), (1, 45009, '2008-07-31T14:22:31.287', 'Jeff Atwood', '2018-10-29T01:22:39.303', 'http://www.codinghorror.com/blog/', 'El Cerrito, CA', '<p><a href=\"http://www.codinghorror.com/blog/archives/001169.html\" rel=\"nofollow\">Stack Overflow Valued Associate #00001</a></p>\\n\\n<p>Wondering how our software development process works? <a href=\"http://www.youtube.com/watch?v=08xQLGWTSag\" rel=\"nofollow\">Take a look!</a></p>\\n\\n<p>Find me <a href=\"http://twitter.com/codinghorror\" rel=\"nofollow\">on twitter</a>, or <a href=\"http://www.codinghorror.com/blog\" rel=\"nofollow\">read my blog</a>. Don\\'t say I didn\\'t warn you <em>because I totally did</em>.</p>\\n\\n<p>However, <a href=\"http://www.codinghorror.com/blog/2012/02/farewell-stack-exchange.html\" rel=\"nofollow\">I no longer work at Stack Exchange, Inc</a>. I\\'ll miss you all. Well, <em>some</em> of you, anyway. :)</p>\\n', 431337, 3370, 1310, 'https://www.gravatar.com/avatar/51d623f33f8b83095db84ff35e15dbe8?s=128&amp;d=identicon&amp;r=PG', 1), (2, 3509, '2008-07-31T14:22:31.287', 'Geoff Dalgas', '2018-11-30T22:29:47.533', 'http://stackoverflow.com', 'Corvallis, OR', '<p>Developer on the Stack Overflow team.  Find me on</p>\\n\\n<p><a href=\"http://www.twitter.com/SuperDalgas\" rel=\"nofollow noreferrer\">Twitter</a>\\n<br><br>\\n<a href=\"http://blog.stackoverflow.com/2009/05/welcome-stack-overflow-valued-associate-00003/\">Stack Overflow Valued Associate #00003</a></p>\\n', 24377, 653, 88, 'https://i.stack.imgur.com/nDllk.png?s=256&g=1', 2), (3, 13503, '2008-07-31T14:22:31.287', 'Jarrod Dixon', '2018-11-30T18:40:21.677', 'http://jarroddixon.com', 'Raleigh, NC, United States', '<p><a href=\"http://blog.stackoverflow.com/2009/01/welcome-stack-overflow-valued-associate-00002/\">Developer on the Stack Overflow team</a>.</p>\\n\\n<p>Was dubbed <strong>SALTY SAILOR</strong> by Jeff Atwood, as filth and flarn would oft-times fly when dealing with a particularly nasty bug!</p>\\n\\n<ul>\\n<li>Twitter me: <a href=\"http://twitter.com/jarrod_dixon\" rel=\"nofollow noreferrer\">jarrod_dixon</a></li>\\n<li>Email me: jarrod.m.dixon@gmail.com</li>\\n</ul>\\n', 24701, 7349, 100, 'https://i.stack.imgur.com/2mwFl.jpg?s=256&g=1', 3)]\n",
      "Votes\n",
      "('Id', 'PostId', 'VoteTypeId', 'CreationDate')\n",
      "[(1, 1, 2, '2008-07-31T00:00:00.000'), (2, 3, 2, '2008-07-31T00:00:00.000'), (3, 2, 2, '2008-07-31T00:00:00.000'), (4, 4, 2, '2008-07-31T00:00:00.000')]\n"
     ]
    }
   ],
   "source": [
    "# refiew structure of all files\n",
    "# takes a while\n",
    "extension=\".tar.xz\"\n",
    "compression=\"xz\"\n",
    "for filename in all_files:\n",
    "    print(filename)\n",
    "    temp_bag = db.read_text(filename+extension, compression=compression).str.strip()\n",
    "    temp_bag = temp_bag.filter(lambda x: x.find(\"row\") >= 0)\n",
    "    th = temp_bag.map(xml_headers_to_tuple).take(1)[0]\n",
    "    print(th)\n",
    "    #too long for showcase only\n",
    "    #t = temp_bag.map(xml_row_to_tuple).compute()\n",
    "    #print(t[0:4])\n",
    "    tp = list(temp_bag.map(xml_row_to_tuple).take(4))\n",
    "    print(tp)\n",
    "    "
   ]
  }
 ],
 "metadata": {
  "kernelspec": {
   "display_name": "Python 3",
   "language": "python",
   "name": "python3"
  },
  "language_info": {
   "codemirror_mode": {
    "name": "ipython",
    "version": 3
   },
   "file_extension": ".py",
   "mimetype": "text/x-python",
   "name": "python",
   "nbconvert_exporter": "python",
   "pygments_lexer": "ipython3",
   "version": "3.6.7"
  }
 },
 "nbformat": 4,
 "nbformat_minor": 2
}
